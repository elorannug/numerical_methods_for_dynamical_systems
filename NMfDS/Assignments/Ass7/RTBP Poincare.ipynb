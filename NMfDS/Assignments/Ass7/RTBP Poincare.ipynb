{
 "cells": [
  {
   "cell_type": "markdown",
   "metadata": {},
   "source": [
    "### TODO\n",
    "- See how we can jit stuff here"
   ]
  },
  {
   "cell_type": "code",
   "execution_count": 1,
   "metadata": {},
   "outputs": [],
   "source": [
    "import numpy as np\n",
    "import scipy as sp\n",
    "import sys\n",
    "sys.path.append('C:/Users/rannu/OneDrive - NTNU/Desktop/VsPython/'+\\\n",
    "                'Spain/NMfDS/Assignments/Ass6')\n",
    "from custom_ODE_solver import ODE_solver\n",
    "sys.path.append('C:/Users/rannu/OneDrive - NTNU/Desktop/VsPython/'+\\\n",
    "                'Spain/NMfDS/Assignments/Ass4')\n",
    "from RTBP_definitions import r1, r2, OMEGA, ODE_R3BP, Jacobi_first_integral\n"
   ]
  },
  {
   "cell_type": "code",
   "execution_count": 2,
   "metadata": {},
   "outputs": [
    {
     "name": "stdout",
     "output_type": "stream",
     "text": [
      "Final values of the solution:\n",
      "x =  [ 1.11974848e+00  5.06660686e-13  2.31125882e-13 -2.26003646e-01]\n"
     ]
    },
    {
     "name": "stderr",
     "output_type": "stream",
     "text": [
      "c:\\Users\\rannu\\OneDrive - NTNU\\Desktop\\VsPython\\ntnusession\\lib\\site-packages\\scipy\\integrate\\_ivp\\common.py:47: UserWarning: At least one element of `rtol` is too small. Setting `rtol = np.maximum(rtol, 2.220446049250313e-14)`.\n",
      "  warn(\"At least one element of `rtol` is too small. \"\n"
     ]
    }
   ],
   "source": [
    "X0 = np.array([1.119748482176185, 0,0.,-0.2260036463376957], \n",
    "            dtype=np.float64)\n",
    "t_max = np.float64(6.219656012174353)\n",
    "eval_pts = 1000 # Integer\n",
    "mu =np.float64(0.012)\n",
    "\n",
    "sol = ODE_solver(lambda t, X: ODE_R3BP(t, mu, X), X0, t_max, eval_pts, \n",
    "                 hamiltonian=lambda X: Jacobi_first_integral(mu, X[0], X[1], \n",
    "                                                             X[2], X[3]))\n",
    "\n",
    "# Final values of the solution\n",
    "print(\"Final values of the solution:\")\n",
    "print(\"x = \", sol.y[:, -1])"
   ]
  },
  {
   "cell_type": "code",
   "execution_count": 38,
   "metadata": {},
   "outputs": [],
   "source": [
    "# Rewrite poincare_map_solve_ivp to work for RTBP defined above, \n",
    "# using the function ODE_solver\n",
    "def poincare_map_solve_ivp_R3BP(ODE_R3BP, initial_conditions, dir, \n",
    "                                step, t_span, mu):\n",
    "    # Procedure to compute when the x-axis is crossed\n",
    "    # for the first time\n",
    "    product = 1\n",
    "    time = 0\n",
    "    startPoint = np.array(initial_conditions)\n",
    "    initial_conditions = initial_conditions\n",
    "\n",
    "    while product >= 0 and abs(time) < abs(step*100):\n",
    "        solution = ODE_solver(ODE_R3BP, startPoint, t_span[1], 1000, \n",
    "                    t_min=t_span[0],\n",
    "                    hamiltonian=lambda X: Jacobi_first_integral(mu, X[0], X[1], \n",
    "                                                             X[2], X[3]))\n",
    "        Y = solution.y.T  # Transposing to match previous structure\n",
    "        product = Y[1, 1] * Y[-1, 1] # Check if x-axis is crossed\n",
    "        startPoint = Y[-1, :]\n",
    "        t_span = [t_span[0]  + dir * step, t_span[1] + dir * step]\n",
    "        time += step*dir\n",
    "    # make an error if the x-axis is never crossed\n",
    "    if abs(time) >= abs(step*100):\n",
    "        raise ValueError(\"No crossing found\" + \"\\ntime:  \" + str(time) + \\\n",
    "                                \"\\nproduct  \" + str(product))\n",
    "    \n",
    "    # Procedure to compute the exact time of the crossing\n",
    "    for i in range(100):\n",
    "        solution = ODE_solver(ODE_R3BP, initial_conditions, time, 1000, \n",
    "                 hamiltonian=lambda X: Jacobi_first_integral(mu, X[0], X[1], \n",
    "                                                             X[2], X[3]))\n",
    "        Y = solution.y.T\n",
    "        # One iteration of Newton's method.\n",
    "        difference = Y[-1, 1] / ODE_R3BP(0, Y[-1, :])[1]\n",
    "        time -= difference\n",
    "        # Make a debug printout for the above part of the loop\n",
    "        # print(\"\\nIteration\", i)\n",
    "        # print(\"Y[-1, 1]  \", Y[-1, 1])\n",
    "        # print(\"ODE_R3BP(0, Y[-1, :])[1]  \", ODE_R3BP(0, Y[-1, :])[1])\n",
    "        # print(\"Y[-1, :]  \", Y[-1, :])\n",
    "        # print(\"initial_conditions  \", initial_conditions)\n",
    "        # print(\"time:  \", time, \"\\ndifference  \", difference)\n",
    "        if i == 99:\n",
    "            raise ValueError(\"No convergence\" + \"\\ntime:  \" + str(time) + \\\n",
    "                              \"\\ndifference  \" + str(difference))\n",
    "        if abs(difference) < 1e-15:\n",
    "            #print(\"Convergence after\", i, \"iterations\")\n",
    "            break\n",
    "\n",
    "    TimeDuration = time\n",
    "    newInitial = Y[-1, :]\n",
    "    return newInitial, TimeDuration"
   ]
  },
  {
   "cell_type": "code",
   "execution_count": 43,
   "metadata": {},
   "outputs": [
    {
     "name": "stdout",
     "output_type": "stream",
     "text": [
      "newInitial =  [8.90134016e-01 3.64291930e-17 4.23164108e-14 2.39581331e-01]\n",
      "TimeDuration =  -3.1098280060876102\n"
     ]
    }
   ],
   "source": [
    "# Test poincare_map_solve_ivp_R3BP\n",
    "initial_conditions = np.array([1.119748482176185, 0,0.,-0.2260036463376957])\n",
    "dir = -1\n",
    "step = 0.1\n",
    "t_span = [0, step] # 6.219656012174353\n",
    "mu = 0.012         \n",
    "newInitial, TimeDuration1 = poincare_map_solve_ivp_R3BP(\\\n",
    "                                lambda t, X: ODE_R3BP(t, mu, X), \n",
    "                                initial_conditions, dir, step, t_span, mu)\n",
    "print(\"newInitial = \", newInitial)\n",
    "print(\"TimeDuration = \", TimeDuration1)"
   ]
  },
  {
   "cell_type": "code",
   "execution_count": 44,
   "metadata": {},
   "outputs": [
    {
     "name": "stdout",
     "output_type": "stream",
     "text": [
      "newInitial =  [ 1.11974848e+00  2.42861287e-17  8.40508219e-14 -2.26003646e-01]\n",
      "TimeDuration =  -6.219656012176599\n"
     ]
    }
   ],
   "source": [
    "newInitial, TimeDuration2 = poincare_map_solve_ivp_R3BP(lambda t, X: ODE_R3BP(t, mu, X), \n",
    "                                                       newInitial, \n",
    "                                                       dir, step, t_span, mu)\n",
    "print(\"newInitial = \", newInitial)\n",
    "print(\"TimeDuration = \", TimeDuration1 + TimeDuration2)\n",
    "#             6.219656012174353"
   ]
  },
  {
   "cell_type": "markdown",
   "metadata": {},
   "source": [
    "### NUMBA speedup tests"
   ]
  },
  {
   "cell_type": "code",
   "execution_count": 6,
   "metadata": {},
   "outputs": [],
   "source": [
    "import numba as nb"
   ]
  },
  {
   "cell_type": "code",
   "execution_count": 7,
   "metadata": {},
   "outputs": [],
   "source": [
    "X0 = np.array([1.119748482176185, 0,0.,-0.2260036463376957], \n",
    "            dtype=np.float64)\n",
    "t_max = np.float64(6.219656012174353)\n",
    "eval_pts = 1000 # Integer\n",
    "mu =np.float64(0.012)\n",
    "dir = -1\n",
    "\n",
    "sol = ODE_solver(lambda t, X: ODE_R3BP(t, mu, X), X0, t_max, eval_pts, \n",
    "                 hamiltonian=lambda X: Jacobi_first_integral(mu, X[0], X[1], \n",
    "                                                             X[2], X[3]))\n",
    "\n",
    "Y = sol.y.T\n",
    "\n",
    "def compute_product1(Y):\n",
    "    return Y[1, 1] * Y[-1, 1]\n",
    "\n",
    "\n",
    "@nb.jit\n",
    "def compute_product2(Y):\n",
    "    return Y[1, 1] * Y[-1, 1]\n",
    "\n",
    "# Final values of the solution\n",
    "# print(\"Final values of the solution:\")\n",
    "# print(\"x = \", sol.y[:, -1])"
   ]
  },
  {
   "cell_type": "code",
   "execution_count": 8,
   "metadata": {},
   "outputs": [
    {
     "name": "stdout",
     "output_type": "stream",
     "text": [
      "Run times INCLUDING compilation\n",
      "\n",
      "Slow code:\n"
     ]
    },
    {
     "name": "stderr",
     "output_type": "stream",
     "text": [
      "C:\\Users\\rannu\\AppData\\Local\\Temp\\ipykernel_4168\\2923573487.py:7: DeprecationWarning: `magic(...)` is deprecated since IPython 0.13 (warning added in 8.1), use run_line_magic(magic_name, parameter_s).\n",
      "  get_ipython().magic('timeit compute_product1(Y)')\n"
     ]
    },
    {
     "name": "stdout",
     "output_type": "stream",
     "text": [
      "274 ns ± 8.4 ns per loop (mean ± std. dev. of 7 runs, 1,000,000 loops each)\n",
      "\n",
      "Fast code:\n"
     ]
    },
    {
     "name": "stderr",
     "output_type": "stream",
     "text": [
      "C:\\Users\\rannu\\AppData\\Local\\Temp\\ipykernel_4168\\2923573487.py:10: DeprecationWarning: `magic(...)` is deprecated since IPython 0.13 (warning added in 8.1), use run_line_magic(magic_name, parameter_s).\n",
      "  get_ipython().magic('timeit -n 1000 compute_product2(Y)')\n"
     ]
    },
    {
     "name": "stdout",
     "output_type": "stream",
     "text": [
      "The slowest run took 3070.71 times longer than the fastest. This could mean that an intermediate result is being cached.\n",
      "107 µs ± 261 µs per loop (mean ± std. dev. of 7 runs, 1,000 loops each)\n",
      "\n",
      "Run times EXCLUDING compilation\n",
      "\n",
      "Slow code:\n"
     ]
    },
    {
     "name": "stderr",
     "output_type": "stream",
     "text": [
      "C:\\Users\\rannu\\AppData\\Local\\Temp\\ipykernel_4168\\2923573487.py:15: DeprecationWarning: `magic(...)` is deprecated since IPython 0.13 (warning added in 8.1), use run_line_magic(magic_name, parameter_s).\n",
      "  get_ipython().magic('timeit compute_product1(Y)')\n"
     ]
    },
    {
     "name": "stdout",
     "output_type": "stream",
     "text": [
      "273 ns ± 8.56 ns per loop (mean ± std. dev. of 7 runs, 1,000,000 loops each)\n",
      "\n",
      "Fast code:\n"
     ]
    },
    {
     "name": "stderr",
     "output_type": "stream",
     "text": [
      "C:\\Users\\rannu\\AppData\\Local\\Temp\\ipykernel_4168\\2923573487.py:18: DeprecationWarning: `magic(...)` is deprecated since IPython 0.13 (warning added in 8.1), use run_line_magic(magic_name, parameter_s).\n",
      "  get_ipython().magic('timeit compute_product2(Y)')\n"
     ]
    },
    {
     "name": "stdout",
     "output_type": "stream",
     "text": [
      "245 ns ± 3.2 ns per loop (mean ± std. dev. of 7 runs, 1,000,000 loops each)\n"
     ]
    }
   ],
   "source": [
    "\n",
    "print(\"Run times INCLUDING compilation\\n\")\n",
    "print(\"Slow code:\")\n",
    "#   % is IPython magic, invalid python code. to do the same thing, us the \n",
    "#   two lines below it...\n",
    "#%timeit go_fast_1(x)\n",
    "from IPython import get_ipython\n",
    "get_ipython().magic('timeit compute_product1(Y)')\n",
    "\n",
    "print(\"\\nFast code:\")\n",
    "get_ipython().magic('timeit -n 1000 compute_product2(Y)')\n",
    "\n",
    "print(\"\\nRun times EXCLUDING compilation\\n\")\n",
    "\n",
    "print(\"Slow code:\")\n",
    "get_ipython().magic('timeit compute_product1(Y)')\n",
    "\n",
    "print(\"\\nFast code:\")\n",
    "get_ipython().magic('timeit compute_product2(Y)')"
   ]
  }
 ],
 "metadata": {
  "kernelspec": {
   "display_name": "ntnusession",
   "language": "python",
   "name": "python3"
  },
  "language_info": {
   "codemirror_mode": {
    "name": "ipython",
    "version": 3
   },
   "file_extension": ".py",
   "mimetype": "text/x-python",
   "name": "python",
   "nbconvert_exporter": "python",
   "pygments_lexer": "ipython3",
   "version": "3.10.11"
  }
 },
 "nbformat": 4,
 "nbformat_minor": 2
}
