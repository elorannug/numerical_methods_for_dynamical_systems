{
 "cells": [
  {
   "cell_type": "code",
   "execution_count": 235,
   "metadata": {},
   "outputs": [],
   "source": [
    "import numpy as np\n",
    "import scipy as sp\n",
    "import matplotlib.pyplot as plt\n",
    "import sys\n",
    "dir_string = 'C:/Users/rannu/OneDrive - NTNU/Desktop/VsPython/'+\\\n",
    "                'Spain/NMfDS/Assignments/'\n",
    "sys.path.append(dir_string + 'Ass4')\n",
    "sys.path.append(dir_string + 'Ass6')\n",
    "sys.path.append(dir_string + 'Ass7')\n",
    "sys.path.append(dir_string + 'Ass8')\n",
    "sys.path.append(dir_string + 'Ass9')\n",
    "from RTBP_definitions import r1, r2, OMEGA, ODE_R3BP, Jacobi_first_integral\n",
    "from Lagrange_computations import compute_Lagrange_pt, compute_jacobi_const_Li\n",
    "from custom_ODE_solver import ODE_solver\n",
    "from PoincareR3BP import poincare_map_solve_ivp_R3BP\n",
    "from variational_equation_RTBP import variational_eq\n",
    "from crossings_RTBP import crossings_R3BP_by_mu"
   ]
  },
  {
   "cell_type": "markdown",
   "metadata": {},
   "source": [
    "### Initial testing of environment"
   ]
  },
  {
   "cell_type": "code",
   "execution_count": 236,
   "metadata": {},
   "outputs": [],
   "source": [
    "mu = 0.22"
   ]
  },
  {
   "cell_type": "code",
   "execution_count": 237,
   "metadata": {},
   "outputs": [
    {
     "name": "stdout",
     "output_type": "stream",
     "text": [
      "\n",
      "eigenvalues = \n",
      " 0.7412179320243198 , -0.7412179320243181\n",
      "\n",
      "Their respective normalized eigenvectors = \n",
      " [ 0.36781288 -0.71422905  0.2726295  -0.52939938] ,\n",
      " [-0.36781288 -0.71422905  0.2726295   0.52939938]\n"
     ]
    }
   ],
   "source": [
    "# print(compute_Lagrange_pt(mu, 3))\n",
    "L3 = [compute_Lagrange_pt(mu, 3), 0, 0, 0]\n",
    "L3.extend([1, 0, 0, 0, \n",
    "           0, 1, 0, 0, \n",
    "           0, 0, 1, 0, \n",
    "           0, 0, 0, 1])  # initial conditions and identity matrix\n",
    "time_span = 0\n",
    "\n",
    "# compute the Jacobian matrix of the RTBP at Li.\n",
    "# The eigenvalues of this matrix are the frequencies of the periodic orbit\n",
    "\n",
    "A = variational_eq(time_span, L3, mu, 1)[4:20].reshape(4,4)\n",
    "# print('det(A) = \\n', A)\n",
    "eigenvalues, eigenvectors = np.linalg.eig(A)\n",
    "lambda_pos = eigenvalues[3].real\n",
    "lambda_neg = eigenvalues[2].real\n",
    "eigvec_pos = eigenvectors[:,3]\n",
    "eigvec_neg = eigenvectors[:,2]\n",
    "print('\\neigenvalues = \\n', lambda_pos, \",\", lambda_neg)\n",
    "print('\\nTheir respective normalized eigenvectors = \\n', -eigvec_pos.real, \\\n",
    "      \",\\n\", eigvec_neg.real)\n",
    "# Only the real part of the eigenvectors are needed\n",
    "\n",
    "iregion = 1\n",
    "\n",
    "A = variational_eq(time_span, L3, mu, iregion)[4:20].reshape(4,4)\n",
    "eigenvalues, eigenvectors = np.linalg.eig(A)\n",
    "lambda_pos = eigenvalues[3].real\n",
    "eigvec_pos = eigenvectors[:,3]\n",
    "v = -eigvec_pos.real\n",
    "init_cond = L3[0:4] + v*10**-6\n",
    "\n",
    "\n",
    "# Find the crossing time of the unstable manifold with the Poincare section\n",
    "t0 = 0\n",
    "tmax = 0.15\n",
    "dt = 0.1\n",
    "t_span = np.arange(t0, tmax, dt)\n",
    "\n",
    "# Variables for tweaking the accuracy of the crossing time\n",
    "refinement = 20000\n",
    "refinement_fine = 300\n",
    "tol = 1e-14\n",
    "\n",
    "newInitial, TimeDuration,_ = \\\n",
    "    poincare_map_solve_ivp_R3BP(lambda t, X: ODE_R3BP(t, mu, X), init_cond, \n",
    "                                iregion, dt, t_span, mu, \n",
    "                                init_search = refinement, \n",
    "                                refinement = refinement_fine, \n",
    "                                newton_tol = tol)\n",
    "\n",
    "# print(\"\\nTime duration of the unstable manifold = \", TimeDuration)\n",
    "# print(\"\\nInitial conditions of the unstable manifold = \", newInitial)\n"
   ]
  },
  {
   "cell_type": "code",
   "execution_count": 239,
   "metadata": {},
   "outputs": [
    {
     "data": {
      "image/png": "[encoded data removed]",
      "text/plain": [
       "<Figure size 400x300 with 1 Axes>"
      ]
     },
     "metadata": {},
     "output_type": "display_data"
    }
   ],
   "source": [
    "# Solve the R3BP equations\n",
    "# t0 = 0\n",
    "# tmax = TimeDuration\n",
    "# dt = 0.01\n",
    "# t_span = np.arange(t0, tmax, dt)\n",
    "tmax_plot = TimeDuration\n",
    "t_span_plot = np.arange(t0, tmax_plot, 0.01)\n",
    "\n",
    "# Solve ode_r3bp using the custom ODE solver,  RETURNS: the solution of the \n",
    "# system of ODEs as a scipy.integrate.solve_ivp object\n",
    "sol = ODE_solver(lambda t, X: ODE_R3BP(t, mu, X), init_cond, tmax_plot, \n",
    "                 len(t_span_plot), tol=1e-12, method='DOP853', hamiltonian=0)\n",
    "\n",
    "# Extract the solution\n",
    "x = sol.y[0]\n",
    "y = sol.y[1]\n",
    "vx = sol.y[2]\n",
    "vy = sol.y[3]\n",
    "\n",
    "# plot the solution\n",
    "fig = plt.figure(figsize=(4, 3))\n",
    "ax = fig.add_subplot(111)\n",
    "ax.plot(x, y, 'b', label='x-y')\n",
    "ax.plot(x[0], y[0], 'bo', label='start')\n",
    "ax.plot(x[-1], y[-1], 'b*', label='end')\n",
    "ax.set_xlabel('x')\n",
    "ax.set_ylabel('y')\n",
    "ax.set_title('Unstable manifold of L3')\n",
    "#ax.legend()\n",
    "#ax.plot(newInitial[0], newInitial[1], 'ro', label='start')\n",
    "# plot a point at (mu, 0)\n",
    "ax.plot(mu, 0, 'ko', label='mu')\n",
    "# plot a point at (mu-1, 0)\n",
    "ax.plot(mu-1, 0, 'ko', label='mu-1')\n",
    "plt.show()"
   ]
  },
  {
   "cell_type": "code",
   "execution_count": 9,
   "metadata": {},
   "outputs": [
    {
     "name": "stdout",
     "output_type": "stream",
     "text": [
      "\n",
      "Time duration of the unstable manifold =  [32.46888568]\n",
      "\n",
      "Initial conditions of the unstable manifold = \n",
      " [[-1.93098638e+00 -3.67761377e-15 -4.45099793e-02  1.30667783e+00]]\n"
     ]
    }
   ],
   "source": [
    "# test the function\n",
    "iregion = 1\n",
    "mu = 0.1\n",
    "# Solve the variational equations\n",
    "t0 = 0\n",
    "tmax = 0.15\n",
    "dt = 0.1\n",
    "t_span = np.arange(t0, tmax, dt)\n",
    "\n",
    "refinement= 20000\n",
    "init_tol = 1e-15\n",
    "refinement_fine = 300\n",
    "tol = 1e-14\n",
    "start_cond_tol = 10**-6\n",
    "\n",
    "crossing_times, crossing_initials,_ = \\\n",
    "    crossings_R3BP_by_mu(1, 3, lambda t, X: ODE_R3BP(t, mu, X), iregion, dt, \n",
    "                         t_span, mu, refinement, init_tol, refinement_fine, \n",
    "                         tol, start_cond_tol)\n",
    "\n",
    "print(\"\\nTime duration of the unstable manifold = \", crossing_times)\n",
    "print(\"\\nInitial conditions of the unstable manifold = \\n\", crossing_initials)\n"
   ]
  },
  {
   "cell_type": "code",
   "execution_count": 10,
   "metadata": {},
   "outputs": [
    {
     "name": "stdout",
     "output_type": "stream",
     "text": [
      "number of mu values =  1399\n",
      "number of mu values in list =  1400\n",
      "\n",
      "number of mu values =  350\n",
      "number of mu values in list =  350\n",
      "\n",
      "number of mu values =  440\n",
      "number of mu values in list =  440\n"
     ]
    }
   ],
   "source": [
    "# mu interval calculations\n",
    "#  xincmu 0.00001, mu in (0.001,0.015)\n",
    "print(\"number of mu values = \", int((0.015-0.001)/0.00001))\n",
    "mu = np.arange(0.001, 0.015, 0.00001)\n",
    "print(\"number of mu values in list = \", len(mu))\n",
    "# xincmu 0.0001, mu in (0.015,0.05)\n",
    "print(\"\\nnumber of mu values = \", int((0.05-0.015)/0.0001))\n",
    "mu = np.arange(0.015, 0.05, 0.0001)\n",
    "print(\"number of mu values in list = \", len(mu))\n",
    "# xincmu 0.001, mu in (0.05,0.49)\n",
    "print(\"\\nnumber of mu values = \", int((0.49-0.05)/0.001))\n",
    "mu = np.arange(0.05, 0.49, 0.001)\n",
    "print(\"number of mu values in list = \", len(mu))"
   ]
  },
  {
   "cell_type": "code",
   "execution_count": 11,
   "metadata": {},
   "outputs": [],
   "source": [
    "# TEMPORARY\n",
    "def crossings_R3BP_TEMP(no_crossings, ODE_R3BP, initial_conditions, dir,\n",
    "                                step, t_span, mu, init_search=100, \n",
    "                                refinement=100, newton_tol = 1e-15):\n",
    "    crossing_times = np.zeros(no_crossings)\n",
    "    crossing_initials = np.zeros((no_crossings, 4))\n",
    "    new_initial, time_duration = poincare_map_solve_ivp_R3BP\\\n",
    "                                                (ODE_R3BP, initial_conditions, dir,\n",
    "                                                step, t_span, mu, init_search, \n",
    "                                                refinement, newton_tol)\n",
    "    crossing_times[0] = time_duration\n",
    "    crossing_initials[0] = new_initial\n",
    "\n",
    "    for i in range(1, no_crossings):\n",
    "        new_initial, time_duration = poincare_map_solve_ivp_R3BP\\\n",
    "                                        (ODE_R3BP, crossing_initials[i-1], dir,\n",
    "                                        step, t_span, mu, init_search, \n",
    "                                        refinement, newton_tol)\n",
    "        crossing_times[i] = time_duration\n",
    "        crossing_initials[i] = new_initial\n",
    "    \n",
    "    return crossing_times, crossing_initials\n",
    "\n",
    "def crossings_R3BP_by_mu_TEMP(no_crossings, L123, ODE_R3BP, dir,\n",
    "                                step, t_span, mu, init_search=100, \n",
    "                                refinement=100, newton_tol = 1e-15,\n",
    "                                start_cond_tol = 10**-6):\n",
    "    Li = [compute_Lagrange_pt(mu, L123), 0, 0, 0] \n",
    "    Li.extend([1, 0, 0, 0, \n",
    "               0, 1, 0, 0, \n",
    "               0, 0, 1, 0, \n",
    "               0, 0, 0, 1])  # initial conditions and identity matrix\n",
    "    time_span = 0\n",
    "\n",
    "    # compute the Jacobian matrix of the RTBP at Li.\n",
    "    # The eigenvalues of this matrix are the frequencies of the periodic orbit\n",
    "\n",
    "    A = variational_eq(t_span[0], Li, mu, 1)[4:20].reshape(4,4)\n",
    "    eigenvalues, eigenvectors = np.linalg.eig(A)\n",
    "    lambda_pos = eigenvalues[3].real\n",
    "    lambda_neg = eigenvalues[2].real\n",
    "    eigvec_pos = eigenvectors[:,3].real\n",
    "    eigvec_neg = eigenvectors[:,2].real\n",
    "    if dir == 1:\n",
    "        if eigvec_pos[1] > 0:\n",
    "            eigvec_pos = -eigvec_pos\n",
    "        v = eigvec_pos\n",
    "    elif dir == -1:\n",
    "        v = eigvec_neg\n",
    "    else:\n",
    "        raise ValueError(\"Direction must be 1 or -1\")\n",
    "    init_cond = Li[0:4] + v*start_cond_tol\n",
    "\n",
    "    crossing_times, crossing_initials = \\\n",
    "        crossings_R3BP_TEMP(no_crossings, ODE_R3BP, init_cond, dir, step, t_span, \n",
    "                       mu, init_search, refinement, newton_tol)\n",
    "    \n",
    "    return crossing_times, crossing_initials"
   ]
  },
  {
   "cell_type": "code",
   "execution_count": 18,
   "metadata": {},
   "outputs": [],
   "source": [
    "from tqdm import tqdm # for the progress bar\n",
    "def crossing_times_and_initials_by_mu(mu_list, Li, iregion, dt, t_span, \n",
    "                                      refinement, init_tol, refinement_fine,\n",
    "                                      tol, start_cond_tol):\n",
    "    crossing_times = np.zeros(len(mu_list))\n",
    "    crossing_initials = np.zeros((len(mu_list), 4))\n",
    "    for j, mu_val in tqdm(enumerate(mu_list, start=0)):\n",
    "        crossing_times_mu, crossing_initials_mu,_ = \\\n",
    "            crossings_R3BP_by_mu(1, Li, lambda t, X: ODE_R3BP(t, mu_val, X),\n",
    "                                iregion, dt, t_span, mu_val, \n",
    "                                refinement, init_tol, refinement_fine, tol,\n",
    "                                start_cond_tol)\n",
    "        crossing_times[j] = crossing_times_mu\n",
    "        crossing_initials[j] = crossing_initials_mu\n",
    "    return crossing_times, crossing_initials"
   ]
  },
  {
   "cell_type": "code",
   "execution_count": 13,
   "metadata": {},
   "outputs": [],
   "source": [
    "# # test mu of only 5 different mu values\n",
    "# mu_list = np.arange(0.001, 0.015, 0.005) \n",
    "# print(\"number of mu values = \", len(mu_list))\n",
    "# # test the function\n",
    "# iregion = 1\n",
    "\n",
    "# # Solve the variational equations\n",
    "# t0 = 0\n",
    "# tmax = 30\n",
    "# dt = 15\n",
    "# t_span = np.arange(t0, tmax, dt)\n",
    "\n",
    "# # Variables for tweaking the accuracy of the crossing time\n",
    "# refinement = 2000\n",
    "# refinement_fine = 100\n",
    "# init_tol = 1e-7\n",
    "# start_cond_tol = 10**-5\n",
    "\n",
    "# # tol for newton solver:\n",
    "# tol = 1e-2 # even a relatively large tolerance gives good results\n",
    "\n",
    "# # Test the function\n",
    "# crossing_times, crossing_initials = \\\n",
    "#     crossing_times_and_initials_by_mu(mu_list, 3, 1, dt, t_span, \n",
    "#                                       refinement, init_tol, refinement_fine, \n",
    "#                                       tol, start_cond_tol)"
   ]
  },
  {
   "cell_type": "code",
   "execution_count": 14,
   "metadata": {},
   "outputs": [],
   "source": [
    "# print(\"\\nTime duration of the unstable manifold =\\n \", crossing_times)\n",
    "# print(\"\\nInitial conditions of the unstable manifold =\\n \", crossing_initials)"
   ]
  },
  {
   "cell_type": "code",
   "execution_count": 15,
   "metadata": {},
   "outputs": [],
   "source": [
    "# # plot for mu vs vx, aka the x-component of the velocity on \n",
    "# # the interval (0.001,.5) using the previously defined mu_list\n",
    "# # against crossing_initials[:,2]\n",
    "\n",
    "# # plot the solution\n",
    "# fig = plt.figure(figsize=(4, 3))\n",
    "# ax = fig.add_subplot(111)\n",
    "# ax.scatter(mu_list, crossing_initials[:,2], color='b', label='x-y', s=1)\n",
    "# ax.set_xlabel('mu')\n",
    "# ax.set_ylabel(\"x'\")\n",
    "# ax.set_title('Unstable manifold of L3')\n",
    "# plt.show()"
   ]
  },
  {
   "cell_type": "code",
   "execution_count": 21,
   "metadata": {},
   "outputs": [
    {
     "name": "stdout",
     "output_type": "stream",
     "text": [
      "number of mu values =  35\n"
     ]
    },
    {
     "name": "stderr",
     "output_type": "stream",
     "text": [
      "35it [00:10,  3.45it/s]\n"
     ]
    }
   ],
   "source": [
    "# test mu of only 5 different mu values\n",
    "mu_list = np.arange(0.015, 0.05, 0.001)\n",
    "print(\"number of mu values = \", len(mu_list))\n",
    "\n",
    "iregion = 1\n",
    "\n",
    "t0 = 0\n",
    "tmax = 30\n",
    "dt = 15\n",
    "t_span = np.arange(t0, tmax, dt)\n",
    "\n",
    "# Variables for tweaking the accuracy of the crossing time\n",
    "refinement = 2000\n",
    "refinement_fine = 25\n",
    "init_tol = 1e-7\n",
    "start_cond_tol = 10**-5\n",
    "\n",
    "# tol for newton solver:\n",
    "tol = 1e-4 # even a relatively large tolerance gives good results\n",
    "\n",
    "# Test the function\n",
    "crossing_times, crossing_initials = \\\n",
    "    crossing_times_and_initials_by_mu(mu_list, 3, 1, dt, t_span, \n",
    "                                      refinement, init_tol, refinement_fine, \n",
    "                                      tol, start_cond_tol)"
   ]
  },
  {
   "cell_type": "code",
   "execution_count": null,
   "metadata": {},
   "outputs": [
    {
     "name": "stdout",
     "output_type": "stream",
     "text": [
      "\n",
      "Time duration of the unstable manifold =\n",
      "  [ 73.34046733  75.70437521 106.66873441  75.15066181 116.93627628\n",
      "  89.33486241   0.56574898  90.45123552  74.67754147  59.58856133\n",
      "  58.94850249  58.31441112  57.69332707  62.61274139  70.44386336\n",
      "  61.93723326  61.97435682 139.89701963 133.78254639  66.70178607\n",
      "  94.08056167 -27.44362898  61.54510806  60.35748558 120.09455492\n",
      "  80.60544251  74.73625509   3.63101629  82.7142811   73.65086351\n",
      " 115.49968666  93.84565152   4.47312528  88.81280584  75.06894821\n",
      "  58.15606049  75.04962063  59.28166315 108.44612304  61.14386106\n",
      "  44.8517293   44.55273005   1.36272938  47.25604668  45.16225232\n",
      "  44.97469886  44.8423584   60.76843262  60.24153015   3.01573313\n",
      "  89.16204175  59.37905412  74.38745229  44.48068304  41.17930762\n",
      "  40.95327566  40.73130612  47.41421078  45.24364297  46.97703851\n",
      "  39.88172807   2.56540823  53.00892114   2.0149786   46.00456015\n",
      "  45.82396507  45.64705279  45.47358768  45.30337871  45.13626812]\n",
      "\n",
      "Initial conditions of the unstable manifold =\n",
      "  [[-1.18654430e+00  5.27814155e-06 -1.94283887e-01  3.78885015e-01]\n",
      " [ 1.50736501e+00  7.19187920e-06 -1.14731375e-01 -7.58786346e-01]\n",
      " [-9.82525818e-01  1.44097831e-04 -7.57901914e-01  4.57709972e+00]\n",
      " [ 1.27456359e+00 -6.41551315e-06  1.16986355e-01 -4.15284695e-01]\n",
      " [-9.26794954e-01 -4.96674852e-06  1.86255028e-01  7.03755946e-01]\n",
      " [-2.14537211e+00  1.83250953e-09 -1.21884012e-01  1.58394612e+00]\n",
      " [ 1.00750398e+00 -2.97176754e-05  9.29685171e-07 -6.42242608e-06]\n",
      " [ 4.54038841e+00 -6.07801853e-05  9.43959631e-02 -4.24600235e+00]\n",
      " [-9.84326158e-01  1.89801851e-01 -2.34860024e-01 -2.28840929e-01]\n",
      " [-1.12349980e+00  3.01080677e-06 -4.64723776e-01  1.23213311e-01]\n",
      " [-1.15164934e+00  7.49117291e-05 -4.26420869e-01  1.74241122e-01]\n",
      " [-1.16761498e+00  1.00245405e-07 -4.08118332e-01  2.07501290e-01]\n",
      " [-1.17704980e+00  6.67097857e-06 -3.96128574e-01  2.32228390e-01]\n",
      " [ 1.81273617e+00  2.43449044e-08 -8.96908347e-02 -1.16808671e+00]\n",
      " [-2.01221691e+00  1.38757266e-07 -1.20783291e-01  1.42004724e+00]\n",
      " [ 1.49813164e+00  8.77608001e-05 -1.64943834e-01 -7.33306448e-01]\n",
      " [ 1.27141969e+00  1.90225983e-08 -1.85147911e-01 -3.80630192e-01]\n",
      " [-1.34028520e+00  7.64104046e-02 -5.31610835e-01  2.28793374e-01]\n",
      " [ 5.93258237e+00 -1.99294001e-04  1.97765763e-01 -5.69822357e+00]\n",
      " [ 1.06981012e+00  5.06700429e-05 -5.06880354e-02 -8.84810217e-02]\n",
      " [-1.18018862e+00  4.53484683e-06 -3.80571283e-01  2.91048244e-01]\n",
      " [ 1.01062435e+00  1.51143878e-06 -6.69135721e-08 -3.89347657e-07]\n",
      " [ 1.32418593e+00  9.31633563e-07 -1.23459062e-01 -4.85207055e-01]\n",
      " [ 1.68442051e+00  5.15577283e-07 -4.12959253e-02 -1.00169286e+00]\n",
      " [-1.21294514e+00  1.06454021e-05 -2.24230444e-01  4.34110016e-01]\n",
      " [-4.44796451e+00  8.35862645e-07 -3.23906714e-01  4.13550598e+00]\n",
      " [-6.37971684e+00  1.07713637e-06 -2.28948666e-02  6.16328024e+00]\n",
      " [ 1.01188630e+00 -6.90914055e-05  3.41182301e-06 -1.87352088e-05]\n",
      " [ 2.37509648e+01 -1.45256783e-06  6.97909605e-01 -2.36786081e+01]\n",
      " [-2.57767202e+00  2.46543419e-07 -1.65467235e-01  2.09015125e+00]\n",
      " [-1.68439978e+00  1.12874773e-08 -2.95436662e-01  9.67223859e-01]\n",
      " [ 7.39740769e+00 -1.11572441e-04  1.72255009e-01 -7.20638527e+00]\n",
      " [ 1.01293230e+00 -9.09851930e-05  4.88332799e-06 -2.57152392e-05]\n",
      " [ 2.74756393e+00  1.19515461e-08 -1.74624084e-01 -2.28413196e+00]\n",
      " [-3.68427098e-01 -1.84848249e-05  8.62666030e-01 -1.14068142e+00]\n",
      " [ 8.89463432e-01  7.92678331e-08 -1.30665634e-01  1.85948137e-01]\n",
      " [-3.98600476e-02 -1.04026459e-07  2.19294355e+00 -4.33299479e+00]\n",
      " [-4.59035073e+00  1.84496267e-07 -2.84509771e-01  4.28875781e+00]\n",
      " [-6.91777043e-01  4.79141051e-07 -3.79402632e-01 -4.58899910e-01]\n",
      " [ 4.58587218e+00 -1.15653695e-05  9.81429402e-02 -4.29218147e+00]\n",
      " [-1.33871277e+00 -2.58744103e-05  1.98912867e-01  5.56669612e-01]\n",
      " [-1.34582524e+00 -2.60192556e-05  1.94650604e-01  5.66188898e-01]\n",
      " [ 1.01500531e+00 -3.85670113e-05  2.40142005e-06 -1.17319177e-05]\n",
      " [ 6.62137876e-01 -3.33211283e-07  5.88488919e-01  4.24978776e-01]\n",
      " [-9.47653118e-01 -1.16298468e-04  1.78553802e+00  1.20442762e+00]\n",
      " [-9.25448634e-01 -3.93010986e-06  1.17534957e+00  6.78847293e-01]\n",
      " [-8.72476278e-01 -3.64681659e-05  7.70886893e-01  3.01837984e-01]\n",
      " [-6.86365561e-02  1.59824117e-07 -1.11256192e+00 -3.70995343e+00]\n",
      " [-4.23400222e-01  9.44740856e-08 -5.27085889e-01 -1.07895957e+00]\n",
      " [ 1.01646909e+00 -6.61570335e-05  4.51599908e-06 -2.10631305e-05]\n",
      " [ 1.73821017e+00  4.03138055e-07 -3.30128086e-01 -1.01621257e+00]\n",
      " [-7.98104712e+00  3.30764671e-08 -3.31870277e-01  7.79726167e+00]\n",
      " [ 2.40771037e+01 -6.89764179e-08  7.05937668e-01 -2.40052222e+01]\n",
      " [-1.59431855e+00  1.79700492e-06 -7.69155423e-01  4.59600718e-01]\n",
      " [-1.43021445e+00 -2.66207794e-06  1.49789963e-01  6.78567877e-01]\n",
      " [-1.43620523e+00 -7.17914710e-09  1.46911369e-01  6.86491105e-01]\n",
      " [-1.44213799e+00 -8.77546686e-07  1.44088617e-01  6.94329558e-01]\n",
      " [ 4.65031196e+00 -2.74369619e-07  8.13804095e-01 -4.28374275e+00]\n",
      " [-1.08014386e+00  3.09603222e-01 -3.29281739e-01 -1.17508388e-01]\n",
      " [ 4.27622074e+00 -1.64326675e-06  7.27584015e-01 -3.89626046e+00]\n",
      " [-1.46531805e+00 -4.28285119e-06  1.33325763e-01  7.24870334e-01]\n",
      " [ 1.01896692e+00 -6.01718185e-05  4.72563094e-06 -2.05339426e-05]\n",
      " [ 7.45412681e+00 -2.32966764e-07  4.94048892e-01 -7.24861939e+00]\n",
      " [ 1.01938105e+00 -5.01519831e-05  4.02462752e-06 -1.72980270e-05]\n",
      " [ 3.58013726e+00 -6.09548352e-06  5.55560603e-01 -3.16575468e+00]\n",
      " [ 3.47180273e+00 -3.05707050e-05  5.27668962e-01 -3.05046531e+00]\n",
      " [ 3.37103101e+00 -8.93704151e-06  5.01520087e-01 -2.94271574e+00]\n",
      " [ 3.27695461e+00 -3.95561072e-07  4.76884883e-01 -2.84164930e+00]\n",
      " [ 3.18886355e+00 -2.72323173e-04  4.53373088e-01 -2.74659952e+00]\n",
      " [ 3.10597454e+00 -6.31425704e-06  4.31563100e-01 -2.65664657e+00]]\n"
     ]
    }
   ],
   "source": [
    "print(\"\\nTime duration of the unstable manifold =\\n \", crossing_times)\n",
    "print(\"\\nInitial conditions of the unstable manifold =\\n \", crossing_initials)"
   ]
  },
  {
   "cell_type": "code",
   "execution_count": 22,
   "metadata": {},
   "outputs": [
    {
     "data": {
      "image/png": "[encoded data removed]",
      "text/plain": [
       "<Figure size 800x600 with 1 Axes>"
      ]
     },
     "metadata": {},
     "output_type": "display_data"
    }
   ],
   "source": [
    "# plot for mu vs vx, aka the x-component of the velocity on \n",
    "# the interval (0.001,.5) using the previously defined mu_list\n",
    "# against crossing_initials[:,2]\n",
    "\n",
    "# plot the solution\n",
    "fig = plt.figure(figsize=(8, 6))\n",
    "ax = fig.add_subplot(111)\n",
    "ax.scatter(mu_list, crossing_initials[:,2], color='b', label='x-y', s=0.5)\n",
    "ax.set_xlabel('mu')\n",
    "ax.set_ylabel(\"x'\")\n",
    "ax.set_title('Unstable manifold of L3')\n",
    "plt.show()"
   ]
  }
 ],
 "metadata": {
  "kernelspec": {
   "display_name": "ntnusession",
   "language": "python",
   "name": "python3"
  },
  "language_info": {
   "codemirror_mode": {
    "name": "ipython",
    "version": 3
   },
   "file_extension": ".py",
   "mimetype": "text/x-python",
   "name": "python",
   "nbconvert_exporter": "python",
   "pygments_lexer": "ipython3",
   "version": "3.10.11"
  }
 },
 "nbformat": 4,
 "nbformat_minor": 2
}
