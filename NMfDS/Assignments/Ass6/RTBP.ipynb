{
 "cells": [
  {
   "cell_type": "code",
   "execution_count": 1,
   "metadata": {},
   "outputs": [],
   "source": [
    "import numpy as np\n",
    "import scipy as sp\n",
    "import sys\n",
    "sys.path.append('C:/Users/rannu/OneDrive - NTNU/Desktop/VsPython/Spain/'+\\\n",
    "                'NMfDS/Assignments/Ass4')\n",
    "from RTBP_definitions import r1, r2, OMEGA, ODE_R3BP, Jacobi_first_integral"
   ]
  },
  {
   "cell_type": "markdown",
   "metadata": {},
   "source": [
    "### Part A)"
   ]
  },
  {
   "cell_type": "code",
   "execution_count": 2,
   "metadata": {},
   "outputs": [],
   "source": [
    "def ODE_solver(func, x0, t_max, eval_pts, tol=1e-12, t_min=0, method='DOP853', hamiltonian=0):\n",
    "    # Variable explanation:\n",
    "    # func: the function f in the system of ODEs\n",
    "    # hamiltonian: the hamiltonian of the system\n",
    "    # x0: the initial condition, a vector of size n\n",
    "    # t_max: the maximum time\n",
    "    # eval_pts: number of points at which the solution is evaluated\n",
    "    # tol: tolerance for checking if the hamiltonian is constant\n",
    "    # t_min: the minimum time\n",
    "    # method: the method used to solve the system of ODEs\n",
    "\n",
    "    # RETURNS: the solution of the system of ODEs as a scipy.integrate.solve_ivp object\n",
    "\n",
    "    t_eval = np.linspace(t_min, t_max, eval_pts)\n",
    "\n",
    "    sol = sp.integrate.solve_ivp(\n",
    "        func, [t_min, t_max], x0, method=method, t_eval=t_eval, atol=1e-16, rtol=1e-18)\n",
    "\n",
    "    # Check if the hamiltonian remains constant for all points, by checking the error. break iff error > tol\n",
    "    # Also chek the determinant of the matrix [[x3, x4], [x5, x6]]\n",
    "    if hamiltonian == 0:\n",
    "        print(\"Warning: No hamiltonian given. The hamiltonian will not be checked for constancy.\")\n",
    "    else:\n",
    "        for i in range(len(sol.t)):\n",
    "            if abs(hamiltonian(sol.y[:, i]) - hamiltonian(x0)) > tol:\n",
    "                print(\"Hamiltonian is not constant for all points. Error = \", abs(\n",
    "                    hamiltonian(sol.y[:, i]) - hamiltonian(x0)))\n",
    "                print(\"Hamiltonian at x0 = \", hamiltonian(x0))\n",
    "                print(\"Hamiltonian at x = \", hamiltonian(sol.y[:, i]))\n",
    "                break\n",
    "    return sol"
   ]
  },
  {
   "cell_type": "code",
   "execution_count": 3,
   "metadata": {},
   "outputs": [
    {
     "name": "stdout",
     "output_type": "stream",
     "text": [
      "Final values of the solution:\n",
      "x =  [ 1.11974848e+00  5.06660686e-13  2.31125882e-13 -2.26003646e-01]\n"
     ]
    },
    {
     "name": "stderr",
     "output_type": "stream",
     "text": [
      "c:\\Users\\rannu\\OneDrive - NTNU\\Desktop\\VsPython\\ntnusession\\lib\\site-packages\\scipy\\integrate\\_ivp\\common.py:47: UserWarning: At least one element of `rtol` is too small. Setting `rtol = np.maximum(rtol, 2.220446049250313e-14)`.\n",
      "  warn(\"At least one element of `rtol` is too small. \"\n"
     ]
    }
   ],
   "source": [
    "X0 = np.array([1.119748482176185, 0,0.,-0.2260036463376957], dtype=np.float64)\n",
    "t_max = np.float64(6.219656012174353)\n",
    "eval_pts = 1000 # Integer\n",
    "mu =np.float64(0.012)\n",
    "\n",
    "\n",
    "\n",
    "sol = ODE_solver(lambda t, X: ODE_R3BP(t, mu, X), X0, t_max, eval_pts, \n",
    "                 hamiltonian=lambda X: Jacobi_first_integral(mu, X[0], X[1], \n",
    "                                                             X[2], X[3]))\n",
    "\n",
    "# Final values of the solution\n",
    "print(\"Final values of the solution:\")\n",
    "print(\"x = \", sol.y[:, -1])"
   ]
  },
  {
   "cell_type": "code",
   "execution_count": 4,
   "metadata": {},
   "outputs": [
    {
     "name": "stdout",
     "output_type": "stream",
     "text": [
      "Final values of the solution:\n",
      "x =  [ 1.11974848e+00 -5.06660686e-13 -2.31125882e-13 -2.26003646e-01]\n"
     ]
    }
   ],
   "source": [
    "# Check if it also works backwards in time\n",
    "t_max = np.float64(-6.219656012174353)\n",
    "sol = ODE_solver(lambda t, X: ODE_R3BP(t, mu, X), X0, t_max, eval_pts, \n",
    "                 hamiltonian=lambda X: Jacobi_first_integral(mu, X[0], X[1], \n",
    "                                                             X[2], X[3]))\n",
    "\n",
    "# Final values of the solution\n",
    "print(\"Final values of the solution:\")\n",
    "print(\"x = \", sol.y[:, -1])"
   ]
  },
  {
   "cell_type": "code",
   "execution_count": 5,
   "metadata": {},
   "outputs": [
    {
     "name": "stdout",
     "output_type": "stream",
     "text": [
      "Hamiltonian is not constant for all points. Error =  2.2884417623547648e-05\n",
      "Hamiltonian at x0 =  1.5148358065775753\n",
      "Hamiltonian at x =  1.5148129221599518\n",
      "Final values of the solution:\n",
      "x =  [ 1.11974848e+00 -5.06660686e-13 -2.31125882e-13 -2.26003646e-01]\n"
     ]
    }
   ],
   "source": [
    "#Hamiltonian system of ODE associated to the Hamitonian function H(x, y, px, py)\n",
    "def ODE_Hamiltonian(mu, x1, x2, y1, y2):\n",
    "    return (y1**2 + y2**2) / 2 + x2 * y1 - x1 * y2 \\\n",
    "            - (1 - mu) / r1(mu, x1, x2) - mu / r2(mu, x1, x2)\n",
    "\n",
    "px = lambda X: X[2] - X[1]\n",
    "py = lambda X: X[3] - X[0]\n",
    "\n",
    "sol = ODE_solver(lambda t, X: ODE_R3BP(t, mu, X), X0, t_max, eval_pts, \n",
    "                 hamiltonian=lambda X: ODE_Hamiltonian(mu, X[0], X[1], X[2] \\\n",
    "                                                       - X[1], X[3] - X[0]))\n",
    "\n",
    "# Final values of the solution\n",
    "print(\"Final values of the solution:\")\n",
    "print(\"x = \", sol.y[:, -1])"
   ]
  },
  {
   "cell_type": "markdown",
   "metadata": {},
   "source": [
    "Assignment 6 finished."
   ]
  },
  {
   "cell_type": "markdown",
   "metadata": {},
   "source": [
    "### Now, JIT!"
   ]
  },
  {
   "cell_type": "code",
   "execution_count": 6,
   "metadata": {},
   "outputs": [],
   "source": [
    "sys.path.append('C:/Users/rannu/OneDrive - NTNU/Desktop/VsPython/Spain/\\\n",
    "                NMfDS/Assignments/Ass4')\n",
    "from RTBP_definitions import r1, r2, OMEGA, ODE_R3BP, Jacobi_first_integral\n",
    "import RTBP_definitions_JIT as RTBP_JIT\n",
    "# For the JIT compilation:\n",
    "import numba as nb\n",
    "# \"freeze\" some portion of a function's arguments and/or keywords \n",
    "# resulting in a new object with a simplified signature:\n",
    "# from functools import partial"
   ]
  },
  {
   "cell_type": "code",
   "execution_count": 7,
   "metadata": {},
   "outputs": [
    {
     "name": "stdout",
     "output_type": "stream",
     "text": [
      "hia\n"
     ]
    }
   ],
   "source": [
    "RTBP_JIT.hi()"
   ]
  },
  {
   "cell_type": "code",
   "execution_count": 8,
   "metadata": {},
   "outputs": [],
   "source": [
    "@nb.jit\n",
    "def r1_JIT(mu, x, y):\n",
    "    return np.sqrt((x - mu)**2 + y**2)\n",
    "\n",
    "\n",
    "@nb.jit\n",
    "def r2_JIT(mu, x, y):\n",
    "    return np.sqrt((x-mu+1)**2 + y**2)\n",
    "\n",
    "\n",
    "@nb.jit  # Set \"nopython\" mode for best performance, equivalent to @njit\n",
    "def OMEGA_JIT(mu, x, y):\n",
    "    return 0.5 * (x**2 + y**2) + (1 - mu) / r1(mu, x, y) + mu / r2(mu, x, y) \\\n",
    "        + 0.5 * (1 - mu) * mu\n",
    "\n",
    "\n",
    "@nb.jit  # Set \"nopython\" mode for best performance, equivalent to @njit\n",
    "def ODE_R3BP_JIT(t, X, mu):\n",
    "    # ODEs of the restricted three body problem\n",
    "    return [X[2], X[3], 2*X[3] + X[0] - (1 - mu)*(X[0] - mu) /\n",
    "            r1(mu, X[0], X[1])**3 - mu * (X[0] - mu + 1) /\n",
    "            r2(mu, X[0], X[1])**3, -2*X[2] + X[1] - (1 - mu) * X[1]\n",
    "            / r1(mu, X[0], X[1])**3 - mu * X[1] / r2(mu, X[0], X[1])**3]\n",
    "\n",
    "\n",
    "@nb.jit  # Set \"nopython\" mode for best performance, equivalent to @njit\n",
    "def Jacobi_first_integral_JIT(X, mu):\n",
    "    x = X[0]\n",
    "    y = X[1]\n",
    "    vx = X[2]\n",
    "    vy = X[3]\n",
    "    # Function to compute the Jacobi first integral\n",
    "    # This should be constant for a given value of mu\n",
    "    return 2*OMEGA(mu, x, y) - (vx**2 + vy**2)"
   ]
  },
  {
   "cell_type": "code",
   "execution_count": 9,
   "metadata": {},
   "outputs": [],
   "source": [
    "# # Define ODE function for R3BP using the global variable\n",
    "# @nb.jit\n",
    "# def ODE_R3BP_with_mu(t, X):\n",
    "#     return ODE_R3BP_JIT(t, mu, X)\n",
    "\n",
    "# # Define Hamiltonian function using the global variable\n",
    "# @nb.jit\n",
    "# def Hamiltonian_with_mu(X):\n",
    "#     return Jacobi_first_integral_JIT(mu, X[0], X[1], X[2], X[3])\n"
   ]
  },
  {
   "cell_type": "code",
   "execution_count": 14,
   "metadata": {},
   "outputs": [],
   "source": [
    "#@nb.jit(nopython=True)\n",
    "def ODE_solver_JIT(func, x0, t_max, eval_pts, mu, tol=1e-12, t_min=0, method='DOP853', hamiltonian=0):\n",
    "    # Variable explanation:\n",
    "    # func: the function f in the system of ODEs\n",
    "    # hamiltonian: the hamiltonian of the system\n",
    "    # x0: the initial condition, a vector of size n\n",
    "    # t_max: the maximum time\n",
    "    # eval_pts: number of points at which the solution is evaluated\n",
    "    # tol: tolerance for checking if the hamiltonian is constant\n",
    "    # t_min: the minimum time\n",
    "    # method: the method used to solve the system of ODEs\n",
    "\n",
    "    # RETURNS: the solution of the system of ODEs as a scipy.integrate.solve_ivp object\n",
    "\n",
    "    t_eval = np.linspace(t_min, t_max, eval_pts, dtype=np.float64)\n",
    "\n",
    "    sol = sp.integrate.solve_ivp(\n",
    "        func, [t_min, t_max], x0, method=method, t_eval=t_eval, atol=1e-16, rtol=1e-18)\n",
    "\n",
    "    # Check if the hamiltonian remains constant for all points, by checking the error. break iff error > tol\n",
    "    # Also chek the determinant of the matrix [[x3, x4], [x5, x6]]\n",
    "    if hamiltonian == 0:\n",
    "        print(\"Warning: No hamiltonian given. The hamiltonian will not be checked for constancy.\")\n",
    "    else:\n",
    "        for i in range(len(sol.t)):\n",
    "            if abs(hamiltonian(sol.y[:, i]) - hamiltonian(x0)) > tol:\n",
    "                print(\"Hamiltonian is not constant for all points. Error = \", abs(\n",
    "                    hamiltonian(sol.y[:, i]) - hamiltonian(x0)))\n",
    "                print(\"Hamiltonian at x0 = \", hamiltonian(x0))\n",
    "                print(\"Hamiltonian at x = \", hamiltonian(sol.y[:, i]))\n",
    "                break\n",
    "    return sol"
   ]
  },
  {
   "cell_type": "code",
   "execution_count": 15,
   "metadata": {},
   "outputs": [
    {
     "name": "stderr",
     "output_type": "stream",
     "text": [
      "c:\\Users\\rannu\\OneDrive - NTNU\\Desktop\\VsPython\\ntnusession\\lib\\site-packages\\scipy\\integrate\\_ivp\\common.py:47: UserWarning: At least one element of `rtol` is too small. Setting `rtol = np.maximum(rtol, 2.220446049250313e-14)`.\n",
      "  warn(\"At least one element of `rtol` is too small. \"\n"
     ]
    },
    {
     "ename": "TypeError",
     "evalue": "not enough arguments: expected 3, got 2",
     "output_type": "error",
     "traceback": [
      "\u001b[1;31m---------------------------------------------------------------------------\u001b[0m",
      "\u001b[1;31mTypeError\u001b[0m                                 Traceback (most recent call last)",
      "\u001b[1;32mc:\\Users\\rannu\\OneDrive - NTNU\\Desktop\\VsPython\\Spain\\NMfDS\\Assignments\\Ass6\\RTBP.ipynb Cell 14\u001b[0m line \u001b[0;36m5\n\u001b[0;32m      <a href='vscode-notebook-cell:/c%3A/Users/rannu/OneDrive%20-%20NTNU/Desktop/VsPython/Spain/NMfDS/Assignments/Ass6/RTBP.ipynb#X15sZmlsZQ%3D%3D?line=0'>1</a>\u001b[0m \u001b[39m#print(ODE_solver_JIT.signatures)\u001b[39;00m\n\u001b[0;32m      <a href='vscode-notebook-cell:/c%3A/Users/rannu/OneDrive%20-%20NTNU/Desktop/VsPython/Spain/NMfDS/Assignments/Ass6/RTBP.ipynb#X15sZmlsZQ%3D%3D?line=1'>2</a>\u001b[0m \n\u001b[0;32m      <a href='vscode-notebook-cell:/c%3A/Users/rannu/OneDrive%20-%20NTNU/Desktop/VsPython/Spain/NMfDS/Assignments/Ass6/RTBP.ipynb#X15sZmlsZQ%3D%3D?line=2'>3</a>\u001b[0m \u001b[39m# sol = ODE_solver_JIT(RTBP_JIT.ODE_R3BP, X0, t_max, eval_pts, \u001b[39;00m\n\u001b[0;32m      <a href='vscode-notebook-cell:/c%3A/Users/rannu/OneDrive%20-%20NTNU/Desktop/VsPython/Spain/NMfDS/Assignments/Ass6/RTBP.ipynb#X15sZmlsZQ%3D%3D?line=3'>4</a>\u001b[0m \u001b[39m#                  hamiltonian=RTBP_JIT.Jacobi_first_integral)\u001b[39;00m\n\u001b[1;32m----> <a href='vscode-notebook-cell:/c%3A/Users/rannu/OneDrive%20-%20NTNU/Desktop/VsPython/Spain/NMfDS/Assignments/Ass6/RTBP.ipynb#X15sZmlsZQ%3D%3D?line=4'>5</a>\u001b[0m sol \u001b[39m=\u001b[39m ODE_solver_JIT(ODE_R3BP_JIT, X0, t_max, eval_pts, mu,\n\u001b[0;32m      <a href='vscode-notebook-cell:/c%3A/Users/rannu/OneDrive%20-%20NTNU/Desktop/VsPython/Spain/NMfDS/Assignments/Ass6/RTBP.ipynb#X15sZmlsZQ%3D%3D?line=5'>6</a>\u001b[0m                  hamiltonian\u001b[39m=\u001b[39;49m\u001b[39m0\u001b[39;49m)\n\u001b[0;32m      <a href='vscode-notebook-cell:/c%3A/Users/rannu/OneDrive%20-%20NTNU/Desktop/VsPython/Spain/NMfDS/Assignments/Ass6/RTBP.ipynb#X15sZmlsZQ%3D%3D?line=6'>7</a>\u001b[0m \u001b[39m#print(ODE_solver_JIT.inspect_types())\u001b[39;00m\n\u001b[0;32m      <a href='vscode-notebook-cell:/c%3A/Users/rannu/OneDrive%20-%20NTNU/Desktop/VsPython/Spain/NMfDS/Assignments/Ass6/RTBP.ipynb#X15sZmlsZQ%3D%3D?line=7'>8</a>\u001b[0m \u001b[39mprint\u001b[39m(\u001b[39m\"\u001b[39m\u001b[39mFinal values of the solution:\u001b[39m\u001b[39m\"\u001b[39m)\n",
      "\u001b[1;32mc:\\Users\\rannu\\OneDrive - NTNU\\Desktop\\VsPython\\Spain\\NMfDS\\Assignments\\Ass6\\RTBP.ipynb Cell 14\u001b[0m line \u001b[0;36m1\n\u001b[0;32m      <a href='vscode-notebook-cell:/c%3A/Users/rannu/OneDrive%20-%20NTNU/Desktop/VsPython/Spain/NMfDS/Assignments/Ass6/RTBP.ipynb#X15sZmlsZQ%3D%3D?line=1'>2</a>\u001b[0m \u001b[39mdef\u001b[39;00m \u001b[39mODE_solver_JIT\u001b[39m(func, x0, t_max, eval_pts, mu, tol\u001b[39m=\u001b[39m\u001b[39m1e-12\u001b[39m, t_min\u001b[39m=\u001b[39m\u001b[39m0\u001b[39m, method\u001b[39m=\u001b[39m\u001b[39m'\u001b[39m\u001b[39mDOP853\u001b[39m\u001b[39m'\u001b[39m, hamiltonian\u001b[39m=\u001b[39m\u001b[39m0\u001b[39m):\n\u001b[0;32m      <a href='vscode-notebook-cell:/c%3A/Users/rannu/OneDrive%20-%20NTNU/Desktop/VsPython/Spain/NMfDS/Assignments/Ass6/RTBP.ipynb#X15sZmlsZQ%3D%3D?line=2'>3</a>\u001b[0m     \u001b[39m# Variable explanation:\u001b[39;00m\n\u001b[0;32m      <a href='vscode-notebook-cell:/c%3A/Users/rannu/OneDrive%20-%20NTNU/Desktop/VsPython/Spain/NMfDS/Assignments/Ass6/RTBP.ipynb#X15sZmlsZQ%3D%3D?line=3'>4</a>\u001b[0m     \u001b[39m# func: the function f in the system of ODEs\u001b[39;00m\n\u001b[1;32m   (...)\u001b[0m\n\u001b[0;32m     <a href='vscode-notebook-cell:/c%3A/Users/rannu/OneDrive%20-%20NTNU/Desktop/VsPython/Spain/NMfDS/Assignments/Ass6/RTBP.ipynb#X15sZmlsZQ%3D%3D?line=11'>12</a>\u001b[0m \n\u001b[0;32m     <a href='vscode-notebook-cell:/c%3A/Users/rannu/OneDrive%20-%20NTNU/Desktop/VsPython/Spain/NMfDS/Assignments/Ass6/RTBP.ipynb#X15sZmlsZQ%3D%3D?line=12'>13</a>\u001b[0m     \u001b[39m# RETURNS: the solution of the system of ODEs as a scipy.integrate.solve_ivp object\u001b[39;00m\n\u001b[0;32m     <a href='vscode-notebook-cell:/c%3A/Users/rannu/OneDrive%20-%20NTNU/Desktop/VsPython/Spain/NMfDS/Assignments/Ass6/RTBP.ipynb#X15sZmlsZQ%3D%3D?line=14'>15</a>\u001b[0m     t_eval \u001b[39m=\u001b[39m np\u001b[39m.\u001b[39mlinspace(t_min, t_max, eval_pts, dtype\u001b[39m=\u001b[39mnp\u001b[39m.\u001b[39mfloat64)\n\u001b[1;32m---> <a href='vscode-notebook-cell:/c%3A/Users/rannu/OneDrive%20-%20NTNU/Desktop/VsPython/Spain/NMfDS/Assignments/Ass6/RTBP.ipynb#X15sZmlsZQ%3D%3D?line=16'>17</a>\u001b[0m     sol \u001b[39m=\u001b[39m sp\u001b[39m.\u001b[39;49mintegrate\u001b[39m.\u001b[39;49msolve_ivp(\n\u001b[0;32m     <a href='vscode-notebook-cell:/c%3A/Users/rannu/OneDrive%20-%20NTNU/Desktop/VsPython/Spain/NMfDS/Assignments/Ass6/RTBP.ipynb#X15sZmlsZQ%3D%3D?line=17'>18</a>\u001b[0m         func, [t_min, t_max], x0, method\u001b[39m=\u001b[39;49mmethod, t_eval\u001b[39m=\u001b[39;49mt_eval, atol\u001b[39m=\u001b[39;49m\u001b[39m1e-16\u001b[39;49m, rtol\u001b[39m=\u001b[39;49m\u001b[39m1e-18\u001b[39;49m)\n\u001b[0;32m     <a href='vscode-notebook-cell:/c%3A/Users/rannu/OneDrive%20-%20NTNU/Desktop/VsPython/Spain/NMfDS/Assignments/Ass6/RTBP.ipynb#X15sZmlsZQ%3D%3D?line=19'>20</a>\u001b[0m     \u001b[39m# Check if the hamiltonian remains constant for all points, by checking the error. break iff error > tol\u001b[39;00m\n\u001b[0;32m     <a href='vscode-notebook-cell:/c%3A/Users/rannu/OneDrive%20-%20NTNU/Desktop/VsPython/Spain/NMfDS/Assignments/Ass6/RTBP.ipynb#X15sZmlsZQ%3D%3D?line=20'>21</a>\u001b[0m     \u001b[39m# Also chek the determinant of the matrix [[x3, x4], [x5, x6]]\u001b[39;00m\n\u001b[0;32m     <a href='vscode-notebook-cell:/c%3A/Users/rannu/OneDrive%20-%20NTNU/Desktop/VsPython/Spain/NMfDS/Assignments/Ass6/RTBP.ipynb#X15sZmlsZQ%3D%3D?line=21'>22</a>\u001b[0m     \u001b[39mif\u001b[39;00m hamiltonian \u001b[39m==\u001b[39m \u001b[39m0\u001b[39m:\n",
      "File \u001b[1;32mc:\\Users\\rannu\\OneDrive - NTNU\\Desktop\\VsPython\\ntnusession\\lib\\site-packages\\scipy\\integrate\\_ivp\\ivp.py:555\u001b[0m, in \u001b[0;36msolve_ivp\u001b[1;34m(fun, t_span, y0, method, t_eval, dense_output, events, vectorized, args, **options)\u001b[0m\n\u001b[0;32m    552\u001b[0m \u001b[39mif\u001b[39;00m method \u001b[39min\u001b[39;00m METHODS:\n\u001b[0;32m    553\u001b[0m     method \u001b[39m=\u001b[39m METHODS[method]\n\u001b[1;32m--> 555\u001b[0m solver \u001b[39m=\u001b[39m method(fun, t0, y0, tf, vectorized\u001b[39m=\u001b[39mvectorized, \u001b[39m*\u001b[39m\u001b[39m*\u001b[39moptions)\n\u001b[0;32m    557\u001b[0m \u001b[39mif\u001b[39;00m t_eval \u001b[39mis\u001b[39;00m \u001b[39mNone\u001b[39;00m:\n\u001b[0;32m    558\u001b[0m     ts \u001b[39m=\u001b[39m [t0]\n",
      "File \u001b[1;32mc:\\Users\\rannu\\OneDrive - NTNU\\Desktop\\VsPython\\ntnusession\\lib\\site-packages\\scipy\\integrate\\_ivp\\rk.py:491\u001b[0m, in \u001b[0;36mDOP853.__init__\u001b[1;34m(self, fun, t0, y0, t_bound, max_step, rtol, atol, vectorized, first_step, **extraneous)\u001b[0m\n\u001b[0;32m    488\u001b[0m \u001b[39mdef\u001b[39;00m \u001b[39m__init__\u001b[39m(\u001b[39mself\u001b[39m, fun, t0, y0, t_bound, max_step\u001b[39m=\u001b[39mnp\u001b[39m.\u001b[39minf,\n\u001b[0;32m    489\u001b[0m              rtol\u001b[39m=\u001b[39m\u001b[39m1e-3\u001b[39m, atol\u001b[39m=\u001b[39m\u001b[39m1e-6\u001b[39m, vectorized\u001b[39m=\u001b[39m\u001b[39mFalse\u001b[39;00m,\n\u001b[0;32m    490\u001b[0m              first_step\u001b[39m=\u001b[39m\u001b[39mNone\u001b[39;00m, \u001b[39m*\u001b[39m\u001b[39m*\u001b[39mextraneous):\n\u001b[1;32m--> 491\u001b[0m     \u001b[39msuper\u001b[39m()\u001b[39m.\u001b[39m\u001b[39m__init__\u001b[39m(fun, t0, y0, t_bound, max_step, rtol, atol,\n\u001b[0;32m    492\u001b[0m                      vectorized, first_step, \u001b[39m*\u001b[39m\u001b[39m*\u001b[39mextraneous)\n\u001b[0;32m    493\u001b[0m     \u001b[39mself\u001b[39m\u001b[39m.\u001b[39mK_extended \u001b[39m=\u001b[39m np\u001b[39m.\u001b[39mempty((dop853_coefficients\u001b[39m.\u001b[39mN_STAGES_EXTENDED,\n\u001b[0;32m    494\u001b[0m                                 \u001b[39mself\u001b[39m\u001b[39m.\u001b[39mn), dtype\u001b[39m=\u001b[39m\u001b[39mself\u001b[39m\u001b[39m.\u001b[39my\u001b[39m.\u001b[39mdtype)\n\u001b[0;32m    495\u001b[0m     \u001b[39mself\u001b[39m\u001b[39m.\u001b[39mK \u001b[39m=\u001b[39m \u001b[39mself\u001b[39m\u001b[39m.\u001b[39mK_extended[:\u001b[39mself\u001b[39m\u001b[39m.\u001b[39mn_stages \u001b[39m+\u001b[39m \u001b[39m1\u001b[39m]\n",
      "File \u001b[1;32mc:\\Users\\rannu\\OneDrive - NTNU\\Desktop\\VsPython\\ntnusession\\lib\\site-packages\\scipy\\integrate\\_ivp\\rk.py:94\u001b[0m, in \u001b[0;36mRungeKutta.__init__\u001b[1;34m(self, fun, t0, y0, t_bound, max_step, rtol, atol, vectorized, first_step, **extraneous)\u001b[0m\n\u001b[0;32m     92\u001b[0m \u001b[39mself\u001b[39m\u001b[39m.\u001b[39mmax_step \u001b[39m=\u001b[39m validate_max_step(max_step)\n\u001b[0;32m     93\u001b[0m \u001b[39mself\u001b[39m\u001b[39m.\u001b[39mrtol, \u001b[39mself\u001b[39m\u001b[39m.\u001b[39matol \u001b[39m=\u001b[39m validate_tol(rtol, atol, \u001b[39mself\u001b[39m\u001b[39m.\u001b[39mn)\n\u001b[1;32m---> 94\u001b[0m \u001b[39mself\u001b[39m\u001b[39m.\u001b[39mf \u001b[39m=\u001b[39m \u001b[39mself\u001b[39;49m\u001b[39m.\u001b[39;49mfun(\u001b[39mself\u001b[39;49m\u001b[39m.\u001b[39;49mt, \u001b[39mself\u001b[39;49m\u001b[39m.\u001b[39;49my)\n\u001b[0;32m     95\u001b[0m \u001b[39mif\u001b[39;00m first_step \u001b[39mis\u001b[39;00m \u001b[39mNone\u001b[39;00m:\n\u001b[0;32m     96\u001b[0m     \u001b[39mself\u001b[39m\u001b[39m.\u001b[39mh_abs \u001b[39m=\u001b[39m select_initial_step(\n\u001b[0;32m     97\u001b[0m         \u001b[39mself\u001b[39m\u001b[39m.\u001b[39mfun, \u001b[39mself\u001b[39m\u001b[39m.\u001b[39mt, \u001b[39mself\u001b[39m\u001b[39m.\u001b[39my, \u001b[39mself\u001b[39m\u001b[39m.\u001b[39mf, \u001b[39mself\u001b[39m\u001b[39m.\u001b[39mdirection,\n\u001b[0;32m     98\u001b[0m         \u001b[39mself\u001b[39m\u001b[39m.\u001b[39merror_estimator_order, \u001b[39mself\u001b[39m\u001b[39m.\u001b[39mrtol, \u001b[39mself\u001b[39m\u001b[39m.\u001b[39matol)\n",
      "File \u001b[1;32mc:\\Users\\rannu\\OneDrive - NTNU\\Desktop\\VsPython\\ntnusession\\lib\\site-packages\\scipy\\integrate\\_ivp\\base.py:138\u001b[0m, in \u001b[0;36mOdeSolver.__init__.<locals>.fun\u001b[1;34m(t, y)\u001b[0m\n\u001b[0;32m    136\u001b[0m \u001b[39mdef\u001b[39;00m \u001b[39mfun\u001b[39m(t, y):\n\u001b[0;32m    137\u001b[0m     \u001b[39mself\u001b[39m\u001b[39m.\u001b[39mnfev \u001b[39m+\u001b[39m\u001b[39m=\u001b[39m \u001b[39m1\u001b[39m\n\u001b[1;32m--> 138\u001b[0m     \u001b[39mreturn\u001b[39;00m \u001b[39mself\u001b[39;49m\u001b[39m.\u001b[39;49mfun_single(t, y)\n",
      "File \u001b[1;32mc:\\Users\\rannu\\OneDrive - NTNU\\Desktop\\VsPython\\ntnusession\\lib\\site-packages\\scipy\\integrate\\_ivp\\base.py:20\u001b[0m, in \u001b[0;36mcheck_arguments.<locals>.fun_wrapped\u001b[1;34m(t, y)\u001b[0m\n\u001b[0;32m     19\u001b[0m \u001b[39mdef\u001b[39;00m \u001b[39mfun_wrapped\u001b[39m(t, y):\n\u001b[1;32m---> 20\u001b[0m     \u001b[39mreturn\u001b[39;00m np\u001b[39m.\u001b[39masarray(fun(t, y), dtype\u001b[39m=\u001b[39mdtype)\n",
      "\u001b[1;31mTypeError\u001b[0m: not enough arguments: expected 3, got 2"
     ]
    }
   ],
   "source": [
    "#print(ODE_solver_JIT.signatures)\n",
    "\n",
    "# sol = ODE_solver_JIT(RTBP_JIT.ODE_R3BP, X0, t_max, eval_pts, \n",
    "#                  hamiltonian=RTBP_JIT.Jacobi_first_integral)\n",
    "sol = ODE_solver_JIT(ODE_R3BP_JIT, X0, t_max, eval_pts, mu,\n",
    "                 hamiltonian=0)\n",
    "#print(ODE_solver_JIT.inspect_types())\n",
    "print(\"Final values of the solution:\")\n",
    "print(\"x = \", sol.y[:, -1])"
   ]
  },
  {
   "cell_type": "code",
   "execution_count": null,
   "metadata": {},
   "outputs": [
    {
     "name": "stdout",
     "output_type": "stream",
     "text": [
      "[]\n",
      "[()]\n"
     ]
    }
   ],
   "source": [
    "import numba as nb\n",
    "\n",
    "@nb.njit\n",
    "def foo():\n",
    "    acc = 0\n",
    "    for i in range(100):\n",
    "        acc += i\n",
    "    return acc\n",
    "\n",
    "print(foo.signatures)  # Output: []\n",
    "foo()  # Call the jitted function\n",
    "print(foo.signatures)  # Output: [()]"
   ]
  }
 ],
 "metadata": {
  "kernelspec": {
   "display_name": "ntnusession",
   "language": "python",
   "name": "python3"
  },
  "language_info": {
   "codemirror_mode": {
    "name": "ipython",
    "version": 3
   },
   "file_extension": ".py",
   "mimetype": "text/x-python",
   "name": "python",
   "nbconvert_exporter": "python",
   "pygments_lexer": "ipython3",
   "version": "3.10.11"
  }
 },
 "nbformat": 4,
 "nbformat_minor": 2
}
