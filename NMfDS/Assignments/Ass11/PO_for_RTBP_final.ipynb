{
 "cells": [
  {
   "cell_type": "code",
   "execution_count": 2,
   "metadata": {},
   "outputs": [],
   "source": [
    "import numpy as np\n",
    "import scipy as sp\n",
    "from scipy.optimize import bisect\n",
    "import matplotlib.pyplot as plt\n",
    "import sys\n",
    "dir_string = 'C:/Users/rannu/OneDrive - NTNU/Desktop/VsPython/'+\\\n",
    "                'Spain/NMfDS/Assignments/'\n",
    "sys.path.append(dir_string + 'Ass4')\n",
    "sys.path.append(dir_string + 'Ass6')\n",
    "sys.path.append(dir_string + 'Ass7')\n",
    "sys.path.append(dir_string + 'Ass8')\n",
    "sys.path.append(dir_string + 'Ass9')\n",
    "from RTBP_definitions import r1, r2, OMEGA, ODE_R3BP, Jacobi_first_integral\n",
    "from Lagrange_computations import compute_Lagrange_pt, compute_jacobi_const_Li\n",
    "from custom_ODE_solver import ODE_solver\n",
    "from PoincareR3BP import poincare_map_solve_ivp_R3BP\n",
    "from variational_equation_RTBP import variational_eq\n",
    "from crossings_RTBP import crossings_R3BP_by_mu"
   ]
  },
  {
   "cell_type": "code",
   "execution_count": 3,
   "metadata": {},
   "outputs": [],
   "source": [
    "\n",
    "def bisection_old(f, start, end, tol, N):\n",
    "    \"\"\"\n",
    "    Input: function f, interval [start, end], tolerance tol, \n",
    "    max. number of iterations N\n",
    "\n",
    "    Output: approximate solution mid\n",
    "    \"\"\"\n",
    "    # Check if f(start) and f(end) have opposite signs\n",
    "    if f(start)*f(end) >= 0:\n",
    "        print(\"\\nBisection method fails.\")\n",
    "        print(\"f(start) = \", f(start))\n",
    "        print(\"f(end) = \", f(end))\n",
    "        return None\n",
    "    # Iterate until max. number of iterations is reached\n",
    "    for i in range(N):\n",
    "        # Compute midpoint\n",
    "        mid = (start+end)/2\n",
    "        # Check if f(mid) is zero\n",
    "        if f(mid) == 0:\n",
    "            break\n",
    "        # Check if f(start) and f(mid) have opposite signs\n",
    "        if f(start)*f(mid) < 0:\n",
    "            end = mid\n",
    "        # Otherwise, f(end) and f(mid) have opposite signs\n",
    "        else:\n",
    "            start = mid\n",
    "        # Check if the interval is small enough\n",
    "        if (end-start)/2 < tol:\n",
    "            break\n",
    "        if i == N-1:\n",
    "            print(\"\\nWarning: maximum number of iterations reached.\")\n",
    "    return mid"
   ]
  },
  {
   "cell_type": "code",
   "execution_count": 4,
   "metadata": {},
   "outputs": [
    {
     "name": "stdout",
     "output_type": "stream",
     "text": [
      "Scipy bisection:  1.414213562373095\n",
      "Exact solution:   1.4142135623730951\n",
      "Error:            4.705502654189786e-11\n"
     ]
    }
   ],
   "source": [
    "# Test scipy.optimize.bisect\n",
    "def f(x):\n",
    "    return x**2 - 2\n",
    "print(\"Scipy bisection: \", bisect(f, 1, 2, xtol=1e-16, maxiter=200))\n",
    "print(\"Exact solution:  \", np.sqrt(2))\n",
    "print(\"Error:           \", np.abs(bisect(f, 1, 2, xtol=1e-10, maxiter=100)\\\n",
    "                                  -np.sqrt(2)))"
   ]
  },
  {
   "cell_type": "code",
   "execution_count": 5,
   "metadata": {},
   "outputs": [],
   "source": [
    "# HINT: it should work with\n",
    "# mu=0.1, cmin=2.1 cmax=3.189, xincC=1.d-3, xincini=1.d-5, xincx=1.d-3"
   ]
  },
  {
   "cell_type": "code",
   "execution_count": 6,
   "metadata": {},
   "outputs": [
    {
     "name": "stdout",
     "output_type": "stream",
     "text": [
      "1.0416089085718845\n",
      "det(A) = \n",
      " [[ 0.          0.          1.          0.        ]\n",
      " [ 0.          0.          0.          1.        ]\n",
      " [ 3.18338396  0.          0.          2.        ]\n",
      " [ 0.         -0.09169198 -2.          0.        ]]\n",
      "\n",
      "eigenvalues = \n",
      " 0.5016383507584008 , -0.5016383507584007\n",
      "\n",
      "Their respective normalized eigenvectors = \n",
      " [ 0.28940578 -0.84569227  0.14517704 -0.42423167] ,\n",
      " [-0.28940578 -0.84569227  0.14517704  0.42423167]\n"
     ]
    }
   ],
   "source": [
    "mu = 0.1\n",
    "print(compute_Lagrange_pt(mu, 3))\n",
    "L3 = [compute_Lagrange_pt(mu, 3), 0, 0, 0]\n",
    "L3.extend([1, 0, 0, 0, \n",
    "           0, 1, 0, 0, \n",
    "           0, 0, 1, 0, \n",
    "           0, 0, 0, 1])  # initial conditions and identity matrix\n",
    "time_span = 0\n",
    "\n",
    "# compute the Jacobian matrix of the RTBP at Li.\n",
    "# The eigenvalues of this matrix are the frequencies of the periodic orbit\n",
    "\n",
    "A = variational_eq(time_span, L3, mu, 1)[4:20].reshape(4,4)\n",
    "print('det(A) = \\n', A)\n",
    "eigenvalues, eigenvectors = np.linalg.eig(A)\n",
    "lambda_pos = eigenvalues[3].real\n",
    "lambda_neg = eigenvalues[2].real\n",
    "eigvec_pos = eigenvectors[:,3]\n",
    "eigvec_neg = eigenvectors[:,2]\n",
    "print('\\neigenvalues = \\n', lambda_pos, \",\", lambda_neg)\n",
    "print('\\nTheir respective normalized eigenvectors = \\n', -eigvec_pos.real, \\\n",
    "      \",\\n\", eigvec_neg.real)\n",
    "# Only the real part of the eigenvectors are needed"
   ]
  },
  {
   "cell_type": "code",
   "execution_count": 7,
   "metadata": {},
   "outputs": [
    {
     "name": "stdout",
     "output_type": "stream",
     "text": [
      "\n",
      "C =  3.1895781504493814\n",
      "\n",
      "vy =  0.0\n"
     ]
    }
   ],
   "source": [
    "# Assume C fixed. Implement a routine such that, given an initial x,\n",
    "# sign of y’ and C, computes (as output) y’, such that the initial condition\n",
    "# of the orbit will be (x,0,0,y’).\n",
    "                      \n",
    "# def Jacobi_first_integral(mu, x, y, vx, vy):\n",
    "#     # Function to compute the Jacobi first integral\n",
    "#     # This should be constant for a given value of mu\n",
    "#     return 2*OMEGA(mu, x, y) - (vx**2 + vy**2)\n",
    "\n",
    "def yderiv(mu, x, y, vx, sign_vy, C):\n",
    "    # Function to compute the derivative of y for a given value of C\n",
    "    return sign_vy*np.sqrt(2*OMEGA(mu, x, y) - C - vx**2)\n",
    "\n",
    "C = Jacobi_first_integral(mu, L3[0], L3[1], L3[2], L3[3])\n",
    "\n",
    "vy = yderiv(mu, L3[0], L3[1], L3[2], 1, C)\n",
    "\n",
    "print('\\nC = ', C)\n",
    "print('\\nvy = ', vy)"
   ]
  },
  {
   "cell_type": "code",
   "execution_count": 8,
   "metadata": {},
   "outputs": [],
   "source": [
    "def F_old(x, vy):\n",
    "    init_cond = [x, 0, 0, vy]\n",
    "    # Find the crossing time of the unstable manifold with the Poincare section\n",
    "    iregion = 1\n",
    "    t0 = 0\n",
    "    tmax = 0.15\n",
    "    dt = 0.1\n",
    "    t_span = np.arange(t0, tmax, dt)\n",
    "\n",
    "    # Variables for tweaking the accuracy of the crossing time\n",
    "    refinement = 20000\n",
    "    refinement_fine = 300\n",
    "    tol = 1e-14\n",
    "\n",
    "    newInitial, TimeDuration,_ = \\\n",
    "        poincare_map_solve_ivp_R3BP(lambda t, X: ODE_R3BP(t, mu, X), \n",
    "                                    init_cond, \n",
    "                                    iregion, dt, t_span, mu, \n",
    "                                    init_search = refinement, \n",
    "                                    refinement = refinement_fine, \n",
    "                                    newton_tol = tol)\n",
    "\n",
    "    tmax_plot = TimeDuration\n",
    "    t_span_plot = np.arange(t0, tmax_plot, 0.01)\n",
    "\n",
    "    # Solve ode_r3bp using the custom ODE solver,  RETURNS: the solution of the \n",
    "    # system of ODEs as a scipy.integrate.solve_ivp object\n",
    "    sol = ODE_solver(lambda t, X: ODE_R3BP(t, mu, X), init_cond, tmax_plot, \n",
    "                    len(t_span_plot), tol=1e-12, method='DOP853', hamiltonian=0)\n",
    "\n",
    "    # Extract the solution\n",
    "    x = sol.y[0]\n",
    "    y = sol.y[1]\n",
    "    vx = sol.y[2]\n",
    "    vy = sol.y[3]\n",
    "    return x, y, vx, vy, t_span_plot, newInitial, TimeDuration"
   ]
  },
  {
   "cell_type": "code",
   "execution_count": 9,
   "metadata": {},
   "outputs": [],
   "source": [
    "# Assume C fixed. Implement a routine such that given an initial x\n",
    "# and the ’associated’ initial condition (x,0,0,y’), returns as\n",
    "# output F(x)=x’ (at a given crossing).\n",
    "def F(x, C):\n",
    "    vy = yderiv(mu, x, 0, 0, -1, C)\n",
    "    init_cond = [x, 0, 0, vy]\n",
    "\n",
    "    iregion = 1\n",
    "    t0 = 0\n",
    "    tmax = 1\n",
    "    dt = 0.5\n",
    "    t_span = np.arange(t0, tmax, dt)\n",
    "\n",
    "    # Variables for tweaking the accuracy of the crossing time\n",
    "    refinement = 2000\n",
    "    refinement_fine = 300\n",
    "    tol = 1e-3\n",
    "\n",
    "    newInitial, TimeDuration,_ = \\\n",
    "        poincare_map_solve_ivp_R3BP(lambda t, X: ODE_R3BP(t, mu, X), \n",
    "                                    init_cond, \n",
    "                                    iregion, dt, t_span, mu, \n",
    "                                    init_search = refinement, \n",
    "                                    refinement = refinement_fine, \n",
    "                                    newton_tol = tol)\n",
    "    \n",
    "    return newInitial[2] #x'"
   ]
  },
  {
   "cell_type": "code",
   "execution_count": 10,
   "metadata": {},
   "outputs": [],
   "source": [
    "# Define a functiont that varies x such that you find x1 and x2 such that F(x,C)\n",
    "# changes sign.\n",
    "\n",
    "def F_rough_search(x0, x_inc, C):\n",
    "    # Function to compute the x value where F(x,C) changes sign\n",
    "    # x0 is the initial guess for the root\n",
    "    # x_inc is the increment we add to x used to compute the derivative of F(x,C)\n",
    "    # C is the Jacobi constant\n",
    "    x1 = x0\n",
    "    x2 = x0 + x_inc\n",
    "    F1 = F(x1, C)\n",
    "    F2 = F(x2, C)\n",
    "    while F1*F2 > 0:\n",
    "        x1 = x2\n",
    "        x2 += x_inc\n",
    "        F1 = F2\n",
    "        F2 = F(x2, C)\n",
    "    return x1, x2"
   ]
  },
  {
   "cell_type": "code",
   "execution_count": 11,
   "metadata": {},
   "outputs": [],
   "source": [
    "# Now refine x, using scipy bisection, such that F(x)=0.\n",
    "# (ie |F(x)|<1.d-12)\n",
    "\n",
    "def F_refine_bisection(x1, x2, C):\n",
    "    # Function to refine the root of F(x,C) using scipy bisection\n",
    "    # x1 and x2 are the x values where F(x,C) changes sign\n",
    "    # C is the Jacobi constant\n",
    "    return bisect(lambda x: F(x, C), x1, x2, xtol=1e-6, maxiter=10)"
   ]
  },
  {
   "cell_type": "markdown",
   "metadata": {},
   "source": [
    "### Using our functions"
   ]
  },
  {
   "cell_type": "code",
   "execution_count": 12,
   "metadata": {},
   "outputs": [
    {
     "name": "stdout",
     "output_type": "stream",
     "text": [
      "x_L3 =  1.0416089085718845\n",
      "x_0 =  1.57\n"
     ]
    },
    {
     "name": "stdout",
     "output_type": "stream",
     "text": [
      "x1 =  1.669999999999989 , x2 =  1.670999999999989\n"
     ]
    }
   ],
   "source": [
    "# HINT: it should work with\n",
    "# mu=0.1, cmin=2.1 cmax=3.189, xincC=1.d-3, xincini=1.d-5, xincx=1.d-3\n",
    "mu = 0.1\n",
    "cmin = 2.5\n",
    "cmax = 3.189\n",
    "xincC = 1e-3 \n",
    "xincini = 1e-5\n",
    "xincx = 1e-3\n",
    "\n",
    "# Find the first root of F(x,C) for C = cmin\n",
    "x_L3 = compute_Lagrange_pt(mu, 3)\n",
    "x_0 = x_L3 + 1e-5\n",
    "x_0 = 1.57\n",
    "print('x_L3 = ', x_L3)\n",
    "print('x_0 = ', x_0)\n",
    "\n",
    "\n",
    "C = cmax\n",
    "C = 2.5\n",
    "x1, x2 = F_rough_search(x_0, xincx, C)\n",
    "print('x1 = ', x1, ', x2 = ', x2)\n",
    "\n"
   ]
  },
  {
   "cell_type": "code",
   "execution_count": 13,
   "metadata": {},
   "outputs": [],
   "source": [
    "# use bisect to refine the root\n",
    "x_root = F_refine_bisection(x1, x2, C)"
   ]
  },
  {
   "cell_type": "code",
   "execution_count": 14,
   "metadata": {},
   "outputs": [
    {
     "name": "stdout",
     "output_type": "stream",
     "text": [
      "x_root =  1.670213867187489\n",
      "root - x1 =  0.00021386718750004974\n",
      "root - x2 =  -0.0007861328124998401\n"
     ]
    }
   ],
   "source": [
    "print('x_root = ', x_root)\n",
    "# root - x1\n",
    "print('root - x1 = ', x_root - x1)\n",
    "# root - x2\n",
    "print('root - x2 = ', x_root - x2)"
   ]
  },
  {
   "cell_type": "code",
   "execution_count": 15,
   "metadata": {},
   "outputs": [
    {
     "name": "stdout",
     "output_type": "stream",
     "text": [
      "[ 3.81416777e-01  2.91433544e-16 -1.17502683e-03  2.07069114e+00]\n"
     ]
    },
    {
     "data": {
      "image/png": "[encoded data removed]",
      "text/plain": [
       "<Figure size 640x480 with 1 Axes>"
      ]
     },
     "metadata": {},
     "output_type": "display_data"
    }
   ],
   "source": [
    "vy = yderiv(mu, x_root, 0, 0, -1, C)\n",
    "x, y, vx, vy, t_span_plot, newInitial, TimeDuration = F_old(x_root, vy)\n",
    "\n",
    "print(newInitial)\n",
    "\n",
    "# Plot the orbit\n",
    "fig = plt.figure()\n",
    "ax = fig.add_subplot(111)\n",
    "ax.plot(x, y, 'b')\n",
    "ax.plot(x, -y, 'g')\n",
    "ax.plot(newInitial[0], newInitial[1], 'ro')\n",
    "ax.plot(x_L3, 0, color = 'black', marker = 'o')\n",
    "ax.set_xlabel('x')\n",
    "ax.set_ylabel('y')\n",
    "ax.set_title(f'Periodic orbit around $L_3$ for $C = {C}$')\n",
    "# make a legend\n",
    "legend = [r'PO', r'PO mirror', r'$x_0$', r'$L_3$']\n",
    "#plot the legend outside of the plot\n",
    "ax.legend(legend, bbox_to_anchor=(1.05, 1), loc='upper left')\n",
    "plt.show()\n"
   ]
  },
  {
   "cell_type": "markdown",
   "metadata": {},
   "source": [
    "### Plot 3 at once"
   ]
  },
  {
   "cell_type": "code",
   "execution_count": 64,
   "metadata": {},
   "outputs": [
    {
     "name": "stdout",
     "output_type": "stream",
     "text": [
      "-0.007153846153848509 -0.007153846153848509 -0.007153846153848065 -0.007153846153848509\n"
     ]
    }
   ],
   "source": [
    "print(C_lst[1]-C_lst[0], C_lst[2]-C_lst[1], C_lst[3]-C_lst[2], C_lst[4]-C_lst[3])"
   ]
  },
  {
   "cell_type": "code",
   "execution_count": 56,
   "metadata": {},
   "outputs": [
    {
     "name": "stdout",
     "output_type": "stream",
     "text": [
      "2.3790000000000893\n"
     ]
    },
    {
     "name": "stderr",
     "output_type": "stream",
     "text": [
      "100%|██████████| 40/40 [05:39<00:00,  8.49s/it]"
     ]
    },
    {
     "name": "stdout",
     "output_type": "stream",
     "text": [
      "x_root =  [1.717032226562498, 1.7196455078124977, 1.7222412109374974, 1.724819335937497, 1.7273818359374968, 1.7299287109374963, 1.7324580078124965, 1.7349736328124958, 1.7374716796874958, 1.7399541015624955, 1.7424208984374951, 1.7449892578124948, 1.7473173828124948, 1.7497314453124944, 1.7521416015624942, 1.7545361328124938, 1.7569169921874934, 1.7592822265624934, 1.761631835937493, 1.7639638671874929, 1.7662802734374927, 1.7685751953124924, 1.770848632812492, 1.7730966796874919, 1.7753115234374917, 1.7774892578124915, 1.7796181640624913, 1.7816865234374908, 1.7836748046874906, 1.7855576171874905, 1.7872978515624904, 1.78884863281249, 1.7901318359374898, 1.7910458984374897, 1.7914345703124899, 1.7969482421874892, 1.8020283203124887, 1.8041650390624884, 1.8062939453124882, 1.808415039062488]\n"
     ]
    },
    {
     "name": "stderr",
     "output_type": "stream",
     "text": [
      "\n"
     ]
    }
   ],
   "source": [
    "# for the following three values of C, compute the x value of the root of F(x,C)\n",
    "# and the period of the periodic orbit around L3\n",
    "#C=2.1,2.5,3.15\n",
    "#x0 = 1.789, 1.73, 1.25\n",
    "from tqdm import tqdm\n",
    "mu = 0.1\n",
    "xincx = 1e-3 \n",
    "All_C_vals = np.arange(3.189, 2.1, -1e-3)\n",
    "print(All_C_vals[810])\n",
    "C_lst = np.flip(np.linspace(2.1, All_C_vals[810], 40))\n",
    "x0 = 1.7\n",
    "x_roots = []\n",
    "\n",
    "for i in tqdm(range(len(C_lst))):\n",
    "    mu = 0.1\n",
    "    cmin = 2.1\n",
    "    cmax = 3.189\n",
    "    xincC = 1e-3 \n",
    "    xincini = 1e-5\n",
    "    xincx = 1e-3\n",
    "    C = C_lst[i]\n",
    "    #x0 = x0_lst[i]\n",
    "    x1, x2 = F_rough_search(x0, xincx, C)\n",
    "    x_roots.append(F_refine_bisection(x1, x2, C))\n",
    "\n",
    "np.save('x_vals_last_part', x_roots)\n",
    "np.save('C_vals_last_part', C_lst)"
   ]
  },
  {
   "cell_type": "code",
   "execution_count": 57,
   "metadata": {},
   "outputs": [
    {
     "name": "stdout",
     "output_type": "stream",
     "text": [
      "[]\n"
     ]
    },
    {
     "name": "stderr",
     "output_type": "stream",
     "text": [
      "100%|██████████| 40/40 [00:05<00:00,  7.05it/s]\n"
     ]
    }
   ],
   "source": [
    "# for the three roots, calc vy and use F_old\n",
    "vys = []\n",
    "for i in range(len(C_lst)):\n",
    "    vys.append(yderiv(mu, x_roots[i], 0, 0, -1, C_lst[i]))\n",
    "\n",
    "x3 = []\n",
    "y3 = []\n",
    "vx3 = []\n",
    "vy3 = []\n",
    "t_span_plot3 = []\n",
    "newInitial3 = []\n",
    "TimeDuration3 = []\n",
    "\n",
    "for i in tqdm(range(len(C_lst))):\n",
    "    x_0 = x_roots[i]\n",
    "    C = C_lst[i]\n",
    "    x_temp, y_temp, vx_temp, vy_temp, t_span_plot_temp, newInitial_temp, \\\n",
    "        TimeDuration_temp = F_old(x_roots[i], vys[i])\n",
    "    x3.append(x_temp)\n",
    "    y3.append(y_temp)\n",
    "    vx3.append(vx_temp)\n",
    "    vy3.append(vy_temp)\n",
    "    t_span_plot3.append(t_span_plot_temp)\n",
    "    newInitial3.append(newInitial_temp)\n",
    "    TimeDuration3.append(TimeDuration_temp)"
   ]
  },
  {
   "cell_type": "code",
   "execution_count": 58,
   "metadata": {},
   "outputs": [
    {
     "data": {
      "image/png": "[encoded data removed]",
      "text/plain": [
       "<Figure size 640x480 with 1 Axes>"
      ]
     },
     "metadata": {},
     "output_type": "display_data"
    }
   ],
   "source": [
    "# plot the orbits\n",
    "fig = plt.figure()\n",
    "ax = fig.add_subplot(111)\n",
    "for i in range(len(C_lst)):\n",
    "    ax.plot(x3[i], y3[i], color = 'black')\n",
    "    ax.plot(x3[i], -y3[i], color = 'grey')\n",
    "ax.plot(x_L3, 0, color = 'black', marker = 'o')\n",
    "ax.set_xlabel('x')\n",
    "ax.set_ylabel('y')\n",
    "ax.set_title(f'Periodic orbits around $L_3$ for $C = [{C_lst[0]},...,{C_lst[len(C_lst)-1]}]$')\n",
    "\n",
    "plt.show()"
   ]
  },
  {
   "cell_type": "code",
   "execution_count": 59,
   "metadata": {},
   "outputs": [
    {
     "data": {
      "image/png": "[encoded data removed]",
      "text/plain": [
       "<Figure size 640x480 with 1 Axes>"
      ]
     },
     "metadata": {},
     "output_type": "display_data"
    }
   ],
   "source": [
    "# plot the characteristic curve as a scatterplot\n",
    "fig = plt.figure()\n",
    "ax = fig.add_subplot(111)\n",
    "for i in range(len(C_lst)):\n",
    "    ax.scatter(x_roots[i], C_lst[i], color = 'black')\n",
    "ax.set_xlabel('x')\n",
    "ax.set_ylabel('C')\n",
    "ax.set_title(f'Characteristic curve for $L_3$')\n",
    "plt.show()"
   ]
  },
  {
   "cell_type": "code",
   "execution_count": 60,
   "metadata": {},
   "outputs": [
    {
     "name": "stdout",
     "output_type": "stream",
     "text": [
      "[1.04604578 1.07365223 1.08254774 ... 0.         0.         0.        ]\n",
      "1.717032226562498\n",
      "2.3790000000000893\n",
      "3.189\n"
     ]
    }
   ],
   "source": [
    "loaded_arr_x_vals_first_800 = np.load('x_vals_first_800.npy')\n",
    "loaded_arr_x_vals_last_part = np.load('x_vals_last_part.npy')\n",
    "loaded_arr_C_vals_last_part = np.load('C_vals_last_part.npy')\n",
    "loaded_C_vals = np.load('C_vals.npy')\n",
    "print(loaded_arr_x_vals_first_800)\n",
    "print(loaded_arr_x_vals_last_part[0])\n",
    "print(loaded_arr_C_vals_last_part[0])\n",
    "print(loaded_C_vals[0])"
   ]
  },
  {
   "cell_type": "code",
   "execution_count": 62,
   "metadata": {},
   "outputs": [
    {
     "data": {
      "image/png": "[encoded data removed]",
      "text/plain": [
       "<Figure size 640x480 with 1 Axes>"
      ]
     },
     "metadata": {},
     "output_type": "display_data"
    }
   ],
   "source": [
    "# plot the characteristic curve as a scatterplot\n",
    "fig = plt.figure()\n",
    "ax = fig.add_subplot(111)\n",
    "ax.scatter(loaded_arr_x_vals_first_800, loaded_C_vals, s=0.5)\n",
    "ax.scatter(loaded_arr_x_vals_last_part, loaded_arr_C_vals_last_part, s=0.5)\n",
    "ax.set_xlabel('Jacobi constant')\n",
    "ax.set_ylabel('x')\n",
    "ax.set_title('Characteristic curve of the Lyapunov periodic orbits')\n",
    "ax.set_xlim(1, 1.9)\n",
    "plt.show()"
   ]
  },
  {
   "cell_type": "code",
   "execution_count": 142,
   "metadata": {},
   "outputs": [
    {
     "name": "stdout",
     "output_type": "stream",
     "text": [
      "1.713352424196788\n"
     ]
    }
   ],
   "source": [
    "print(loaded_arr_x_vals_first_800[800])"
   ]
  },
  {
   "cell_type": "code",
   "execution_count": 145,
   "metadata": {},
   "outputs": [
    {
     "name": "stdout",
     "output_type": "stream",
     "text": [
      "C_vals =  [3.189 3.188 3.187 ... 2.103 2.102 2.101] number of C values =  1089\n",
      "initial search done\n"
     ]
    },
    {
     "name": "stderr",
     "output_type": "stream",
     "text": [
      "  0%|          | 0/287 [00:00<?, ?it/s]"
     ]
    },
    {
     "name": "stdout",
     "output_type": "stream",
     "text": [
      "x1, x2:  1.7137205882592879 1.7147205882592877 C =  2.3870000000000884 i =  802\n"
     ]
    },
    {
     "name": "stderr",
     "output_type": "stream",
     "text": [
      "  0%|          | 1/287 [00:00<03:29,  1.36it/s]"
     ]
    },
    {
     "name": "stdout",
     "output_type": "stream",
     "text": [
      "x1, x2:  1.7140907054467878 1.7150907054467877 C =  2.3860000000000885 i =  803\n"
     ]
    },
    {
     "name": "stderr",
     "output_type": "stream",
     "text": [
      "  1%|          | 2/287 [00:01<03:28,  1.37it/s]"
     ]
    },
    {
     "name": "stdout",
     "output_type": "stream",
     "text": [
      "x1, x2:  1.7144588695092877 1.7154588695092876 C =  2.3850000000000886 i =  804\n"
     ]
    },
    {
     "name": "stderr",
     "output_type": "stream",
     "text": [
      "  1%|          | 3/287 [00:02<03:25,  1.38it/s]"
     ]
    },
    {
     "name": "stdout",
     "output_type": "stream",
     "text": [
      "x1, x2:  1.7148289866967876 1.7158289866967875 C =  2.3840000000000887 i =  805\n"
     ]
    },
    {
     "name": "stderr",
     "output_type": "stream",
     "text": [
      "  1%|▏         | 4/287 [00:02<03:23,  1.39it/s]"
     ]
    },
    {
     "name": "stdout",
     "output_type": "stream",
     "text": [
      "x1, x2:  1.7151971507592876 1.7161971507592875 C =  2.383000000000089 i =  806\n"
     ]
    },
    {
     "name": "stderr",
     "output_type": "stream",
     "text": [
      "  2%|▏         | 5/287 [00:03<03:22,  1.39it/s]"
     ]
    },
    {
     "name": "stdout",
     "output_type": "stream",
     "text": [
      "x1, x2:  1.7155633616967874 1.7165633616967872 C =  2.382000000000089 i =  807\n"
     ]
    },
    {
     "name": "stderr",
     "output_type": "stream",
     "text": [
      "  2%|▏         | 6/287 [00:04<03:24,  1.37it/s]"
     ]
    },
    {
     "name": "stdout",
     "output_type": "stream",
     "text": [
      "x1, x2:  1.7159315257592875 1.7169315257592874 C =  2.381000000000089 i =  808\n"
     ]
    },
    {
     "name": "stderr",
     "output_type": "stream",
     "text": [
      "  2%|▏         | 7/287 [00:05<03:22,  1.38it/s]"
     ]
    },
    {
     "name": "stdout",
     "output_type": "stream",
     "text": [
      "x1, x2:  1.7162996898217875 1.7172996898217874 C =  2.380000000000089 i =  809\n"
     ]
    },
    {
     "name": "stderr",
     "output_type": "stream",
     "text": [
      "  3%|▎         | 8/287 [00:05<03:21,  1.38it/s]"
     ]
    },
    {
     "name": "stdout",
     "output_type": "stream",
     "text": [
      "x1, x2:  1.7166659007592873 1.7176659007592872 C =  2.3790000000000893 i =  810\n"
     ]
    },
    {
     "name": "stderr",
     "output_type": "stream",
     "text": [
      "  3%|▎         | 9/287 [00:06<03:20,  1.39it/s]"
     ]
    },
    {
     "name": "stdout",
     "output_type": "stream",
     "text": [
      "x1, x2:  1.7170321116967873 1.7180321116967872 C =  2.3780000000000894 i =  811\n"
     ]
    },
    {
     "name": "stderr",
     "output_type": "stream",
     "text": [
      "  3%|▎         | 10/287 [00:07<03:19,  1.39it/s]"
     ]
    },
    {
     "name": "stdout",
     "output_type": "stream",
     "text": [
      "x1, x2:  1.7173983226342873 1.7183983226342872 C =  2.3770000000000895 i =  812\n"
     ]
    },
    {
     "name": "stderr",
     "output_type": "stream",
     "text": [
      "  4%|▍         | 11/287 [00:07<03:18,  1.39it/s]"
     ]
    },
    {
     "name": "stdout",
     "output_type": "stream",
     "text": [
      "x1, x2:  1.7177645335717873 1.7187645335717872 C =  2.3760000000000896 i =  813\n"
     ]
    },
    {
     "name": "stderr",
     "output_type": "stream",
     "text": [
      "  4%|▍         | 12/287 [00:08<03:17,  1.39it/s]"
     ]
    },
    {
     "name": "stdout",
     "output_type": "stream",
     "text": [
      "x1, x2:  1.7181307445092873 1.7191307445092872 C =  2.3750000000000897 i =  814\n"
     ]
    },
    {
     "name": "stderr",
     "output_type": "stream",
     "text": [
      "  5%|▍         | 13/287 [00:09<03:16,  1.39it/s]"
     ]
    },
    {
     "name": "stdout",
     "output_type": "stream",
     "text": [
      "x1, x2:  1.7184950023217873 1.7194950023217872 C =  2.37400000000009 i =  815\n"
     ]
    },
    {
     "name": "stderr",
     "output_type": "stream",
     "text": [
      "  5%|▍         | 14/287 [00:10<03:15,  1.39it/s]"
     ]
    },
    {
     "name": "stdout",
     "output_type": "stream",
     "text": [
      "x1, x2:  1.7188592601342874 1.7198592601342872 C =  2.37300000000009 i =  816\n"
     ]
    },
    {
     "name": "stderr",
     "output_type": "stream",
     "text": [
      "  5%|▌         | 15/287 [00:10<03:14,  1.40it/s]"
     ]
    },
    {
     "name": "stdout",
     "output_type": "stream",
     "text": [
      "x1, x2:  1.7192254710717874 1.7202254710717872 C =  2.37200000000009 i =  817\n"
     ]
    },
    {
     "name": "stderr",
     "output_type": "stream",
     "text": [
      "  6%|▌         | 16/287 [00:11<03:15,  1.39it/s]"
     ]
    },
    {
     "name": "stdout",
     "output_type": "stream",
     "text": [
      "x1, x2:  1.7195897288842874 1.7205897288842873 C =  2.37100000000009 i =  818\n"
     ]
    },
    {
     "name": "stderr",
     "output_type": "stream",
     "text": [
      "  6%|▌         | 17/287 [00:12<03:18,  1.36it/s]"
     ]
    },
    {
     "name": "stdout",
     "output_type": "stream",
     "text": [
      "x1, x2:  1.7199520335717875 1.7209520335717874 C =  2.3700000000000903 i =  819\n"
     ]
    },
    {
     "name": "stderr",
     "output_type": "stream",
     "text": [
      "  6%|▋         | 18/287 [00:13<03:16,  1.37it/s]"
     ]
    },
    {
     "name": "stdout",
     "output_type": "stream",
     "text": [
      "x1, x2:  1.7203162913842875 1.7213162913842874 C =  2.3690000000000904 i =  820\n"
     ]
    },
    {
     "name": "stderr",
     "output_type": "stream",
     "text": [
      "  7%|▋         | 19/287 [00:13<03:14,  1.38it/s]"
     ]
    },
    {
     "name": "stdout",
     "output_type": "stream",
     "text": [
      "x1, x2:  1.7206805491967876 1.7216805491967875 C =  2.3680000000000905 i =  821\n"
     ]
    },
    {
     "name": "stderr",
     "output_type": "stream",
     "text": [
      "  7%|▋         | 20/287 [00:14<03:14,  1.37it/s]"
     ]
    },
    {
     "name": "stdout",
     "output_type": "stream",
     "text": [
      "x1, x2:  1.7210428538842877 1.7220428538842876 C =  2.3670000000000906 i =  822\n"
     ]
    },
    {
     "name": "stderr",
     "output_type": "stream",
     "text": [
      "  7%|▋         | 21/287 [00:15<03:12,  1.38it/s]"
     ]
    },
    {
     "name": "stdout",
     "output_type": "stream",
     "text": [
      "x1, x2:  1.7214051585717878 1.7224051585717877 C =  2.3660000000000907 i =  823\n"
     ]
    },
    {
     "name": "stderr",
     "output_type": "stream",
     "text": [
      "  8%|▊         | 22/287 [00:15<03:11,  1.39it/s]"
     ]
    },
    {
     "name": "stdout",
     "output_type": "stream",
     "text": [
      "x1, x2:  1.7217674632592879 1.7227674632592878 C =  2.365000000000091 i =  824\n"
     ]
    },
    {
     "name": "stderr",
     "output_type": "stream",
     "text": [
      "  8%|▊         | 23/287 [00:16<03:10,  1.38it/s]"
     ]
    },
    {
     "name": "stdout",
     "output_type": "stream",
     "text": [
      "x1, x2:  1.722129767946788 1.7231297679467878 C =  2.364000000000091 i =  825\n"
     ]
    },
    {
     "name": "stderr",
     "output_type": "stream",
     "text": [
      "  8%|▊         | 24/287 [00:17<03:08,  1.39it/s]"
     ]
    },
    {
     "name": "stdout",
     "output_type": "stream",
     "text": [
      "x1, x2:  1.722492072634288 1.723492072634288 C =  2.363000000000091 i =  826\n"
     ]
    },
    {
     "name": "stderr",
     "output_type": "stream",
     "text": [
      "  9%|▊         | 25/287 [00:18<03:09,  1.38it/s]"
     ]
    },
    {
     "name": "stdout",
     "output_type": "stream",
     "text": [
      "x1, x2:  1.7228524241967882 1.723852424196788 C =  2.362000000000091 i =  827\n"
     ]
    },
    {
     "name": "stderr",
     "output_type": "stream",
     "text": [
      "  9%|▉         | 26/287 [00:18<03:07,  1.39it/s]"
     ]
    },
    {
     "name": "stdout",
     "output_type": "stream",
     "text": [
      "x1, x2:  1.7232127757592883 1.7242127757592882 C =  2.3610000000000912 i =  828\n"
     ]
    },
    {
     "name": "stderr",
     "output_type": "stream",
     "text": [
      "  9%|▉         | 27/287 [00:19<03:08,  1.38it/s]"
     ]
    },
    {
     "name": "stdout",
     "output_type": "stream",
     "text": [
      "x1, x2:  1.7235731273217885 1.7245731273217884 C =  2.3600000000000914 i =  829\n"
     ]
    },
    {
     "name": "stderr",
     "output_type": "stream",
     "text": [
      " 10%|▉         | 28/287 [00:20<03:06,  1.39it/s]"
     ]
    },
    {
     "name": "stdout",
     "output_type": "stream",
     "text": [
      "x1, x2:  1.7239334788842886 1.7249334788842885 C =  2.3590000000000915 i =  830\n"
     ]
    },
    {
     "name": "stderr",
     "output_type": "stream",
     "text": [
      " 10%|█         | 29/287 [00:20<03:06,  1.38it/s]"
     ]
    },
    {
     "name": "stdout",
     "output_type": "stream",
     "text": [
      "x1, x2:  1.7242938304467887 1.7252938304467886 C =  2.3580000000000916 i =  831\n"
     ]
    },
    {
     "name": "stderr",
     "output_type": "stream",
     "text": [
      " 10%|█         | 30/287 [00:21<03:06,  1.38it/s]"
     ]
    },
    {
     "name": "stdout",
     "output_type": "stream",
     "text": [
      "x1, x2:  1.7246541820092889 1.7256541820092888 C =  2.3570000000000917 i =  832\n"
     ]
    },
    {
     "name": "stderr",
     "output_type": "stream",
     "text": [
      " 11%|█         | 31/287 [00:22<03:05,  1.38it/s]"
     ]
    },
    {
     "name": "stdout",
     "output_type": "stream",
     "text": [
      "x1, x2:  1.7250125804467888 1.7260125804467887 C =  2.356000000000092 i =  833\n"
     ]
    },
    {
     "name": "stderr",
     "output_type": "stream",
     "text": [
      " 11%|█         | 32/287 [00:23<03:05,  1.37it/s]"
     ]
    },
    {
     "name": "stdout",
     "output_type": "stream",
     "text": [
      "x1, x2:  1.7253729320092888 1.7263729320092887 C =  2.355000000000092 i =  834\n"
     ]
    },
    {
     "name": "stderr",
     "output_type": "stream",
     "text": [
      " 11%|█▏        | 33/287 [00:23<03:04,  1.38it/s]"
     ]
    },
    {
     "name": "stdout",
     "output_type": "stream",
     "text": [
      "x1, x2:  1.7257313304467887 1.7267313304467886 C =  2.354000000000092 i =  835\n"
     ]
    },
    {
     "name": "stderr",
     "output_type": "stream",
     "text": [
      " 12%|█▏        | 34/287 [00:24<03:05,  1.37it/s]"
     ]
    },
    {
     "name": "stdout",
     "output_type": "stream",
     "text": [
      "x1, x2:  1.7260897288842885 1.7270897288842884 C =  2.353000000000092 i =  836\n"
     ]
    },
    {
     "name": "stderr",
     "output_type": "stream",
     "text": [
      " 12%|█▏        | 35/287 [00:25<03:04,  1.37it/s]"
     ]
    },
    {
     "name": "stdout",
     "output_type": "stream",
     "text": [
      "x1, x2:  1.7264481273217882 1.727448127321788 C =  2.3520000000000922 i =  837\n"
     ]
    },
    {
     "name": "stderr",
     "output_type": "stream",
     "text": [
      " 13%|█▎        | 36/287 [00:26<03:03,  1.37it/s]"
     ]
    },
    {
     "name": "stdout",
     "output_type": "stream",
     "text": [
      "x1, x2:  1.726804572634288 1.7278045726342879 C =  2.3510000000000923 i =  838\n"
     ]
    },
    {
     "name": "stderr",
     "output_type": "stream",
     "text": [
      " 13%|█▎        | 37/287 [00:26<03:03,  1.36it/s]"
     ]
    },
    {
     "name": "stdout",
     "output_type": "stream",
     "text": [
      "x1, x2:  1.7271629710717877 1.7281629710717876 C =  2.3500000000000925 i =  839\n"
     ]
    },
    {
     "name": "stderr",
     "output_type": "stream",
     "text": [
      " 13%|█▎        | 38/287 [00:27<03:02,  1.37it/s]"
     ]
    },
    {
     "name": "stdout",
     "output_type": "stream",
     "text": [
      "x1, x2:  1.7275194163842875 1.7285194163842874 C =  2.3490000000000926 i =  840\n"
     ]
    },
    {
     "name": "stderr",
     "output_type": "stream",
     "text": [
      " 14%|█▎        | 39/287 [00:28<03:00,  1.37it/s]"
     ]
    },
    {
     "name": "stdout",
     "output_type": "stream",
     "text": [
      "x1, x2:  1.7278758616967873 1.7288758616967872 C =  2.3480000000000927 i =  841\n"
     ]
    },
    {
     "name": "stderr",
     "output_type": "stream",
     "text": [
      " 14%|█▍        | 40/287 [00:28<03:00,  1.37it/s]"
     ]
    },
    {
     "name": "stdout",
     "output_type": "stream",
     "text": [
      "x1, x2:  1.728232307009287 1.729232307009287 C =  2.347000000000093 i =  842\n"
     ]
    },
    {
     "name": "stderr",
     "output_type": "stream",
     "text": [
      " 14%|█▍        | 41/287 [00:29<03:00,  1.36it/s]"
     ]
    },
    {
     "name": "stdout",
     "output_type": "stream",
     "text": [
      "x1, x2:  1.7285887523217869 1.7295887523217868 C =  2.346000000000093 i =  843\n"
     ]
    },
    {
     "name": "stderr",
     "output_type": "stream",
     "text": [
      " 15%|█▍        | 42/287 [00:30<03:00,  1.36it/s]"
     ]
    },
    {
     "name": "stdout",
     "output_type": "stream",
     "text": [
      "x1, x2:  1.7289451976342867 1.7299451976342866 C =  2.345000000000093 i =  844\n"
     ]
    },
    {
     "name": "stderr",
     "output_type": "stream",
     "text": [
      " 15%|█▍        | 43/287 [00:31<03:01,  1.34it/s]"
     ]
    },
    {
     "name": "stdout",
     "output_type": "stream",
     "text": [
      "x1, x2:  1.7293016429467865 1.7303016429467863 C =  2.344000000000093 i =  845\n"
     ]
    },
    {
     "name": "stderr",
     "output_type": "stream",
     "text": [
      " 15%|█▌        | 44/287 [00:31<03:01,  1.34it/s]"
     ]
    },
    {
     "name": "stdout",
     "output_type": "stream",
     "text": [
      "x1, x2:  1.7296561351342863 1.7306561351342862 C =  2.3430000000000932 i =  846\n"
     ]
    },
    {
     "name": "stderr",
     "output_type": "stream",
     "text": [
      " 16%|█▌        | 45/287 [00:32<03:00,  1.34it/s]"
     ]
    },
    {
     "name": "stdout",
     "output_type": "stream",
     "text": [
      "x1, x2:  1.7300106273217861 1.731010627321786 C =  2.3420000000000933 i =  847\n"
     ]
    },
    {
     "name": "stderr",
     "output_type": "stream",
     "text": [
      " 16%|█▌        | 46/287 [00:33<03:01,  1.33it/s]"
     ]
    },
    {
     "name": "stdout",
     "output_type": "stream",
     "text": [
      "x1, x2:  1.730365119509286 1.7313651195092858 C =  2.3410000000000935 i =  848\n"
     ]
    },
    {
     "name": "stderr",
     "output_type": "stream",
     "text": [
      " 16%|█▋        | 47/287 [00:34<03:00,  1.33it/s]"
     ]
    },
    {
     "name": "stdout",
     "output_type": "stream",
     "text": [
      "x1, x2:  1.7307196116967858 1.7317196116967857 C =  2.3400000000000936 i =  849\n"
     ]
    },
    {
     "name": "stderr",
     "output_type": "stream",
     "text": [
      " 17%|█▋        | 48/287 [00:34<02:59,  1.33it/s]"
     ]
    },
    {
     "name": "stdout",
     "output_type": "stream",
     "text": [
      "x1, x2:  1.7310741038842856 1.7320741038842855 C =  2.3390000000000937 i =  850\n"
     ]
    },
    {
     "name": "stderr",
     "output_type": "stream",
     "text": [
      " 17%|█▋        | 49/287 [00:35<02:57,  1.34it/s]"
     ]
    },
    {
     "name": "stdout",
     "output_type": "stream",
     "text": [
      "x1, x2:  1.7314266429467855 1.7324266429467854 C =  2.338000000000094 i =  851\n"
     ]
    },
    {
     "name": "stderr",
     "output_type": "stream",
     "text": [
      " 17%|█▋        | 50/287 [00:36<02:56,  1.34it/s]"
     ]
    },
    {
     "name": "stdout",
     "output_type": "stream",
     "text": [
      "x1, x2:  1.7317811351342853 1.7327811351342852 C =  2.337000000000094 i =  852\n"
     ]
    },
    {
     "name": "stderr",
     "output_type": "stream",
     "text": [
      " 18%|█▊        | 51/287 [00:37<02:54,  1.35it/s]"
     ]
    },
    {
     "name": "stdout",
     "output_type": "stream",
     "text": [
      "x1, x2:  1.7321336741967852 1.733133674196785 C =  2.336000000000094 i =  853\n"
     ]
    },
    {
     "name": "stderr",
     "output_type": "stream",
     "text": [
      " 18%|█▊        | 52/287 [00:37<02:54,  1.35it/s]"
     ]
    },
    {
     "name": "stdout",
     "output_type": "stream",
     "text": [
      "x1, x2:  1.732486213259285 1.733486213259285 C =  2.335000000000094 i =  854\n"
     ]
    },
    {
     "name": "stderr",
     "output_type": "stream",
     "text": [
      " 18%|█▊        | 53/287 [00:38<02:55,  1.34it/s]"
     ]
    },
    {
     "name": "stdout",
     "output_type": "stream",
     "text": [
      "x1, x2:  1.732838752321785 1.7338387523217849 C =  2.334000000000094 i =  855\n"
     ]
    },
    {
     "name": "stderr",
     "output_type": "stream",
     "text": [
      " 19%|█▉        | 54/287 [00:39<02:55,  1.33it/s]"
     ]
    },
    {
     "name": "stdout",
     "output_type": "stream",
     "text": [
      "x1, x2:  1.7331912913842848 1.7341912913842847 C =  2.3330000000000943 i =  856\n"
     ]
    },
    {
     "name": "stderr",
     "output_type": "stream",
     "text": [
      " 19%|█▉        | 55/287 [00:40<02:54,  1.33it/s]"
     ]
    },
    {
     "name": "stdout",
     "output_type": "stream",
     "text": [
      "x1, x2:  1.7335418773217846 1.7345418773217844 C =  2.3320000000000944 i =  857\n"
     ]
    },
    {
     "name": "stderr",
     "output_type": "stream",
     "text": [
      " 20%|█▉        | 56/287 [00:40<02:52,  1.34it/s]"
     ]
    },
    {
     "name": "stdout",
     "output_type": "stream",
     "text": [
      "x1, x2:  1.7338944163842847 1.7348944163842845 C =  2.3310000000000946 i =  858\n"
     ]
    },
    {
     "name": "stderr",
     "output_type": "stream",
     "text": [
      " 20%|█▉        | 57/287 [00:41<02:52,  1.34it/s]"
     ]
    },
    {
     "name": "stdout",
     "output_type": "stream",
     "text": [
      "x1, x2:  1.7342450023217844 1.7352450023217842 C =  2.3300000000000947 i =  859\n"
     ]
    },
    {
     "name": "stderr",
     "output_type": "stream",
     "text": [
      " 20%|██        | 58/287 [00:42<02:50,  1.34it/s]"
     ]
    },
    {
     "name": "stdout",
     "output_type": "stream",
     "text": [
      "x1, x2:  1.7345955882592843 1.7355955882592842 C =  2.3290000000000948 i =  860\n"
     ]
    },
    {
     "name": "stderr",
     "output_type": "stream",
     "text": [
      " 21%|██        | 59/287 [00:43<02:52,  1.32it/s]"
     ]
    },
    {
     "name": "stdout",
     "output_type": "stream",
     "text": [
      "x1, x2:  1.7349461741967842 1.735946174196784 C =  2.328000000000095 i =  861\n"
     ]
    },
    {
     "name": "stderr",
     "output_type": "stream",
     "text": [
      " 21%|██        | 60/287 [00:43<02:50,  1.33it/s]"
     ]
    },
    {
     "name": "stdout",
     "output_type": "stream",
     "text": [
      "x1, x2:  1.7352967601342841 1.736296760134284 C =  2.327000000000095 i =  862\n"
     ]
    },
    {
     "name": "stderr",
     "output_type": "stream",
     "text": [
      " 21%|██▏       | 61/287 [00:44<02:48,  1.34it/s]"
     ]
    },
    {
     "name": "stdout",
     "output_type": "stream",
     "text": [
      "x1, x2:  1.735645392946784 1.736645392946784 C =  2.326000000000095 i =  863\n"
     ]
    },
    {
     "name": "stderr",
     "output_type": "stream",
     "text": [
      " 22%|██▏       | 62/287 [00:45<02:47,  1.34it/s]"
     ]
    },
    {
     "name": "stdout",
     "output_type": "stream",
     "text": [
      "x1, x2:  1.735995978884284 1.736995978884284 C =  2.325000000000095 i =  864\n"
     ]
    },
    {
     "name": "stderr",
     "output_type": "stream",
     "text": [
      " 22%|██▏       | 63/287 [00:46<02:46,  1.35it/s]"
     ]
    },
    {
     "name": "stdout",
     "output_type": "stream",
     "text": [
      "x1, x2:  1.736344611696784 1.737344611696784 C =  2.3240000000000953 i =  865\n"
     ]
    },
    {
     "name": "stderr",
     "output_type": "stream",
     "text": [
      " 22%|██▏       | 64/287 [00:46<02:45,  1.35it/s]"
     ]
    },
    {
     "name": "stdout",
     "output_type": "stream",
     "text": [
      "x1, x2:  1.736693244509284 1.7376932445092839 C =  2.3230000000000954 i =  866\n"
     ]
    },
    {
     "name": "stderr",
     "output_type": "stream",
     "text": [
      " 23%|██▎       | 65/287 [00:47<02:45,  1.34it/s]"
     ]
    },
    {
     "name": "stdout",
     "output_type": "stream",
     "text": [
      "x1, x2:  1.7380418773217838 1.7390418773217837 C =  2.3220000000000955 i =  867\n"
     ]
    },
    {
     "name": "stderr",
     "output_type": "stream",
     "text": [
      " 23%|██▎       | 66/287 [00:48<02:57,  1.24it/s]"
     ]
    },
    {
     "name": "stdout",
     "output_type": "stream",
     "text": [
      "x1, x2:  2.2112108226342317 2.2122108226342316 C =  2.3210000000000957 i =  868\n"
     ]
    },
    {
     "name": "stderr",
     "output_type": "stream",
     "text": [
      " 23%|██▎       | 67/287 [01:53<1:13:19, 20.00s/it]"
     ]
    },
    {
     "name": "stdout",
     "output_type": "stream",
     "text": [
      "x1, x2:  2.213118049196732 2.214118049196732 C =  2.3200000000000958 i =  869\n"
     ]
    },
    {
     "name": "stderr",
     "output_type": "stream",
     "text": [
      " 23%|██▎       | 67/287 [02:24<07:54,  2.16s/it]  \n"
     ]
    },
    {
     "ename": "KeyboardInterrupt",
     "evalue": "",
     "output_type": "error",
     "traceback": [
      "\u001b[1;31m---------------------------------------------------------------------------\u001b[0m",
      "\u001b[1;31mKeyboardInterrupt\u001b[0m                         Traceback (most recent call last)",
      "Cell \u001b[1;32mIn [145], line 36\u001b[0m\n\u001b[0;32m     24\u001b[0m     \u001b[38;5;66;03m# testloop\u001b[39;00m\n\u001b[0;32m     25\u001b[0m     \u001b[38;5;66;03m# for j in tqdm(range(1, 10)):\u001b[39;00m\n\u001b[0;32m     26\u001b[0m     \u001b[38;5;66;03m#     i = 100*j\u001b[39;00m\n\u001b[1;32m   (...)\u001b[0m\n\u001b[0;32m     31\u001b[0m     \u001b[38;5;66;03m#     print('the root', x_root)\u001b[39;00m\n\u001b[0;32m     32\u001b[0m     \u001b[38;5;66;03m#     x_vals[i] = x_root\u001b[39;00m\n\u001b[0;32m     34\u001b[0m     \u001b[38;5;28;01mreturn\u001b[39;00m C_vals, x_vals\n\u001b[1;32m---> 36\u001b[0m C_vals_end, x_vals_end \u001b[38;5;241m=\u001b[39m \u001b[43mcharacteristic_curve_last_200\u001b[49m\u001b[43m(\u001b[49m\u001b[43m)\u001b[49m\n\u001b[0;32m     37\u001b[0m \u001b[38;5;28mprint\u001b[39m(C_vals)\n\u001b[0;32m     38\u001b[0m \u001b[38;5;28mprint\u001b[39m(x_vals)\n",
      "Cell \u001b[1;32mIn [145], line 22\u001b[0m, in \u001b[0;36mcharacteristic_curve_last_200\u001b[1;34m()\u001b[0m\n\u001b[0;32m     20\u001b[0m     x1, x2 \u001b[38;5;241m=\u001b[39m F_rough_search(x_vals[i\u001b[38;5;241m-\u001b[39m\u001b[38;5;241m1\u001b[39m], xincx, C_vals[i])\n\u001b[0;32m     21\u001b[0m     \u001b[38;5;28mprint\u001b[39m(\u001b[38;5;124m'\u001b[39m\u001b[38;5;124mx1, x2: \u001b[39m\u001b[38;5;124m'\u001b[39m, x1, x2, \u001b[38;5;124m'\u001b[39m\u001b[38;5;124mC = \u001b[39m\u001b[38;5;124m'\u001b[39m, C_vals[i], \u001b[38;5;124m'\u001b[39m\u001b[38;5;124mi = \u001b[39m\u001b[38;5;124m'\u001b[39m, i)\n\u001b[1;32m---> 22\u001b[0m     x_root \u001b[38;5;241m=\u001b[39m \u001b[43mF_refine_bisection\u001b[49m\u001b[43m(\u001b[49m\u001b[43mx1\u001b[49m\u001b[43m,\u001b[49m\u001b[43m \u001b[49m\u001b[43mx2\u001b[49m\u001b[43m,\u001b[49m\u001b[43m \u001b[49m\u001b[43mC_vals\u001b[49m\u001b[43m[\u001b[49m\u001b[43mi\u001b[49m\u001b[43m]\u001b[49m\u001b[43m)\u001b[49m\n\u001b[0;32m     23\u001b[0m     x_vals[i] \u001b[38;5;241m=\u001b[39m x_root\n\u001b[0;32m     24\u001b[0m \u001b[38;5;66;03m# testloop\u001b[39;00m\n\u001b[0;32m     25\u001b[0m \u001b[38;5;66;03m# for j in tqdm(range(1, 10)):\u001b[39;00m\n\u001b[0;32m     26\u001b[0m \u001b[38;5;66;03m#     i = 100*j\u001b[39;00m\n\u001b[1;32m   (...)\u001b[0m\n\u001b[0;32m     31\u001b[0m \u001b[38;5;66;03m#     print('the root', x_root)\u001b[39;00m\n\u001b[0;32m     32\u001b[0m \u001b[38;5;66;03m#     x_vals[i] = x_root\u001b[39;00m\n",
      "Cell \u001b[1;32mIn [120], line 8\u001b[0m, in \u001b[0;36mF_refine_bisection\u001b[1;34m(x1, x2, C)\u001b[0m\n\u001b[0;32m      4\u001b[0m \u001b[38;5;28;01mdef\u001b[39;00m \u001b[38;5;21mF_refine_bisection\u001b[39m(x1, x2, C):\n\u001b[0;32m      5\u001b[0m     \u001b[38;5;66;03m# Function to refine the root of F(x,C) using scipy bisection\u001b[39;00m\n\u001b[0;32m      6\u001b[0m     \u001b[38;5;66;03m# x1 and x2 are the x values where F(x,C) changes sign\u001b[39;00m\n\u001b[0;32m      7\u001b[0m     \u001b[38;5;66;03m# C is the Jacobi constant\u001b[39;00m\n\u001b[1;32m----> 8\u001b[0m     \u001b[38;5;28;01mreturn\u001b[39;00m \u001b[43mbisect\u001b[49m\u001b[43m(\u001b[49m\u001b[38;5;28;43;01mlambda\u001b[39;49;00m\u001b[43m \u001b[49m\u001b[43mx\u001b[49m\u001b[43m:\u001b[49m\u001b[43m \u001b[49m\u001b[43mF\u001b[49m\u001b[43m(\u001b[49m\u001b[43mx\u001b[49m\u001b[43m,\u001b[49m\u001b[43m \u001b[49m\u001b[43mC\u001b[49m\u001b[43m)\u001b[49m\u001b[43m,\u001b[49m\u001b[43m \u001b[49m\u001b[43mx1\u001b[49m\u001b[43m,\u001b[49m\u001b[43m \u001b[49m\u001b[43mx2\u001b[49m\u001b[43m,\u001b[49m\u001b[43m \u001b[49m\u001b[43mxtol\u001b[49m\u001b[38;5;241;43m=\u001b[39;49m\u001b[38;5;241;43m1e-6\u001b[39;49m\u001b[43m,\u001b[49m\u001b[43m \u001b[49m\u001b[43mmaxiter\u001b[49m\u001b[38;5;241;43m=\u001b[39;49m\u001b[38;5;241;43m10\u001b[39;49m\u001b[43m)\u001b[49m\n",
      "File \u001b[1;32mc:\\Users\\rannu\\OneDrive - NTNU\\Desktop\\VsPython\\ntnusession\\lib\\site-packages\\scipy\\optimize\\_zeros_py.py:556\u001b[0m, in \u001b[0;36mbisect\u001b[1;34m(f, a, b, args, xtol, rtol, maxiter, full_output, disp)\u001b[0m\n\u001b[0;32m    554\u001b[0m \u001b[38;5;28;01mif\u001b[39;00m rtol \u001b[38;5;241m<\u001b[39m _rtol:\n\u001b[0;32m    555\u001b[0m     \u001b[38;5;28;01mraise\u001b[39;00m \u001b[38;5;167;01mValueError\u001b[39;00m(\u001b[38;5;124m\"\u001b[39m\u001b[38;5;124mrtol too small (\u001b[39m\u001b[38;5;132;01m%g\u001b[39;00m\u001b[38;5;124m < \u001b[39m\u001b[38;5;132;01m%g\u001b[39;00m\u001b[38;5;124m)\u001b[39m\u001b[38;5;124m\"\u001b[39m \u001b[38;5;241m%\u001b[39m (rtol, _rtol))\n\u001b[1;32m--> 556\u001b[0m r \u001b[38;5;241m=\u001b[39m \u001b[43m_zeros\u001b[49m\u001b[38;5;241;43m.\u001b[39;49m\u001b[43m_bisect\u001b[49m\u001b[43m(\u001b[49m\u001b[43mf\u001b[49m\u001b[43m,\u001b[49m\u001b[43m \u001b[49m\u001b[43ma\u001b[49m\u001b[43m,\u001b[49m\u001b[43m \u001b[49m\u001b[43mb\u001b[49m\u001b[43m,\u001b[49m\u001b[43m \u001b[49m\u001b[43mxtol\u001b[49m\u001b[43m,\u001b[49m\u001b[43m \u001b[49m\u001b[43mrtol\u001b[49m\u001b[43m,\u001b[49m\u001b[43m \u001b[49m\u001b[43mmaxiter\u001b[49m\u001b[43m,\u001b[49m\u001b[43m \u001b[49m\u001b[43margs\u001b[49m\u001b[43m,\u001b[49m\u001b[43m \u001b[49m\u001b[43mfull_output\u001b[49m\u001b[43m,\u001b[49m\u001b[43m \u001b[49m\u001b[43mdisp\u001b[49m\u001b[43m)\u001b[49m\n\u001b[0;32m    557\u001b[0m \u001b[38;5;28;01mreturn\u001b[39;00m results_c(full_output, r)\n",
      "Cell \u001b[1;32mIn [120], line 8\u001b[0m, in \u001b[0;36mF_refine_bisection.<locals>.<lambda>\u001b[1;34m(x)\u001b[0m\n\u001b[0;32m      4\u001b[0m \u001b[38;5;28;01mdef\u001b[39;00m \u001b[38;5;21mF_refine_bisection\u001b[39m(x1, x2, C):\n\u001b[0;32m      5\u001b[0m     \u001b[38;5;66;03m# Function to refine the root of F(x,C) using scipy bisection\u001b[39;00m\n\u001b[0;32m      6\u001b[0m     \u001b[38;5;66;03m# x1 and x2 are the x values where F(x,C) changes sign\u001b[39;00m\n\u001b[0;32m      7\u001b[0m     \u001b[38;5;66;03m# C is the Jacobi constant\u001b[39;00m\n\u001b[1;32m----> 8\u001b[0m     \u001b[38;5;28;01mreturn\u001b[39;00m bisect(\u001b[38;5;28;01mlambda\u001b[39;00m x: \u001b[43mF\u001b[49m\u001b[43m(\u001b[49m\u001b[43mx\u001b[49m\u001b[43m,\u001b[49m\u001b[43m \u001b[49m\u001b[43mC\u001b[49m\u001b[43m)\u001b[49m, x1, x2, xtol\u001b[38;5;241m=\u001b[39m\u001b[38;5;241m1e-6\u001b[39m, maxiter\u001b[38;5;241m=\u001b[39m\u001b[38;5;241m10\u001b[39m)\n",
      "Cell \u001b[1;32mIn [104], line 20\u001b[0m, in \u001b[0;36mF\u001b[1;34m(x, C)\u001b[0m\n\u001b[0;32m     16\u001b[0m refinement_fine \u001b[38;5;241m=\u001b[39m \u001b[38;5;241m300\u001b[39m\n\u001b[0;32m     17\u001b[0m tol \u001b[38;5;241m=\u001b[39m \u001b[38;5;241m1e-3\u001b[39m\n\u001b[0;32m     19\u001b[0m newInitial, TimeDuration,_ \u001b[38;5;241m=\u001b[39m \\\n\u001b[1;32m---> 20\u001b[0m     \u001b[43mpoincare_map_solve_ivp_R3BP\u001b[49m\u001b[43m(\u001b[49m\u001b[38;5;28;43;01mlambda\u001b[39;49;00m\u001b[43m \u001b[49m\u001b[43mt\u001b[49m\u001b[43m,\u001b[49m\u001b[43m \u001b[49m\u001b[43mX\u001b[49m\u001b[43m:\u001b[49m\u001b[43m \u001b[49m\u001b[43mODE_R3BP\u001b[49m\u001b[43m(\u001b[49m\u001b[43mt\u001b[49m\u001b[43m,\u001b[49m\u001b[43m \u001b[49m\u001b[43mmu\u001b[49m\u001b[43m,\u001b[49m\u001b[43m \u001b[49m\u001b[43mX\u001b[49m\u001b[43m)\u001b[49m\u001b[43m,\u001b[49m\u001b[43m \u001b[49m\n\u001b[0;32m     21\u001b[0m \u001b[43m                                \u001b[49m\u001b[43minit_cond\u001b[49m\u001b[43m,\u001b[49m\u001b[43m \u001b[49m\n\u001b[0;32m     22\u001b[0m \u001b[43m                                \u001b[49m\u001b[43miregion\u001b[49m\u001b[43m,\u001b[49m\u001b[43m \u001b[49m\u001b[43mdt\u001b[49m\u001b[43m,\u001b[49m\u001b[43m \u001b[49m\u001b[43mt_span\u001b[49m\u001b[43m,\u001b[49m\u001b[43m \u001b[49m\u001b[43mmu\u001b[49m\u001b[43m,\u001b[49m\u001b[43m \u001b[49m\n\u001b[0;32m     23\u001b[0m \u001b[43m                                \u001b[49m\u001b[43minit_search\u001b[49m\u001b[43m \u001b[49m\u001b[38;5;241;43m=\u001b[39;49m\u001b[43m \u001b[49m\u001b[43mrefinement\u001b[49m\u001b[43m,\u001b[49m\u001b[43m \u001b[49m\n\u001b[0;32m     24\u001b[0m \u001b[43m                                \u001b[49m\u001b[43mrefinement\u001b[49m\u001b[43m \u001b[49m\u001b[38;5;241;43m=\u001b[39;49m\u001b[43m \u001b[49m\u001b[43mrefinement_fine\u001b[49m\u001b[43m,\u001b[49m\u001b[43m \u001b[49m\n\u001b[0;32m     25\u001b[0m \u001b[43m                                \u001b[49m\u001b[43mnewton_tol\u001b[49m\u001b[43m \u001b[49m\u001b[38;5;241;43m=\u001b[39;49m\u001b[43m \u001b[49m\u001b[43mtol\u001b[49m\u001b[43m)\u001b[49m\n\u001b[0;32m     27\u001b[0m \u001b[38;5;28;01mreturn\u001b[39;00m newInitial[\u001b[38;5;241m2\u001b[39m]\n",
      "File \u001b[1;32mC:\\Users/rannu/OneDrive - NTNU/Desktop/VsPython/Spain/NMfDS/Assignments/Ass7\\PoincareR3BP.py:64\u001b[0m, in \u001b[0;36mpoincare_map_solve_ivp_R3BP\u001b[1;34m(ODE_R3BP, initial_conditions, dir, step, t_span, mu, init_search, init_tol, refinement, newton_tol)\u001b[0m\n\u001b[0;32m     62\u001b[0m \u001b[38;5;66;03m# Procedure to compute the exact time of the crossing\u001b[39;00m\n\u001b[0;32m     63\u001b[0m \u001b[38;5;28;01mfor\u001b[39;00m i \u001b[38;5;129;01min\u001b[39;00m \u001b[38;5;28mrange\u001b[39m(refinement):\n\u001b[1;32m---> 64\u001b[0m     solution \u001b[38;5;241m=\u001b[39m \u001b[43mODE_solver\u001b[49m\u001b[43m(\u001b[49m\u001b[43mODE_R3BP\u001b[49m\u001b[43m,\u001b[49m\u001b[43m \u001b[49m\u001b[43minitial_conditions\u001b[49m\u001b[43m,\u001b[49m\u001b[43m \u001b[49m\u001b[43mtime\u001b[49m\u001b[43m,\u001b[49m\u001b[43m \u001b[49m\u001b[38;5;241;43m1000\u001b[39;49m\u001b[43m,\u001b[49m\n\u001b[0;32m     65\u001b[0m \u001b[43m                          \u001b[49m\u001b[43mtol\u001b[49m\u001b[43m \u001b[49m\u001b[38;5;241;43m=\u001b[39;49m\u001b[43m \u001b[49m\u001b[43minit_tol\u001b[49m\u001b[43m,\u001b[49m\n\u001b[0;32m     66\u001b[0m \u001b[43m                          \u001b[49m\u001b[43mhamiltonian\u001b[49m\u001b[38;5;241;43m=\u001b[39;49m\u001b[38;5;28;43;01mlambda\u001b[39;49;00m\u001b[43m \u001b[49m\u001b[43mX\u001b[49m\u001b[43m:\u001b[49m\u001b[43m \u001b[49m\u001b[43m\\\u001b[49m\n\u001b[0;32m     67\u001b[0m \u001b[43m                            \u001b[49m\u001b[43mJacobi_first_integral\u001b[49m\u001b[43m(\u001b[49m\u001b[43mmu\u001b[49m\u001b[43m,\u001b[49m\u001b[43m \u001b[49m\u001b[43mX\u001b[49m\u001b[43m[\u001b[49m\u001b[38;5;241;43m0\u001b[39;49m\u001b[43m]\u001b[49m\u001b[43m,\u001b[49m\u001b[43m \u001b[49m\u001b[43mX\u001b[49m\u001b[43m[\u001b[49m\u001b[38;5;241;43m1\u001b[39;49m\u001b[43m]\u001b[49m\u001b[43m,\u001b[49m\n\u001b[0;32m     68\u001b[0m \u001b[43m                                                    \u001b[49m\u001b[43mX\u001b[49m\u001b[43m[\u001b[49m\u001b[38;5;241;43m2\u001b[39;49m\u001b[43m]\u001b[49m\u001b[43m,\u001b[49m\u001b[43m \u001b[49m\u001b[43mX\u001b[49m\u001b[43m[\u001b[49m\u001b[38;5;241;43m3\u001b[39;49m\u001b[43m]\u001b[49m\u001b[43m)\u001b[49m\u001b[43m)\u001b[49m\n\u001b[0;32m     69\u001b[0m     Y \u001b[38;5;241m=\u001b[39m solution\u001b[38;5;241m.\u001b[39my\u001b[38;5;241m.\u001b[39mT\n\u001b[0;32m     70\u001b[0m     \u001b[38;5;66;03m# One iteration of Newton's method.\u001b[39;00m\n",
      "File \u001b[1;32mC:\\Users/rannu/OneDrive - NTNU/Desktop/VsPython/Spain/NMfDS/Assignments/Ass6\\custom_ODE_solver.py:19\u001b[0m, in \u001b[0;36mODE_solver\u001b[1;34m(func, x0, t_max, eval_pts, tol, t_min, method, hamiltonian)\u001b[0m\n\u001b[0;32m      4\u001b[0m \u001b[38;5;28;01mdef\u001b[39;00m \u001b[38;5;21mODE_solver\u001b[39m(func, x0, t_max, eval_pts, tol\u001b[38;5;241m=\u001b[39m\u001b[38;5;241m1e-12\u001b[39m, t_min\u001b[38;5;241m=\u001b[39m\u001b[38;5;241m0\u001b[39m, method\u001b[38;5;241m=\u001b[39m\u001b[38;5;124m'\u001b[39m\u001b[38;5;124mDOP853\u001b[39m\u001b[38;5;124m'\u001b[39m, hamiltonian\u001b[38;5;241m=\u001b[39m\u001b[38;5;241m0\u001b[39m):\n\u001b[0;32m      5\u001b[0m     \u001b[38;5;66;03m# Variable explanation:\u001b[39;00m\n\u001b[0;32m      6\u001b[0m     \u001b[38;5;66;03m# func: the function f in the system of ODEs\u001b[39;00m\n\u001b[1;32m   (...)\u001b[0m\n\u001b[0;32m     14\u001b[0m \n\u001b[0;32m     15\u001b[0m     \u001b[38;5;66;03m# RETURNS: the solution of the system of ODEs as a scipy.integrate.solve_ivp object\u001b[39;00m\n\u001b[0;32m     17\u001b[0m     t_eval \u001b[38;5;241m=\u001b[39m np\u001b[38;5;241m.\u001b[39mlinspace(t_min, t_max, eval_pts)\n\u001b[1;32m---> 19\u001b[0m     sol \u001b[38;5;241m=\u001b[39m \u001b[43msp\u001b[49m\u001b[38;5;241;43m.\u001b[39;49m\u001b[43mintegrate\u001b[49m\u001b[38;5;241;43m.\u001b[39;49m\u001b[43msolve_ivp\u001b[49m\u001b[43m(\u001b[49m\n\u001b[0;32m     20\u001b[0m \u001b[43m        \u001b[49m\u001b[43mfunc\u001b[49m\u001b[43m,\u001b[49m\u001b[43m \u001b[49m\u001b[43m[\u001b[49m\u001b[43mt_min\u001b[49m\u001b[43m,\u001b[49m\u001b[43m \u001b[49m\u001b[43mt_max\u001b[49m\u001b[43m]\u001b[49m\u001b[43m,\u001b[49m\u001b[43m \u001b[49m\u001b[43mx0\u001b[49m\u001b[43m,\u001b[49m\u001b[43m \u001b[49m\u001b[43mmethod\u001b[49m\u001b[38;5;241;43m=\u001b[39;49m\u001b[43mmethod\u001b[49m\u001b[43m,\u001b[49m\u001b[43m \u001b[49m\n\u001b[0;32m     21\u001b[0m \u001b[43m        \u001b[49m\u001b[43mt_eval\u001b[49m\u001b[38;5;241;43m=\u001b[39;49m\u001b[43mt_eval\u001b[49m\u001b[43m,\u001b[49m\u001b[43m \u001b[49m\u001b[43matol\u001b[49m\u001b[38;5;241;43m=\u001b[39;49m\u001b[43mtol\u001b[49m\u001b[43m,\u001b[49m\u001b[43m \u001b[49m\u001b[43mrtol\u001b[49m\u001b[38;5;241;43m=\u001b[39;49m\u001b[43mtol\u001b[49m\u001b[43m)\u001b[49m\n\u001b[0;32m     23\u001b[0m     \u001b[38;5;66;03m# Check if the hamiltonian remains constant for all points, by checking the error. break iff error > tol\u001b[39;00m\n\u001b[0;32m     24\u001b[0m     \u001b[38;5;66;03m# Also chek the determinant of the matrix [[x3, x4], [x5, x6]]\u001b[39;00m\n\u001b[0;32m     25\u001b[0m     \u001b[38;5;66;03m# if hamiltonian == 0:\u001b[39;00m\n\u001b[1;32m   (...)\u001b[0m\n\u001b[0;32m     33\u001b[0m     \u001b[38;5;66;03m#             print(\"Hamiltonian at x = \", hamiltonian(sol.y[:, i]))\u001b[39;00m\n\u001b[0;32m     34\u001b[0m     \u001b[38;5;66;03m#             break\u001b[39;00m\n\u001b[0;32m     35\u001b[0m     \u001b[38;5;28;01mreturn\u001b[39;00m sol\n",
      "File \u001b[1;32mc:\\Users\\rannu\\OneDrive - NTNU\\Desktop\\VsPython\\ntnusession\\lib\\site-packages\\scipy\\integrate\\_ivp\\ivp.py:589\u001b[0m, in \u001b[0;36msolve_ivp\u001b[1;34m(fun, t_span, y0, method, t_eval, dense_output, events, vectorized, args, **options)\u001b[0m\n\u001b[0;32m    587\u001b[0m status \u001b[38;5;241m=\u001b[39m \u001b[38;5;28;01mNone\u001b[39;00m\n\u001b[0;32m    588\u001b[0m \u001b[38;5;28;01mwhile\u001b[39;00m status \u001b[38;5;129;01mis\u001b[39;00m \u001b[38;5;28;01mNone\u001b[39;00m:\n\u001b[1;32m--> 589\u001b[0m     message \u001b[38;5;241m=\u001b[39m \u001b[43msolver\u001b[49m\u001b[38;5;241;43m.\u001b[39;49m\u001b[43mstep\u001b[49m\u001b[43m(\u001b[49m\u001b[43m)\u001b[49m\n\u001b[0;32m    591\u001b[0m     \u001b[38;5;28;01mif\u001b[39;00m solver\u001b[38;5;241m.\u001b[39mstatus \u001b[38;5;241m==\u001b[39m \u001b[38;5;124m'\u001b[39m\u001b[38;5;124mfinished\u001b[39m\u001b[38;5;124m'\u001b[39m:\n\u001b[0;32m    592\u001b[0m         status \u001b[38;5;241m=\u001b[39m \u001b[38;5;241m0\u001b[39m\n",
      "File \u001b[1;32mc:\\Users\\rannu\\OneDrive - NTNU\\Desktop\\VsPython\\ntnusession\\lib\\site-packages\\scipy\\integrate\\_ivp\\base.py:181\u001b[0m, in \u001b[0;36mOdeSolver.step\u001b[1;34m(self)\u001b[0m\n\u001b[0;32m    179\u001b[0m \u001b[38;5;28;01melse\u001b[39;00m:\n\u001b[0;32m    180\u001b[0m     t \u001b[38;5;241m=\u001b[39m \u001b[38;5;28mself\u001b[39m\u001b[38;5;241m.\u001b[39mt\n\u001b[1;32m--> 181\u001b[0m     success, message \u001b[38;5;241m=\u001b[39m \u001b[38;5;28;43mself\u001b[39;49m\u001b[38;5;241;43m.\u001b[39;49m\u001b[43m_step_impl\u001b[49m\u001b[43m(\u001b[49m\u001b[43m)\u001b[49m\n\u001b[0;32m    183\u001b[0m     \u001b[38;5;28;01mif\u001b[39;00m \u001b[38;5;129;01mnot\u001b[39;00m success:\n\u001b[0;32m    184\u001b[0m         \u001b[38;5;28mself\u001b[39m\u001b[38;5;241m.\u001b[39mstatus \u001b[38;5;241m=\u001b[39m \u001b[38;5;124m'\u001b[39m\u001b[38;5;124mfailed\u001b[39m\u001b[38;5;124m'\u001b[39m\n",
      "File \u001b[1;32mc:\\Users\\rannu\\OneDrive - NTNU\\Desktop\\VsPython\\ntnusession\\lib\\site-packages\\scipy\\integrate\\_ivp\\rk.py:147\u001b[0m, in \u001b[0;36mRungeKutta._step_impl\u001b[1;34m(self)\u001b[0m\n\u001b[0;32m    144\u001b[0m y_new, f_new \u001b[38;5;241m=\u001b[39m rk_step(\u001b[38;5;28mself\u001b[39m\u001b[38;5;241m.\u001b[39mfun, t, y, \u001b[38;5;28mself\u001b[39m\u001b[38;5;241m.\u001b[39mf, h, \u001b[38;5;28mself\u001b[39m\u001b[38;5;241m.\u001b[39mA,\n\u001b[0;32m    145\u001b[0m                        \u001b[38;5;28mself\u001b[39m\u001b[38;5;241m.\u001b[39mB, \u001b[38;5;28mself\u001b[39m\u001b[38;5;241m.\u001b[39mC, \u001b[38;5;28mself\u001b[39m\u001b[38;5;241m.\u001b[39mK)\n\u001b[0;32m    146\u001b[0m scale \u001b[38;5;241m=\u001b[39m atol \u001b[38;5;241m+\u001b[39m np\u001b[38;5;241m.\u001b[39mmaximum(np\u001b[38;5;241m.\u001b[39mabs(y), np\u001b[38;5;241m.\u001b[39mabs(y_new)) \u001b[38;5;241m*\u001b[39m rtol\n\u001b[1;32m--> 147\u001b[0m error_norm \u001b[38;5;241m=\u001b[39m \u001b[38;5;28;43mself\u001b[39;49m\u001b[38;5;241;43m.\u001b[39;49m\u001b[43m_estimate_error_norm\u001b[49m\u001b[43m(\u001b[49m\u001b[38;5;28;43mself\u001b[39;49m\u001b[38;5;241;43m.\u001b[39;49m\u001b[43mK\u001b[49m\u001b[43m,\u001b[49m\u001b[43m \u001b[49m\u001b[43mh\u001b[49m\u001b[43m,\u001b[49m\u001b[43m \u001b[49m\u001b[43mscale\u001b[49m\u001b[43m)\u001b[49m\n\u001b[0;32m    149\u001b[0m \u001b[38;5;28;01mif\u001b[39;00m error_norm \u001b[38;5;241m<\u001b[39m \u001b[38;5;241m1\u001b[39m:\n\u001b[0;32m    150\u001b[0m     \u001b[38;5;28;01mif\u001b[39;00m error_norm \u001b[38;5;241m==\u001b[39m \u001b[38;5;241m0\u001b[39m:\n",
      "File \u001b[1;32mc:\\Users\\rannu\\OneDrive - NTNU\\Desktop\\VsPython\\ntnusession\\lib\\site-packages\\scipy\\integrate\\_ivp\\rk.py:507\u001b[0m, in \u001b[0;36mDOP853._estimate_error_norm\u001b[1;34m(self, K, h, scale)\u001b[0m\n\u001b[0;32m    506\u001b[0m \u001b[38;5;28;01mdef\u001b[39;00m \u001b[38;5;21m_estimate_error_norm\u001b[39m(\u001b[38;5;28mself\u001b[39m, K, h, scale):\n\u001b[1;32m--> 507\u001b[0m     err5 \u001b[38;5;241m=\u001b[39m \u001b[43mnp\u001b[49m\u001b[38;5;241;43m.\u001b[39;49m\u001b[43mdot\u001b[49m\u001b[43m(\u001b[49m\u001b[43mK\u001b[49m\u001b[38;5;241;43m.\u001b[39;49m\u001b[43mT\u001b[49m\u001b[43m,\u001b[49m\u001b[43m \u001b[49m\u001b[38;5;28;43mself\u001b[39;49m\u001b[38;5;241;43m.\u001b[39;49m\u001b[43mE5\u001b[49m\u001b[43m)\u001b[49m \u001b[38;5;241m/\u001b[39m scale\n\u001b[0;32m    508\u001b[0m     err3 \u001b[38;5;241m=\u001b[39m np\u001b[38;5;241m.\u001b[39mdot(K\u001b[38;5;241m.\u001b[39mT, \u001b[38;5;28mself\u001b[39m\u001b[38;5;241m.\u001b[39mE3) \u001b[38;5;241m/\u001b[39m scale\n\u001b[0;32m    509\u001b[0m     err5_norm_2 \u001b[38;5;241m=\u001b[39m np\u001b[38;5;241m.\u001b[39mlinalg\u001b[38;5;241m.\u001b[39mnorm(err5)\u001b[38;5;241m*\u001b[39m\u001b[38;5;241m*\u001b[39m\u001b[38;5;241m2\u001b[39m\n",
      "File \u001b[1;32m<__array_function__ internals>:180\u001b[0m, in \u001b[0;36mdot\u001b[1;34m(*args, **kwargs)\u001b[0m\n",
      "\u001b[1;31mKeyboardInterrupt\u001b[0m: "
     ]
    }
   ],
   "source": [
    "def characteristic_curve_last_200():\n",
    "    mu = 0.1\n",
    "    cmin = 2.1\n",
    "    cmax = 3.189\n",
    "    xincC = 1e-3\n",
    "    xincx = 1e-3\n",
    "    C_vals = np.arange(cmax, cmin, -xincC)\n",
    "    x_vals = np.zeros(len(C_vals))\n",
    "    print('C_vals = ', C_vals, 'number of C values = ', len(C_vals))\n",
    "    # first initial search for the root\n",
    "\n",
    "    x_0 = loaded_arr_x_vals_first_800[800]\n",
    "    \n",
    "    x1, x2 = F_rough_search(x_0, xincx, C_vals[801])\n",
    "    x_root = F_refine_bisection(x1, x2, C_vals[801])\n",
    "    x_vals[801] = x_root\n",
    "    print(\"initial search done\")\n",
    "    # now loop over the rest of the C values\n",
    "    for i in tqdm(range(802, len(C_vals))):\n",
    "        x1, x2 = F_rough_search(x_vals[i-1], xincx, C_vals[i])\n",
    "        print('x1, x2: ', x1, x2, 'C = ', C_vals[i], 'i = ', i)\n",
    "        x_root = F_refine_bisection(x1, x2, C_vals[i])\n",
    "        x_vals[i] = x_root\n",
    "    # testloop\n",
    "    # for j in tqdm(range(1, 10)):\n",
    "    #     i = 100*j\n",
    "    #     print(\"x_vals[i-100]:\",x_vals[i-100])\n",
    "    #     x1, x2 = F_rough_search(x_vals[i-100], xincx, C_vals[i])\n",
    "    #     print('x1, x2: ', x1, x2, 'C = ', C_vals[i], 'i = ', i, 'j = ', j)\n",
    "    #     x_root = F_refine_bisection(x1, x2, C_vals[i])\n",
    "    #     print('the root', x_root)\n",
    "    #     x_vals[i] = x_root\n",
    "\n",
    "    return C_vals, x_vals\n",
    "\n",
    "C_vals_end, x_vals_end = characteristic_curve_last_200()\n",
    "print(C_vals)\n",
    "print(x_vals)"
   ]
  }
 ],
 "metadata": {
  "kernelspec": {
   "display_name": "ntnusession",
   "language": "python",
   "name": "python3"
  },
  "language_info": {
   "codemirror_mode": {
    "name": "ipython",
    "version": 3
   },
   "file_extension": ".py",
   "mimetype": "text/x-python",
   "name": "python",
   "nbconvert_exporter": "python",
   "pygments_lexer": "ipython3",
   "version": "3.10.11"
  }
 },
 "nbformat": 4,
 "nbformat_minor": 2
}
