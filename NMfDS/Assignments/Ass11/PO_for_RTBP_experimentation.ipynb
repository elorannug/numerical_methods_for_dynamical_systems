{
 "cells": [
  {
   "cell_type": "code",
   "execution_count": 2,
   "metadata": {},
   "outputs": [],
   "source": [
    "import numpy as np\n",
    "import scipy as sp\n",
    "from scipy.optimize import bisect\n",
    "import matplotlib.pyplot as plt\n",
    "import sys\n",
    "dir_string = 'C:/Users/rannu/OneDrive - NTNU/Desktop/VsPython/'+\\\n",
    "                'Spain/NMfDS/Assignments/'\n",
    "sys.path.append(dir_string + 'Ass4')\n",
    "sys.path.append(dir_string + 'Ass6')\n",
    "sys.path.append(dir_string + 'Ass7')\n",
    "sys.path.append(dir_string + 'Ass8')\n",
    "sys.path.append(dir_string + 'Ass9')\n",
    "from RTBP_definitions import r1, r2, OMEGA, ODE_R3BP, Jacobi_first_integral\n",
    "from Lagrange_computations import compute_Lagrange_pt, compute_jacobi_const_Li\n",
    "from custom_ODE_solver import ODE_solver\n",
    "from PoincareR3BP import poincare_map_solve_ivp_R3BP\n",
    "from variational_equation_RTBP import variational_eq\n",
    "from crossings_RTBP import crossings_R3BP_by_mu"
   ]
  },
  {
   "cell_type": "code",
   "execution_count": 3,
   "metadata": {},
   "outputs": [],
   "source": [
    "\n",
    "def bisection_old(f, start, end, tol, N):\n",
    "    \"\"\"\n",
    "    Input: function f, interval [start, end], tolerance tol, \n",
    "    max. number of iterations N\n",
    "\n",
    "    Output: approximate solution mid\n",
    "    \"\"\"\n",
    "    # Check if f(start) and f(end) have opposite signs\n",
    "    if f(start)*f(end) >= 0:\n",
    "        print(\"\\nBisection method fails.\")\n",
    "        print(\"f(start) = \", f(start))\n",
    "        print(\"f(end) = \", f(end))\n",
    "        return None\n",
    "    # Iterate until max. number of iterations is reached\n",
    "    for i in range(N):\n",
    "        # Compute midpoint\n",
    "        mid = (start+end)/2\n",
    "        # Check if f(mid) is zero\n",
    "        if f(mid) == 0:\n",
    "            break\n",
    "        # Check if f(start) and f(mid) have opposite signs\n",
    "        if f(start)*f(mid) < 0:\n",
    "            end = mid\n",
    "        # Otherwise, f(end) and f(mid) have opposite signs\n",
    "        else:\n",
    "            start = mid\n",
    "        # Check if the interval is small enough\n",
    "        if (end-start)/2 < tol:\n",
    "            break\n",
    "        if i == N-1:\n",
    "            print(\"\\nWarning: maximum number of iterations reached.\")\n",
    "    return mid"
   ]
  },
  {
   "cell_type": "code",
   "execution_count": 4,
   "metadata": {},
   "outputs": [
    {
     "name": "stdout",
     "output_type": "stream",
     "text": [
      "Scipy bisection:  1.414213562373095\n",
      "Exact solution:   1.4142135623730951\n",
      "Error:            4.705502654189786e-11\n"
     ]
    }
   ],
   "source": [
    "# Test scipy.optimize.bisect\n",
    "def f(x):\n",
    "    return x**2 - 2\n",
    "print(\"Scipy bisection: \", bisect(f, 1, 2, xtol=1e-16, maxiter=200))\n",
    "print(\"Exact solution:  \", np.sqrt(2))\n",
    "print(\"Error:           \", np.abs(bisect(f, 1, 2, xtol=1e-10, maxiter=100)\\\n",
    "                                  -np.sqrt(2)))"
   ]
  },
  {
   "cell_type": "code",
   "execution_count": 5,
   "metadata": {},
   "outputs": [],
   "source": [
    "# HINT: it should work with\n",
    "# mu=0.1, cmin=2.1 cmax=3.189, xincC=1.d-3, xincini=1.d-5, xincx=1.d-3"
   ]
  },
  {
   "cell_type": "code",
   "execution_count": 6,
   "metadata": {},
   "outputs": [
    {
     "name": "stdout",
     "output_type": "stream",
     "text": [
      "1.0416089085718845\n",
      "det(A) = \n",
      " [[ 0.          0.          1.          0.        ]\n",
      " [ 0.          0.          0.          1.        ]\n",
      " [ 3.18338396  0.          0.          2.        ]\n",
      " [ 0.         -0.09169198 -2.          0.        ]]\n",
      "\n",
      "eigenvalues = \n",
      " 0.5016383507584008 , -0.5016383507584007\n",
      "\n",
      "Their respective normalized eigenvectors = \n",
      " [ 0.28940578 -0.84569227  0.14517704 -0.42423167] ,\n",
      " [-0.28940578 -0.84569227  0.14517704  0.42423167]\n"
     ]
    }
   ],
   "source": [
    "mu = 0.1\n",
    "print(compute_Lagrange_pt(mu, 3))\n",
    "L3 = [compute_Lagrange_pt(mu, 3), 0, 0, 0]\n",
    "L3.extend([1, 0, 0, 0, \n",
    "           0, 1, 0, 0, \n",
    "           0, 0, 1, 0, \n",
    "           0, 0, 0, 1])  # initial conditions and identity matrix\n",
    "time_span = 0\n",
    "\n",
    "# compute the Jacobian matrix of the RTBP at Li.\n",
    "# The eigenvalues of this matrix are the frequencies of the periodic orbit\n",
    "\n",
    "A = variational_eq(time_span, L3, mu, 1)[4:20].reshape(4,4)\n",
    "print('det(A) = \\n', A)\n",
    "eigenvalues, eigenvectors = np.linalg.eig(A)\n",
    "lambda_pos = eigenvalues[3].real\n",
    "lambda_neg = eigenvalues[2].real\n",
    "eigvec_pos = eigenvectors[:,3]\n",
    "eigvec_neg = eigenvectors[:,2]\n",
    "print('\\neigenvalues = \\n', lambda_pos, \",\", lambda_neg)\n",
    "print('\\nTheir respective normalized eigenvectors = \\n', -eigvec_pos.real, \\\n",
    "      \",\\n\", eigvec_neg.real)\n",
    "# Only the real part of the eigenvectors are needed"
   ]
  },
  {
   "cell_type": "code",
   "execution_count": 7,
   "metadata": {},
   "outputs": [
    {
     "name": "stdout",
     "output_type": "stream",
     "text": [
      "\n",
      "C =  3.1895781504493814\n",
      "\n",
      "vy =  0.0\n"
     ]
    }
   ],
   "source": [
    "# Assume C fixed. Implement a routine such that, given an initial x,\n",
    "# sign of y’ and C, computes (as output) y’, such that the initial condition\n",
    "# of the orbit will be (x,0,0,y’).\n",
    "                      \n",
    "# def Jacobi_first_integral(mu, x, y, vx, vy):\n",
    "#     # Function to compute the Jacobi first integral\n",
    "#     # This should be constant for a given value of mu\n",
    "#     return 2*OMEGA(mu, x, y) - (vx**2 + vy**2)\n",
    "\n",
    "def yderiv(mu, x, y, vx, sign_vy, C):\n",
    "    # Function to compute the derivative of y for a given value of C\n",
    "    return sign_vy*np.sqrt(2*OMEGA(mu, x, y) - C - vx**2)\n",
    "\n",
    "C = Jacobi_first_integral(mu, L3[0], L3[1], L3[2], L3[3])\n",
    "\n",
    "vy = yderiv(mu, L3[0], L3[1], L3[2], 1, C)\n",
    "\n",
    "print('\\nC = ', C)\n",
    "print('\\nvy = ', vy)"
   ]
  },
  {
   "cell_type": "code",
   "execution_count": 8,
   "metadata": {},
   "outputs": [],
   "source": [
    "def F_old(x, vy):\n",
    "    init_cond = [x, 0, 0, vy]\n",
    "    # Find the crossing time of the unstable manifold with the Poincare section\n",
    "    iregion = 1\n",
    "    t0 = 0\n",
    "    tmax = 0.15\n",
    "    dt = 0.1\n",
    "    t_span = np.arange(t0, tmax, dt)\n",
    "\n",
    "    # Variables for tweaking the accuracy of the crossing time\n",
    "    refinement = 20000\n",
    "    refinement_fine = 300\n",
    "    tol = 1e-14\n",
    "\n",
    "    newInitial, TimeDuration,_ = \\\n",
    "        poincare_map_solve_ivp_R3BP(lambda t, X: ODE_R3BP(t, mu, X), \n",
    "                                    init_cond, \n",
    "                                    iregion, dt, t_span, mu, \n",
    "                                    init_search = refinement, \n",
    "                                    refinement = refinement_fine, \n",
    "                                    newton_tol = tol)\n",
    "\n",
    "    tmax_plot = TimeDuration\n",
    "    t_span_plot = np.arange(t0, tmax_plot, 0.01)\n",
    "\n",
    "    # Solve ode_r3bp using the custom ODE solver,  RETURNS: the solution of the \n",
    "    # system of ODEs as a scipy.integrate.solve_ivp object\n",
    "    sol = ODE_solver(lambda t, X: ODE_R3BP(t, mu, X), init_cond, tmax_plot, \n",
    "                    len(t_span_plot), tol=1e-12, method='DOP853', hamiltonian=0)\n",
    "\n",
    "    # Extract the solution\n",
    "    x = sol.y[0]\n",
    "    y = sol.y[1]\n",
    "    vx = sol.y[2]\n",
    "    vy = sol.y[3]\n",
    "    return x, y, vx, vy, t_span_plot, newInitial, TimeDuration"
   ]
  },
  {
   "cell_type": "code",
   "execution_count": 60,
   "metadata": {},
   "outputs": [],
   "source": [
    "# Assume C fixed. Implement a routine such that given an initial x\n",
    "# and the ’associated’ initial condition (x,0,0,y’), returns as\n",
    "# output F(x)=x’ (at a given crossing).\n",
    "def F(x, C):\n",
    "    vy = yderiv(mu, x, 0, 0, -1, C)\n",
    "    init_cond = [x, 0, 0, vy]\n",
    "\n",
    "    iregion = 1\n",
    "    t0 = 0\n",
    "    tmax = 1\n",
    "    dt = 0.3\n",
    "    t_span = np.arange(t0, tmax, dt)\n",
    "\n",
    "    # Variables for tweaking the accuracy of the crossing time\n",
    "    refinement = 2000\n",
    "    refinement_fine = 300\n",
    "    tol = 1e-2\n",
    "\n",
    "    newInitial, TimeDuration,_ = \\\n",
    "        poincare_map_solve_ivp_R3BP(lambda t, X: ODE_R3BP(t, mu, X), \n",
    "                                    init_cond, \n",
    "                                    iregion, dt, t_span, mu, \n",
    "                                    init_search = refinement, \n",
    "                                    refinement = refinement_fine, \n",
    "                                    init_tol=1e-5,\n",
    "                                    newton_tol = tol)\n",
    "    \n",
    "    return newInitial[2] #x'"
   ]
  },
  {
   "cell_type": "code",
   "execution_count": 10,
   "metadata": {},
   "outputs": [],
   "source": [
    "# Define a functiont that varies x such that you find x1 and x2 such that F(x,C)\n",
    "# changes sign.\n",
    "\n",
    "def F_rough_search(x0, x_inc, C):\n",
    "    # Function to compute the x value where F(x,C) changes sign\n",
    "    # x0 is the initial guess for the root\n",
    "    # x_inc is the increment we add to x used to compute the derivative of F(x,C)\n",
    "    # C is the Jacobi constant\n",
    "    x1 = x0\n",
    "    x2 = x0 + x_inc\n",
    "    F1 = F(x1, C)\n",
    "    F2 = F(x2, C)\n",
    "    while F1*F2 > 0:\n",
    "        x1 = x2\n",
    "        x2 += x_inc\n",
    "        F1 = F2\n",
    "        F2 = F(x2, C)\n",
    "    return x1, x2"
   ]
  },
  {
   "cell_type": "code",
   "execution_count": 38,
   "metadata": {},
   "outputs": [],
   "source": [
    "# Now refine x, using scipy bisection, such that F(x)=0.\n",
    "# (ie |F(x)|<1.d-12)\n",
    "\n",
    "def F_refine_bisection(x1, x2, C):\n",
    "    # Function to refine the root of F(x,C) using scipy bisection\n",
    "    # x1 and x2 are the x values where F(x,C) changes sign\n",
    "    # C is the Jacobi constant\n",
    "    return bisect(lambda x: F(x, C), x1, x2, xtol=1e-3, maxiter=10)"
   ]
  },
  {
   "cell_type": "code",
   "execution_count": 39,
   "metadata": {},
   "outputs": [
    {
     "name": "stdout",
     "output_type": "stream",
     "text": [
      "x_0 =  2.213118049196732\n",
      "x1 =  2.214118049196732 , x2 =  2.215118049196732\n"
     ]
    }
   ],
   "source": [
    "\n",
    "# x1, x2:  2.213118049196732 2.214118049196732 \n",
    "# C =  2.3200000000000958 i =  869\n",
    "\n",
    "mu = 0.1\n",
    "cmin = 2.1\n",
    "cmax = 3.189\n",
    "xincC = 1e-3 \n",
    "xincx = 1e-3\n",
    "\n",
    "# Find the first root of F(x,C) for C = cmin\n",
    "\n",
    "x_0 = 2.213118049196732\n",
    "\n",
    "print('x_0 = ', x_0)\n",
    "\n",
    "C = 2.3200000000000958 + xincC*4\n",
    "x1, x2 = F_rough_search(x_0, xincx, C)\n",
    "print('x1 = ', x1, ', x2 = ', x2)\n",
    "\n"
   ]
  },
  {
   "cell_type": "code",
   "execution_count": 40,
   "metadata": {},
   "outputs": [],
   "source": [
    "# use bisect to refine the root\n",
    "x_root = F_refine_bisection(x1, x2, C)"
   ]
  },
  {
   "cell_type": "code",
   "execution_count": 36,
   "metadata": {},
   "outputs": [
    {
     "name": "stdout",
     "output_type": "stream",
     "text": [
      "x_root =  2.2146180491967318\n",
      "root - x1 =  0.0004999999999997229\n",
      "root - x2 =  -0.000500000000000167\n"
     ]
    }
   ],
   "source": [
    "print('x_root = ', x_root)\n",
    "# root - x1\n",
    "print('root - x1 = ', x_root - x1)\n",
    "# root - x2\n",
    "print('root - x2 = ', x_root - x2)"
   ]
  },
  {
   "cell_type": "code",
   "execution_count": 41,
   "metadata": {},
   "outputs": [
    {
     "name": "stdout",
     "output_type": "stream",
     "text": [
      "[ 2.21461805e+00  1.48427048e-15  1.39854086e-15 -1.89366417e+00]\n"
     ]
    },
    {
     "data": {
      "image/png": "[encoded data removed]",
      "text/plain": [
       "<Figure size 640x480 with 1 Axes>"
      ]
     },
     "metadata": {},
     "output_type": "display_data"
    }
   ],
   "source": [
    "vy = yderiv(mu, x_root, 0, 0, -1, C)\n",
    "x, y, vx, vy, t_span_plot, newInitial, TimeDuration = F_old(x_root, vy)\n",
    "\n",
    "\n",
    "print(newInitial)\n",
    "L3 = [compute_Lagrange_pt(mu, 3), 0, 0, 0]\n",
    "x_L3 = L3[0]\n",
    "# Plot the orbit\n",
    "fig = plt.figure()\n",
    "ax = fig.add_subplot(111)\n",
    "ax.plot(x, y, 'b')\n",
    "ax.plot(x, -y, 'g')\n",
    "ax.plot(newInitial[0], newInitial[1], 'ro')\n",
    "ax.plot(x_L3, 0, color = 'black', marker = 'o')\n",
    "ax.set_xlabel('x')\n",
    "ax.set_ylabel('y')\n",
    "ax.set_title(f'Periodic orbit around $L_3$ for $C = {C}$')\n",
    "# make a legend\n",
    "legend = [r'PO', r'PO mirror', r'$x_0$', r'$L_3$']\n",
    "#plot the legend outside of the plot\n",
    "ax.legend(legend, bbox_to_anchor=(1.05, 1), loc='upper left')\n",
    "plt.show()\n"
   ]
  },
  {
   "cell_type": "code",
   "execution_count": 25,
   "metadata": {},
   "outputs": [],
   "source": [
    "loaded_arr_x_vals_first_800 = np.load('x_vals_first_800.npy')"
   ]
  },
  {
   "cell_type": "code",
   "execution_count": 26,
   "metadata": {},
   "outputs": [
    {
     "name": "stdout",
     "output_type": "stream",
     "text": [
      "[1.04604578 1.07365223 1.08254774 ... 0.         0.         0.        ]\n"
     ]
    }
   ],
   "source": [
    "print(loaded_arr_x_vals_first_800)"
   ]
  },
  {
   "cell_type": "code",
   "execution_count": 27,
   "metadata": {},
   "outputs": [
    {
     "name": "stdout",
     "output_type": "stream",
     "text": [
      "1.713352424196788\n"
     ]
    }
   ],
   "source": [
    "print(loaded_arr_x_vals_first_800[800])"
   ]
  },
  {
   "cell_type": "code",
   "execution_count": 62,
   "metadata": {},
   "outputs": [
    {
     "name": "stdout",
     "output_type": "stream",
     "text": [
      "C_vals =  [3.189 3.188 3.187 ... 2.103 2.102 2.101] number of C values =  1089\n",
      "initial search done\n"
     ]
    },
    {
     "name": "stderr",
     "output_type": "stream",
     "text": [
      "  0%|          | 0/287 [00:00<?, ?it/s]"
     ]
    },
    {
     "name": "stdout",
     "output_type": "stream",
     "text": [
      "x1, x2:  1.7168174241967882 1.7178074241967882 C =  2.3870000000000884 i =  802\n",
      "x_root = "
     ]
    },
    {
     "name": "stderr",
     "output_type": "stream",
     "text": [
      "  0%|          | 1/287 [00:00<01:29,  3.21it/s]"
     ]
    },
    {
     "name": "stdout",
     "output_type": "stream",
     "text": [
      " 1.717312424196788\n"
     ]
    },
    {
     "name": "stderr",
     "output_type": "stream",
     "text": [
      "  1%|          | 2/287 [00:01<04:53,  1.03s/it]"
     ]
    },
    {
     "name": "stdout",
     "output_type": "stream",
     "text": [
      "x1, x2:  1.7331524241967888 1.7341424241967889 C =  2.3860000000000885 i =  803\n",
      "x_root =  1.7336474241967887\n",
      "x1, x2:  1.7336474241967887 1.7346374241967888 C =  2.3850000000000886 i =  804\n"
     ]
    },
    {
     "name": "stderr",
     "output_type": "stream",
     "text": [
      "  1%|          | 3/287 [00:02<03:25,  1.38it/s]"
     ]
    },
    {
     "name": "stdout",
     "output_type": "stream",
     "text": [
      "x_root =  1.7341424241967887\n",
      "x1, x2:  1.7341424241967887 1.7351324241967887 C =  2.3840000000000887 i =  805\n"
     ]
    },
    {
     "name": "stderr",
     "output_type": "stream",
     "text": [
      "  1%|▏         | 4/287 [00:02<02:40,  1.76it/s]"
     ]
    },
    {
     "name": "stdout",
     "output_type": "stream",
     "text": [
      "x_root =  1.7346374241967886\n",
      "x1, x2:  1.7346374241967886 1.7356274241967886 C =  2.383000000000089 i =  806\n"
     ]
    },
    {
     "name": "stderr",
     "output_type": "stream",
     "text": [
      "  2%|▏         | 5/287 [00:02<02:14,  2.10it/s]"
     ]
    },
    {
     "name": "stdout",
     "output_type": "stream",
     "text": [
      "x_root =  1.7351324241967885\n",
      "x1, x2:  1.7351324241967885 1.7361224241967885 C =  2.382000000000089 i =  807\n"
     ]
    },
    {
     "name": "stderr",
     "output_type": "stream",
     "text": [
      "  2%|▏         | 6/287 [00:03<01:58,  2.37it/s]"
     ]
    },
    {
     "name": "stdout",
     "output_type": "stream",
     "text": [
      "x_root =  1.7356274241967884\n",
      "x1, x2:  1.7356274241967884 1.7366174241967884 C =  2.381000000000089 i =  808\n"
     ]
    },
    {
     "name": "stderr",
     "output_type": "stream",
     "text": [
      "  2%|▏         | 7/287 [00:03<01:50,  2.53it/s]"
     ]
    },
    {
     "name": "stdout",
     "output_type": "stream",
     "text": [
      "x_root =  1.7361224241967883\n",
      "x1, x2:  1.7361224241967883 1.7371124241967884 C =  2.380000000000089 i =  809\n"
     ]
    },
    {
     "name": "stderr",
     "output_type": "stream",
     "text": [
      "  3%|▎         | 8/287 [00:03<01:44,  2.66it/s]"
     ]
    },
    {
     "name": "stdout",
     "output_type": "stream",
     "text": [
      "x_root =  1.7366174241967882\n",
      "x1, x2:  1.7366174241967882 1.7376074241967883 C =  2.3790000000000893 i =  810\n"
     ]
    },
    {
     "name": "stderr",
     "output_type": "stream",
     "text": [
      "  3%|▎         | 9/287 [00:04<01:40,  2.78it/s]"
     ]
    },
    {
     "name": "stdout",
     "output_type": "stream",
     "text": [
      "x_root =  1.7371124241967881\n",
      "x1, x2:  1.7371124241967881 1.7381024241967882 C =  2.3780000000000894 i =  811\n"
     ]
    },
    {
     "name": "stderr",
     "output_type": "stream",
     "text": [
      "  3%|▎         | 10/287 [00:04<01:37,  2.84it/s]"
     ]
    },
    {
     "name": "stdout",
     "output_type": "stream",
     "text": [
      "x_root =  1.737607424196788\n",
      "x1, x2:  1.737607424196788 1.738597424196788 C =  2.3770000000000895 i =  812\n"
     ]
    },
    {
     "name": "stderr",
     "output_type": "stream",
     "text": [
      "  4%|▍         | 11/287 [00:04<01:34,  2.91it/s]"
     ]
    },
    {
     "name": "stdout",
     "output_type": "stream",
     "text": [
      "x_root =  1.738102424196788\n"
     ]
    },
    {
     "name": "stderr",
     "output_type": "stream",
     "text": [
      "  4%|▍         | 12/287 [00:47<1:00:53, 13.28s/it]"
     ]
    },
    {
     "name": "stdout",
     "output_type": "stream",
     "text": [
      "x1, x2:  2.2291424241967595 2.2301324241967593 C =  2.3760000000000896 i =  813\n",
      "x1, x2:  1.738102424196788 1.739092424196788 C =  2.3750000000000897 i =  814\n"
     ]
    },
    {
     "name": "stderr",
     "output_type": "stream",
     "text": [
      "  5%|▍         | 13/287 [00:48<42:44,  9.36s/it]  "
     ]
    },
    {
     "name": "stdout",
     "output_type": "stream",
     "text": [
      "x_root =  1.7385974241967879\n",
      "x1, x2:  1.7385974241967879 1.739587424196788 C =  2.37400000000009 i =  815\n"
     ]
    },
    {
     "name": "stderr",
     "output_type": "stream",
     "text": [
      "  5%|▍         | 14/287 [00:48<30:11,  6.64s/it]"
     ]
    },
    {
     "name": "stdout",
     "output_type": "stream",
     "text": [
      "x_root =  1.7390924241967878\n",
      "x1, x2:  1.7390924241967878 1.7400824241967878 C =  2.37300000000009 i =  816\n"
     ]
    },
    {
     "name": "stderr",
     "output_type": "stream",
     "text": [
      "  5%|▌         | 15/287 [00:48<21:28,  4.74s/it]"
     ]
    },
    {
     "name": "stdout",
     "output_type": "stream",
     "text": [
      "x_root =  1.7395874241967877\n",
      "x1, x2:  1.7395874241967877 1.7405774241967877 C =  2.37200000000009 i =  817\n"
     ]
    },
    {
     "name": "stderr",
     "output_type": "stream",
     "text": [
      "  6%|▌         | 16/287 [00:49<15:24,  3.41s/it]"
     ]
    },
    {
     "name": "stdout",
     "output_type": "stream",
     "text": [
      "x_root =  1.7400824241967876\n",
      "x1, x2:  1.7400824241967876 1.7410724241967876 C =  2.37100000000009 i =  818\n"
     ]
    },
    {
     "name": "stderr",
     "output_type": "stream",
     "text": [
      "  6%|▌         | 17/287 [00:49<11:13,  2.49s/it]"
     ]
    },
    {
     "name": "stdout",
     "output_type": "stream",
     "text": [
      "x_root =  1.7405774241967875\n",
      "x1, x2:  1.7405774241967875 1.7415674241967876 C =  2.3700000000000903 i =  819\n"
     ]
    },
    {
     "name": "stderr",
     "output_type": "stream",
     "text": [
      "  6%|▋         | 18/287 [00:49<08:16,  1.85s/it]"
     ]
    },
    {
     "name": "stdout",
     "output_type": "stream",
     "text": [
      "x_root =  1.7410724241967874\n",
      "x1, x2:  1.7410724241967874 1.7420624241967875 C =  2.3690000000000904 i =  820\n"
     ]
    },
    {
     "name": "stderr",
     "output_type": "stream",
     "text": [
      "  7%|▋         | 19/287 [00:50<06:15,  1.40s/it]"
     ]
    },
    {
     "name": "stdout",
     "output_type": "stream",
     "text": [
      "x_root =  1.7415674241967873\n",
      "x1, x2:  1.7415674241967873 1.7425574241967874 C =  2.3680000000000905 i =  821\n"
     ]
    },
    {
     "name": "stderr",
     "output_type": "stream",
     "text": [
      "  7%|▋         | 20/287 [00:50<04:48,  1.08s/it]"
     ]
    },
    {
     "name": "stdout",
     "output_type": "stream",
     "text": [
      "x_root =  1.7420624241967873\n",
      "x1, x2:  1.7420624241967873 1.7430524241967873 C =  2.3670000000000906 i =  822\n"
     ]
    },
    {
     "name": "stderr",
     "output_type": "stream",
     "text": [
      "  7%|▋         | 21/287 [00:50<03:48,  1.17it/s]"
     ]
    },
    {
     "name": "stdout",
     "output_type": "stream",
     "text": [
      "x_root =  1.7425574241967872\n",
      "x1, x2:  1.7425574241967872 1.7435474241967872 C =  2.3660000000000907 i =  823\n"
     ]
    },
    {
     "name": "stderr",
     "output_type": "stream",
     "text": [
      "  8%|▊         | 22/287 [00:51<03:07,  1.42it/s]"
     ]
    },
    {
     "name": "stdout",
     "output_type": "stream",
     "text": [
      "x_root =  1.743052424196787\n",
      "x1, x2:  1.743052424196787 1.7440424241967871 C =  2.365000000000091 i =  824\n"
     ]
    },
    {
     "name": "stderr",
     "output_type": "stream",
     "text": [
      "  8%|▊         | 23/287 [00:51<02:37,  1.67it/s]"
     ]
    },
    {
     "name": "stdout",
     "output_type": "stream",
     "text": [
      "x_root =  1.743547424196787\n"
     ]
    },
    {
     "name": "stderr",
     "output_type": "stream",
     "text": [
      "  8%|▊         | 24/287 [01:22<42:57,  9.80s/it]"
     ]
    },
    {
     "name": "stdout",
     "output_type": "stream",
     "text": [
      "x1, x2:  2.2345874241967576 2.2355774241967574 C =  2.364000000000091 i =  825\n",
      "x1, x2:  1.743547424196787 1.744537424196787 C =  2.363000000000091 i =  826\n"
     ]
    },
    {
     "name": "stderr",
     "output_type": "stream",
     "text": [
      "  9%|▊         | 25/287 [01:23<30:26,  6.97s/it]"
     ]
    },
    {
     "name": "stdout",
     "output_type": "stream",
     "text": [
      "x_root =  1.744042424196787\n",
      "x1, x2:  1.744042424196787 1.745032424196787 C =  2.362000000000091 i =  827\n"
     ]
    },
    {
     "name": "stderr",
     "output_type": "stream",
     "text": [
      "  9%|▉         | 26/287 [01:23<21:40,  4.98s/it]"
     ]
    },
    {
     "name": "stdout",
     "output_type": "stream",
     "text": [
      "x_root =  1.7445374241967868\n",
      "x1, x2:  1.7445374241967868 1.7455274241967869 C =  2.3610000000000912 i =  828\n"
     ]
    },
    {
     "name": "stderr",
     "output_type": "stream",
     "text": [
      "  9%|▉         | 27/287 [01:23<15:37,  3.60s/it]"
     ]
    },
    {
     "name": "stdout",
     "output_type": "stream",
     "text": [
      "x_root =  1.7450324241967867\n",
      "x1, x2:  1.7450324241967867 1.7460224241967868 C =  2.3600000000000914 i =  829\n"
     ]
    },
    {
     "name": "stderr",
     "output_type": "stream",
     "text": [
      " 10%|▉         | 28/287 [01:24<11:17,  2.62s/it]"
     ]
    },
    {
     "name": "stdout",
     "output_type": "stream",
     "text": [
      "x_root =  1.7455274241967866\n",
      "x1, x2:  1.7455274241967866 1.7465174241967867 C =  2.3590000000000915 i =  830\n"
     ]
    },
    {
     "name": "stderr",
     "output_type": "stream",
     "text": [
      " 10%|█         | 29/287 [01:24<08:17,  1.93s/it]"
     ]
    },
    {
     "name": "stdout",
     "output_type": "stream",
     "text": [
      "x_root =  1.7460224241967865\n",
      "x1, x2:  1.7460224241967865 1.7470124241967866 C =  2.3580000000000916 i =  831\n"
     ]
    },
    {
     "name": "stderr",
     "output_type": "stream",
     "text": [
      " 10%|█         | 30/287 [01:24<06:12,  1.45s/it]"
     ]
    },
    {
     "name": "stdout",
     "output_type": "stream",
     "text": [
      "x_root =  1.7465174241967865\n",
      "x1, x2:  1.7465174241967865 1.7475074241967865 C =  2.3570000000000917 i =  832\n"
     ]
    },
    {
     "name": "stderr",
     "output_type": "stream",
     "text": [
      " 11%|█         | 31/287 [01:25<04:45,  1.12s/it]"
     ]
    },
    {
     "name": "stdout",
     "output_type": "stream",
     "text": [
      "x_root =  1.7470124241967864\n",
      "x1, x2:  1.7470124241967864 1.7480024241967864 C =  2.356000000000092 i =  833\n"
     ]
    },
    {
     "name": "stderr",
     "output_type": "stream",
     "text": [
      " 11%|█         | 32/287 [01:25<03:45,  1.13it/s]"
     ]
    },
    {
     "name": "stdout",
     "output_type": "stream",
     "text": [
      "x_root =  1.7475074241967863\n",
      "x1, x2:  1.7475074241967863 1.7484974241967863 C =  2.355000000000092 i =  834\n"
     ]
    },
    {
     "name": "stderr",
     "output_type": "stream",
     "text": [
      " 11%|█▏        | 33/287 [01:25<03:03,  1.38it/s]"
     ]
    },
    {
     "name": "stdout",
     "output_type": "stream",
     "text": [
      "x_root =  1.7480024241967862\n",
      "x1, x2:  1.7480024241967862 1.7489924241967862 C =  2.354000000000092 i =  835\n"
     ]
    },
    {
     "name": "stderr",
     "output_type": "stream",
     "text": [
      " 12%|█▏        | 34/287 [01:26<02:33,  1.65it/s]"
     ]
    },
    {
     "name": "stdout",
     "output_type": "stream",
     "text": [
      "x_root =  1.748497424196786\n"
     ]
    },
    {
     "name": "stderr",
     "output_type": "stream",
     "text": [
      " 12%|█▏        | 35/287 [01:57<41:13,  9.81s/it]"
     ]
    },
    {
     "name": "stdout",
     "output_type": "stream",
     "text": [
      "x1, x2:  2.223697424196758 2.224687424196758 C =  2.353000000000092 i =  836\n",
      "x1, x2:  1.748497424196786 1.7494874241967862 C =  2.3520000000000922 i =  837\n"
     ]
    },
    {
     "name": "stderr",
     "output_type": "stream",
     "text": [
      " 13%|█▎        | 36/287 [01:57<29:11,  6.98s/it]"
     ]
    },
    {
     "name": "stdout",
     "output_type": "stream",
     "text": [
      "x_root =  1.748992424196786\n",
      "x1, x2:  1.748992424196786 1.749982424196786 C =  2.3510000000000923 i =  838\n"
     ]
    },
    {
     "name": "stderr",
     "output_type": "stream",
     "text": [
      " 13%|█▎        | 37/287 [01:58<20:47,  4.99s/it]"
     ]
    },
    {
     "name": "stdout",
     "output_type": "stream",
     "text": [
      "x_root =  1.749487424196786\n",
      "x1, x2:  1.749487424196786 1.750477424196786 C =  2.3500000000000925 i =  839\n"
     ]
    },
    {
     "name": "stderr",
     "output_type": "stream",
     "text": [
      " 13%|█▎        | 38/287 [01:58<14:56,  3.60s/it]"
     ]
    },
    {
     "name": "stdout",
     "output_type": "stream",
     "text": [
      "x_root =  1.7499824241967858\n",
      "x1, x2:  1.7499824241967858 1.750972424196786 C =  2.3490000000000926 i =  840\n"
     ]
    },
    {
     "name": "stderr",
     "output_type": "stream",
     "text": [
      " 14%|█▎        | 39/287 [01:58<10:51,  2.63s/it]"
     ]
    },
    {
     "name": "stdout",
     "output_type": "stream",
     "text": [
      "x_root =  1.7504774241967858\n",
      "x1, x2:  1.7504774241967858 1.7514674241967858 C =  2.3480000000000927 i =  841\n"
     ]
    },
    {
     "name": "stderr",
     "output_type": "stream",
     "text": [
      " 14%|█▍        | 40/287 [01:59<07:59,  1.94s/it]"
     ]
    },
    {
     "name": "stdout",
     "output_type": "stream",
     "text": [
      "x_root =  1.7509724241967857\n",
      "x1, x2:  1.7509724241967857 1.7519624241967857 C =  2.347000000000093 i =  842\n"
     ]
    },
    {
     "name": "stderr",
     "output_type": "stream",
     "text": [
      " 14%|█▍        | 41/287 [01:59<06:01,  1.47s/it]"
     ]
    },
    {
     "name": "stdout",
     "output_type": "stream",
     "text": [
      "x_root =  1.7514674241967856\n",
      "x1, x2:  1.7514674241967856 1.7524574241967856 C =  2.346000000000093 i =  843\n"
     ]
    },
    {
     "name": "stderr",
     "output_type": "stream",
     "text": [
      " 15%|█▍        | 42/287 [02:00<04:42,  1.15s/it]"
     ]
    },
    {
     "name": "stdout",
     "output_type": "stream",
     "text": [
      "x_root =  1.7519624241967855\n",
      "x1, x2:  1.7519624241967855 1.7529524241967855 C =  2.345000000000093 i =  844\n"
     ]
    },
    {
     "name": "stderr",
     "output_type": "stream",
     "text": [
      " 15%|█▍        | 43/287 [02:00<03:40,  1.11it/s]"
     ]
    },
    {
     "name": "stdout",
     "output_type": "stream",
     "text": [
      "x_root =  1.7524574241967854\n",
      "x1, x2:  1.7524574241967854 1.7534474241967855 C =  2.344000000000093 i =  845\n"
     ]
    },
    {
     "name": "stderr",
     "output_type": "stream",
     "text": [
      " 15%|█▌        | 44/287 [02:00<02:58,  1.36it/s]"
     ]
    },
    {
     "name": "stdout",
     "output_type": "stream",
     "text": [
      "x_root =  1.7529524241967853\n"
     ]
    },
    {
     "name": "stderr",
     "output_type": "stream",
     "text": [
      " 16%|█▌        | 45/287 [02:46<57:28, 14.25s/it]"
     ]
    },
    {
     "name": "stdout",
     "output_type": "stream",
     "text": [
      "x1, x2:  2.2271624241967567 2.2281524241967565 C =  2.3430000000000932 i =  846\n"
     ]
    },
    {
     "name": "stderr",
     "output_type": "stream",
     "text": [
      " 16%|█▌        | 46/287 [03:38<1:42:42, 25.57s/it]"
     ]
    },
    {
     "name": "stdout",
     "output_type": "stream",
     "text": [
      "x1, x2:  2.2241924241967572 2.225182424196757 C =  2.3420000000000933 i =  847\n"
     ]
    },
    {
     "name": "stderr",
     "output_type": "stream",
     "text": [
      " 16%|█▌        | 46/287 [27:42<2:25:09, 36.14s/it]\n"
     ]
    },
    {
     "ename": "KeyboardInterrupt",
     "evalue": "",
     "output_type": "error",
     "traceback": [
      "\u001b[1;31m---------------------------------------------------------------------------\u001b[0m",
      "\u001b[1;31mKeyboardInterrupt\u001b[0m                         Traceback (most recent call last)",
      "Cell \u001b[1;32mIn [62], line 46\u001b[0m\n\u001b[0;32m     44\u001b[0m     \u001b[38;5;28;01mreturn\u001b[39;00m C_vals, x_vals, x_fails\n\u001b[0;32m     45\u001b[0m \u001b[38;5;66;03m# 12\u001b[39;00m\n\u001b[1;32m---> 46\u001b[0m C_vals_end, x_vals_end, x_fails \u001b[38;5;241m=\u001b[39m \u001b[43mcharacteristic_curve_last_200\u001b[49m\u001b[43m(\u001b[49m\u001b[43m)\u001b[49m\n\u001b[0;32m     48\u001b[0m np\u001b[38;5;241m.\u001b[39msave(\u001b[38;5;124m'\u001b[39m\u001b[38;5;124mx_vals_last_200.npy\u001b[39m\u001b[38;5;124m'\u001b[39m, x_vals_end)\n\u001b[0;32m     49\u001b[0m np\u001b[38;5;241m.\u001b[39msave(\u001b[38;5;124m'\u001b[39m\u001b[38;5;124mC_vals_last_200.npy\u001b[39m\u001b[38;5;124m'\u001b[39m, C_vals_end)\n",
      "Cell \u001b[1;32mIn [62], line 22\u001b[0m, in \u001b[0;36mcharacteristic_curve_last_200\u001b[1;34m()\u001b[0m\n\u001b[0;32m     20\u001b[0m \u001b[38;5;66;03m# now loop over the rest of the C values\u001b[39;00m\n\u001b[0;32m     21\u001b[0m \u001b[38;5;28;01mfor\u001b[39;00m i \u001b[38;5;129;01min\u001b[39;00m tqdm(\u001b[38;5;28mrange\u001b[39m(\u001b[38;5;241m802\u001b[39m, \u001b[38;5;28mlen\u001b[39m(C_vals))):\n\u001b[1;32m---> 22\u001b[0m     x1, x2 \u001b[38;5;241m=\u001b[39m \u001b[43mF_rough_search\u001b[49m\u001b[43m(\u001b[49m\u001b[43mx_vals\u001b[49m\u001b[43m[\u001b[49m\u001b[43mi\u001b[49m\u001b[38;5;241;43m-\u001b[39;49m\u001b[38;5;241;43m1\u001b[39;49m\u001b[43m]\u001b[49m\u001b[43m,\u001b[49m\u001b[43m \u001b[49m\u001b[43mxincx\u001b[49m\u001b[43m,\u001b[49m\u001b[43m \u001b[49m\u001b[43mC_vals\u001b[49m\u001b[43m[\u001b[49m\u001b[43mi\u001b[49m\u001b[43m]\u001b[49m\u001b[43m)\u001b[49m\n\u001b[0;32m     23\u001b[0m     \u001b[38;5;28mprint\u001b[39m(\u001b[38;5;124m'\u001b[39m\u001b[38;5;124mx1, x2: \u001b[39m\u001b[38;5;124m'\u001b[39m, x1, x2, \u001b[38;5;124m'\u001b[39m\u001b[38;5;124mC = \u001b[39m\u001b[38;5;124m'\u001b[39m, C_vals[i], \u001b[38;5;124m'\u001b[39m\u001b[38;5;124mi = \u001b[39m\u001b[38;5;124m'\u001b[39m, i)\n\u001b[0;32m     24\u001b[0m     \u001b[38;5;28;01mif\u001b[39;00m x1 \u001b[38;5;241m-\u001b[39m x_vals[i\u001b[38;5;241m-\u001b[39m\u001b[38;5;241m1\u001b[39m] \u001b[38;5;241m>\u001b[39m \u001b[38;5;241m0.1\u001b[39m:\n",
      "Cell \u001b[1;32mIn [10], line 17\u001b[0m, in \u001b[0;36mF_rough_search\u001b[1;34m(x0, x_inc, C)\u001b[0m\n\u001b[0;32m     15\u001b[0m     x2 \u001b[38;5;241m+\u001b[39m\u001b[38;5;241m=\u001b[39m x_inc\n\u001b[0;32m     16\u001b[0m     F1 \u001b[38;5;241m=\u001b[39m F2\n\u001b[1;32m---> 17\u001b[0m     F2 \u001b[38;5;241m=\u001b[39m \u001b[43mF\u001b[49m\u001b[43m(\u001b[49m\u001b[43mx2\u001b[49m\u001b[43m,\u001b[49m\u001b[43m \u001b[49m\u001b[43mC\u001b[49m\u001b[43m)\u001b[49m\n\u001b[0;32m     18\u001b[0m \u001b[38;5;28;01mreturn\u001b[39;00m x1, x2\n",
      "Cell \u001b[1;32mIn [60], line 20\u001b[0m, in \u001b[0;36mF\u001b[1;34m(x, C)\u001b[0m\n\u001b[0;32m     16\u001b[0m refinement_fine \u001b[38;5;241m=\u001b[39m \u001b[38;5;241m300\u001b[39m\n\u001b[0;32m     17\u001b[0m tol \u001b[38;5;241m=\u001b[39m \u001b[38;5;241m1e-2\u001b[39m\n\u001b[0;32m     19\u001b[0m newInitial, TimeDuration,_ \u001b[38;5;241m=\u001b[39m \\\n\u001b[1;32m---> 20\u001b[0m     \u001b[43mpoincare_map_solve_ivp_R3BP\u001b[49m\u001b[43m(\u001b[49m\u001b[38;5;28;43;01mlambda\u001b[39;49;00m\u001b[43m \u001b[49m\u001b[43mt\u001b[49m\u001b[43m,\u001b[49m\u001b[43m \u001b[49m\u001b[43mX\u001b[49m\u001b[43m:\u001b[49m\u001b[43m \u001b[49m\u001b[43mODE_R3BP\u001b[49m\u001b[43m(\u001b[49m\u001b[43mt\u001b[49m\u001b[43m,\u001b[49m\u001b[43m \u001b[49m\u001b[43mmu\u001b[49m\u001b[43m,\u001b[49m\u001b[43m \u001b[49m\u001b[43mX\u001b[49m\u001b[43m)\u001b[49m\u001b[43m,\u001b[49m\u001b[43m \u001b[49m\n\u001b[0;32m     21\u001b[0m \u001b[43m                                \u001b[49m\u001b[43minit_cond\u001b[49m\u001b[43m,\u001b[49m\u001b[43m \u001b[49m\n\u001b[0;32m     22\u001b[0m \u001b[43m                                \u001b[49m\u001b[43miregion\u001b[49m\u001b[43m,\u001b[49m\u001b[43m \u001b[49m\u001b[43mdt\u001b[49m\u001b[43m,\u001b[49m\u001b[43m \u001b[49m\u001b[43mt_span\u001b[49m\u001b[43m,\u001b[49m\u001b[43m \u001b[49m\u001b[43mmu\u001b[49m\u001b[43m,\u001b[49m\u001b[43m \u001b[49m\n\u001b[0;32m     23\u001b[0m \u001b[43m                                \u001b[49m\u001b[43minit_search\u001b[49m\u001b[43m \u001b[49m\u001b[38;5;241;43m=\u001b[39;49m\u001b[43m \u001b[49m\u001b[43mrefinement\u001b[49m\u001b[43m,\u001b[49m\u001b[43m \u001b[49m\n\u001b[0;32m     24\u001b[0m \u001b[43m                                \u001b[49m\u001b[43mrefinement\u001b[49m\u001b[43m \u001b[49m\u001b[38;5;241;43m=\u001b[39;49m\u001b[43m \u001b[49m\u001b[43mrefinement_fine\u001b[49m\u001b[43m,\u001b[49m\u001b[43m \u001b[49m\n\u001b[0;32m     25\u001b[0m \u001b[43m                                \u001b[49m\u001b[43minit_tol\u001b[49m\u001b[38;5;241;43m=\u001b[39;49m\u001b[38;5;241;43m1e-5\u001b[39;49m\u001b[43m,\u001b[49m\n\u001b[0;32m     26\u001b[0m \u001b[43m                                \u001b[49m\u001b[43mnewton_tol\u001b[49m\u001b[43m \u001b[49m\u001b[38;5;241;43m=\u001b[39;49m\u001b[43m \u001b[49m\u001b[43mtol\u001b[49m\u001b[43m)\u001b[49m\n\u001b[0;32m     28\u001b[0m \u001b[38;5;28;01mreturn\u001b[39;00m newInitial[\u001b[38;5;241m2\u001b[39m]\n",
      "File \u001b[1;32mC:\\Users/rannu/OneDrive - NTNU/Desktop/VsPython/Spain/NMfDS/Assignments/Ass7\\PoincareR3BP.py:64\u001b[0m, in \u001b[0;36mpoincare_map_solve_ivp_R3BP\u001b[1;34m(ODE_R3BP, initial_conditions, dir, step, t_span, mu, init_search, init_tol, refinement, newton_tol)\u001b[0m\n\u001b[0;32m     62\u001b[0m \u001b[38;5;66;03m# Procedure to compute the exact time of the crossing\u001b[39;00m\n\u001b[0;32m     63\u001b[0m \u001b[38;5;28;01mfor\u001b[39;00m i \u001b[38;5;129;01min\u001b[39;00m \u001b[38;5;28mrange\u001b[39m(refinement):\n\u001b[1;32m---> 64\u001b[0m     solution \u001b[38;5;241m=\u001b[39m \u001b[43mODE_solver\u001b[49m\u001b[43m(\u001b[49m\u001b[43mODE_R3BP\u001b[49m\u001b[43m,\u001b[49m\u001b[43m \u001b[49m\u001b[43minitial_conditions\u001b[49m\u001b[43m,\u001b[49m\u001b[43m \u001b[49m\u001b[43mtime\u001b[49m\u001b[43m,\u001b[49m\u001b[43m \u001b[49m\u001b[38;5;241;43m1000\u001b[39;49m\u001b[43m,\u001b[49m\n\u001b[0;32m     65\u001b[0m \u001b[43m                          \u001b[49m\u001b[43mtol\u001b[49m\u001b[43m \u001b[49m\u001b[38;5;241;43m=\u001b[39;49m\u001b[43m \u001b[49m\u001b[43minit_tol\u001b[49m\u001b[43m,\u001b[49m\n\u001b[0;32m     66\u001b[0m \u001b[43m                          \u001b[49m\u001b[43mhamiltonian\u001b[49m\u001b[38;5;241;43m=\u001b[39;49m\u001b[38;5;28;43;01mlambda\u001b[39;49;00m\u001b[43m \u001b[49m\u001b[43mX\u001b[49m\u001b[43m:\u001b[49m\u001b[43m \u001b[49m\u001b[43m\\\u001b[49m\n\u001b[0;32m     67\u001b[0m \u001b[43m                            \u001b[49m\u001b[43mJacobi_first_integral\u001b[49m\u001b[43m(\u001b[49m\u001b[43mmu\u001b[49m\u001b[43m,\u001b[49m\u001b[43m \u001b[49m\u001b[43mX\u001b[49m\u001b[43m[\u001b[49m\u001b[38;5;241;43m0\u001b[39;49m\u001b[43m]\u001b[49m\u001b[43m,\u001b[49m\u001b[43m \u001b[49m\u001b[43mX\u001b[49m\u001b[43m[\u001b[49m\u001b[38;5;241;43m1\u001b[39;49m\u001b[43m]\u001b[49m\u001b[43m,\u001b[49m\n\u001b[0;32m     68\u001b[0m \u001b[43m                                                    \u001b[49m\u001b[43mX\u001b[49m\u001b[43m[\u001b[49m\u001b[38;5;241;43m2\u001b[39;49m\u001b[43m]\u001b[49m\u001b[43m,\u001b[49m\u001b[43m \u001b[49m\u001b[43mX\u001b[49m\u001b[43m[\u001b[49m\u001b[38;5;241;43m3\u001b[39;49m\u001b[43m]\u001b[49m\u001b[43m)\u001b[49m\u001b[43m)\u001b[49m\n\u001b[0;32m     69\u001b[0m     Y \u001b[38;5;241m=\u001b[39m solution\u001b[38;5;241m.\u001b[39my\u001b[38;5;241m.\u001b[39mT\n\u001b[0;32m     70\u001b[0m     \u001b[38;5;66;03m# One iteration of Newton's method.\u001b[39;00m\n",
      "File \u001b[1;32mC:\\Users/rannu/OneDrive - NTNU/Desktop/VsPython/Spain/NMfDS/Assignments/Ass6\\custom_ODE_solver.py:19\u001b[0m, in \u001b[0;36mODE_solver\u001b[1;34m(func, x0, t_max, eval_pts, tol, t_min, method, hamiltonian)\u001b[0m\n\u001b[0;32m      4\u001b[0m \u001b[38;5;28;01mdef\u001b[39;00m \u001b[38;5;21mODE_solver\u001b[39m(func, x0, t_max, eval_pts, tol\u001b[38;5;241m=\u001b[39m\u001b[38;5;241m1e-12\u001b[39m, t_min\u001b[38;5;241m=\u001b[39m\u001b[38;5;241m0\u001b[39m, method\u001b[38;5;241m=\u001b[39m\u001b[38;5;124m'\u001b[39m\u001b[38;5;124mDOP853\u001b[39m\u001b[38;5;124m'\u001b[39m, hamiltonian\u001b[38;5;241m=\u001b[39m\u001b[38;5;241m0\u001b[39m):\n\u001b[0;32m      5\u001b[0m     \u001b[38;5;66;03m# Variable explanation:\u001b[39;00m\n\u001b[0;32m      6\u001b[0m     \u001b[38;5;66;03m# func: the function f in the system of ODEs\u001b[39;00m\n\u001b[1;32m   (...)\u001b[0m\n\u001b[0;32m     14\u001b[0m \n\u001b[0;32m     15\u001b[0m     \u001b[38;5;66;03m# RETURNS: the solution of the system of ODEs as a scipy.integrate.solve_ivp object\u001b[39;00m\n\u001b[0;32m     17\u001b[0m     t_eval \u001b[38;5;241m=\u001b[39m np\u001b[38;5;241m.\u001b[39mlinspace(t_min, t_max, eval_pts)\n\u001b[1;32m---> 19\u001b[0m     sol \u001b[38;5;241m=\u001b[39m \u001b[43msp\u001b[49m\u001b[38;5;241;43m.\u001b[39;49m\u001b[43mintegrate\u001b[49m\u001b[38;5;241;43m.\u001b[39;49m\u001b[43msolve_ivp\u001b[49m\u001b[43m(\u001b[49m\n\u001b[0;32m     20\u001b[0m \u001b[43m        \u001b[49m\u001b[43mfunc\u001b[49m\u001b[43m,\u001b[49m\u001b[43m \u001b[49m\u001b[43m[\u001b[49m\u001b[43mt_min\u001b[49m\u001b[43m,\u001b[49m\u001b[43m \u001b[49m\u001b[43mt_max\u001b[49m\u001b[43m]\u001b[49m\u001b[43m,\u001b[49m\u001b[43m \u001b[49m\u001b[43mx0\u001b[49m\u001b[43m,\u001b[49m\u001b[43m \u001b[49m\u001b[43mmethod\u001b[49m\u001b[38;5;241;43m=\u001b[39;49m\u001b[43mmethod\u001b[49m\u001b[43m,\u001b[49m\u001b[43m \u001b[49m\n\u001b[0;32m     21\u001b[0m \u001b[43m        \u001b[49m\u001b[43mt_eval\u001b[49m\u001b[38;5;241;43m=\u001b[39;49m\u001b[43mt_eval\u001b[49m\u001b[43m,\u001b[49m\u001b[43m \u001b[49m\u001b[43matol\u001b[49m\u001b[38;5;241;43m=\u001b[39;49m\u001b[43mtol\u001b[49m\u001b[43m,\u001b[49m\u001b[43m \u001b[49m\u001b[43mrtol\u001b[49m\u001b[38;5;241;43m=\u001b[39;49m\u001b[43mtol\u001b[49m\u001b[43m)\u001b[49m\n\u001b[0;32m     23\u001b[0m     \u001b[38;5;66;03m# Check if the hamiltonian remains constant for all points, by checking the error. break iff error > tol\u001b[39;00m\n\u001b[0;32m     24\u001b[0m     \u001b[38;5;66;03m# Also chek the determinant of the matrix [[x3, x4], [x5, x6]]\u001b[39;00m\n\u001b[0;32m     25\u001b[0m     \u001b[38;5;66;03m# if hamiltonian == 0:\u001b[39;00m\n\u001b[1;32m   (...)\u001b[0m\n\u001b[0;32m     33\u001b[0m     \u001b[38;5;66;03m#             print(\"Hamiltonian at x = \", hamiltonian(sol.y[:, i]))\u001b[39;00m\n\u001b[0;32m     34\u001b[0m     \u001b[38;5;66;03m#             break\u001b[39;00m\n\u001b[0;32m     35\u001b[0m     \u001b[38;5;28;01mreturn\u001b[39;00m sol\n",
      "File \u001b[1;32mc:\\Users\\rannu\\OneDrive - NTNU\\Desktop\\VsPython\\ntnusession\\lib\\site-packages\\scipy\\integrate\\_ivp\\ivp.py:589\u001b[0m, in \u001b[0;36msolve_ivp\u001b[1;34m(fun, t_span, y0, method, t_eval, dense_output, events, vectorized, args, **options)\u001b[0m\n\u001b[0;32m    587\u001b[0m status \u001b[38;5;241m=\u001b[39m \u001b[38;5;28;01mNone\u001b[39;00m\n\u001b[0;32m    588\u001b[0m \u001b[38;5;28;01mwhile\u001b[39;00m status \u001b[38;5;129;01mis\u001b[39;00m \u001b[38;5;28;01mNone\u001b[39;00m:\n\u001b[1;32m--> 589\u001b[0m     message \u001b[38;5;241m=\u001b[39m \u001b[43msolver\u001b[49m\u001b[38;5;241;43m.\u001b[39;49m\u001b[43mstep\u001b[49m\u001b[43m(\u001b[49m\u001b[43m)\u001b[49m\n\u001b[0;32m    591\u001b[0m     \u001b[38;5;28;01mif\u001b[39;00m solver\u001b[38;5;241m.\u001b[39mstatus \u001b[38;5;241m==\u001b[39m \u001b[38;5;124m'\u001b[39m\u001b[38;5;124mfinished\u001b[39m\u001b[38;5;124m'\u001b[39m:\n\u001b[0;32m    592\u001b[0m         status \u001b[38;5;241m=\u001b[39m \u001b[38;5;241m0\u001b[39m\n",
      "File \u001b[1;32mc:\\Users\\rannu\\OneDrive - NTNU\\Desktop\\VsPython\\ntnusession\\lib\\site-packages\\scipy\\integrate\\_ivp\\base.py:181\u001b[0m, in \u001b[0;36mOdeSolver.step\u001b[1;34m(self)\u001b[0m\n\u001b[0;32m    179\u001b[0m \u001b[38;5;28;01melse\u001b[39;00m:\n\u001b[0;32m    180\u001b[0m     t \u001b[38;5;241m=\u001b[39m \u001b[38;5;28mself\u001b[39m\u001b[38;5;241m.\u001b[39mt\n\u001b[1;32m--> 181\u001b[0m     success, message \u001b[38;5;241m=\u001b[39m \u001b[38;5;28;43mself\u001b[39;49m\u001b[38;5;241;43m.\u001b[39;49m\u001b[43m_step_impl\u001b[49m\u001b[43m(\u001b[49m\u001b[43m)\u001b[49m\n\u001b[0;32m    183\u001b[0m     \u001b[38;5;28;01mif\u001b[39;00m \u001b[38;5;129;01mnot\u001b[39;00m success:\n\u001b[0;32m    184\u001b[0m         \u001b[38;5;28mself\u001b[39m\u001b[38;5;241m.\u001b[39mstatus \u001b[38;5;241m=\u001b[39m \u001b[38;5;124m'\u001b[39m\u001b[38;5;124mfailed\u001b[39m\u001b[38;5;124m'\u001b[39m\n",
      "File \u001b[1;32mc:\\Users\\rannu\\OneDrive - NTNU\\Desktop\\VsPython\\ntnusession\\lib\\site-packages\\scipy\\integrate\\_ivp\\rk.py:144\u001b[0m, in \u001b[0;36mRungeKutta._step_impl\u001b[1;34m(self)\u001b[0m\n\u001b[0;32m    141\u001b[0m h \u001b[38;5;241m=\u001b[39m t_new \u001b[38;5;241m-\u001b[39m t\n\u001b[0;32m    142\u001b[0m h_abs \u001b[38;5;241m=\u001b[39m np\u001b[38;5;241m.\u001b[39mabs(h)\n\u001b[1;32m--> 144\u001b[0m y_new, f_new \u001b[38;5;241m=\u001b[39m \u001b[43mrk_step\u001b[49m\u001b[43m(\u001b[49m\u001b[38;5;28;43mself\u001b[39;49m\u001b[38;5;241;43m.\u001b[39;49m\u001b[43mfun\u001b[49m\u001b[43m,\u001b[49m\u001b[43m \u001b[49m\u001b[43mt\u001b[49m\u001b[43m,\u001b[49m\u001b[43m \u001b[49m\u001b[43my\u001b[49m\u001b[43m,\u001b[49m\u001b[43m \u001b[49m\u001b[38;5;28;43mself\u001b[39;49m\u001b[38;5;241;43m.\u001b[39;49m\u001b[43mf\u001b[49m\u001b[43m,\u001b[49m\u001b[43m \u001b[49m\u001b[43mh\u001b[49m\u001b[43m,\u001b[49m\u001b[43m \u001b[49m\u001b[38;5;28;43mself\u001b[39;49m\u001b[38;5;241;43m.\u001b[39;49m\u001b[43mA\u001b[49m\u001b[43m,\u001b[49m\n\u001b[0;32m    145\u001b[0m \u001b[43m                       \u001b[49m\u001b[38;5;28;43mself\u001b[39;49m\u001b[38;5;241;43m.\u001b[39;49m\u001b[43mB\u001b[49m\u001b[43m,\u001b[49m\u001b[43m \u001b[49m\u001b[38;5;28;43mself\u001b[39;49m\u001b[38;5;241;43m.\u001b[39;49m\u001b[43mC\u001b[49m\u001b[43m,\u001b[49m\u001b[43m \u001b[49m\u001b[38;5;28;43mself\u001b[39;49m\u001b[38;5;241;43m.\u001b[39;49m\u001b[43mK\u001b[49m\u001b[43m)\u001b[49m\n\u001b[0;32m    146\u001b[0m scale \u001b[38;5;241m=\u001b[39m atol \u001b[38;5;241m+\u001b[39m np\u001b[38;5;241m.\u001b[39mmaximum(np\u001b[38;5;241m.\u001b[39mabs(y), np\u001b[38;5;241m.\u001b[39mabs(y_new)) \u001b[38;5;241m*\u001b[39m rtol\n\u001b[0;32m    147\u001b[0m error_norm \u001b[38;5;241m=\u001b[39m \u001b[38;5;28mself\u001b[39m\u001b[38;5;241m.\u001b[39m_estimate_error_norm(\u001b[38;5;28mself\u001b[39m\u001b[38;5;241m.\u001b[39mK, h, scale)\n",
      "File \u001b[1;32mc:\\Users\\rannu\\OneDrive - NTNU\\Desktop\\VsPython\\ntnusession\\lib\\site-packages\\scipy\\integrate\\_ivp\\rk.py:63\u001b[0m, in \u001b[0;36mrk_step\u001b[1;34m(fun, t, y, f, h, A, B, C, K)\u001b[0m\n\u001b[0;32m     61\u001b[0m K[\u001b[38;5;241m0\u001b[39m] \u001b[38;5;241m=\u001b[39m f\n\u001b[0;32m     62\u001b[0m \u001b[38;5;28;01mfor\u001b[39;00m s, (a, c) \u001b[38;5;129;01min\u001b[39;00m \u001b[38;5;28menumerate\u001b[39m(\u001b[38;5;28mzip\u001b[39m(A[\u001b[38;5;241m1\u001b[39m:], C[\u001b[38;5;241m1\u001b[39m:]), start\u001b[38;5;241m=\u001b[39m\u001b[38;5;241m1\u001b[39m):\n\u001b[1;32m---> 63\u001b[0m     dy \u001b[38;5;241m=\u001b[39m \u001b[43mnp\u001b[49m\u001b[38;5;241;43m.\u001b[39;49m\u001b[43mdot\u001b[49m\u001b[43m(\u001b[49m\u001b[43mK\u001b[49m\u001b[43m[\u001b[49m\u001b[43m:\u001b[49m\u001b[43ms\u001b[49m\u001b[43m]\u001b[49m\u001b[38;5;241;43m.\u001b[39;49m\u001b[43mT\u001b[49m\u001b[43m,\u001b[49m\u001b[43m \u001b[49m\u001b[43ma\u001b[49m\u001b[43m[\u001b[49m\u001b[43m:\u001b[49m\u001b[43ms\u001b[49m\u001b[43m]\u001b[49m\u001b[43m)\u001b[49m \u001b[38;5;241m*\u001b[39m h\n\u001b[0;32m     64\u001b[0m     K[s] \u001b[38;5;241m=\u001b[39m fun(t \u001b[38;5;241m+\u001b[39m c \u001b[38;5;241m*\u001b[39m h, y \u001b[38;5;241m+\u001b[39m dy)\n\u001b[0;32m     66\u001b[0m y_new \u001b[38;5;241m=\u001b[39m y \u001b[38;5;241m+\u001b[39m h \u001b[38;5;241m*\u001b[39m np\u001b[38;5;241m.\u001b[39mdot(K[:\u001b[38;5;241m-\u001b[39m\u001b[38;5;241m1\u001b[39m]\u001b[38;5;241m.\u001b[39mT, B)\n",
      "File \u001b[1;32m<__array_function__ internals>:180\u001b[0m, in \u001b[0;36mdot\u001b[1;34m(*args, **kwargs)\u001b[0m\n",
      "\u001b[1;31mKeyboardInterrupt\u001b[0m: "
     ]
    }
   ],
   "source": [
    "from tqdm import tqdm\n",
    "def characteristic_curve_last_200():\n",
    "    mu = 0.1\n",
    "    cmin = 2.1\n",
    "    cmax = 3.189\n",
    "    xincC = 1e-3\n",
    "    xincx = 1e-3-1e-5 \n",
    "    C_vals = np.arange(cmax, cmin, -xincC)\n",
    "    x_vals = np.zeros(len(C_vals))\n",
    "    print('C_vals = ', C_vals, 'number of C values = ', len(C_vals))\n",
    "    # first initial search for the root\n",
    "\n",
    "    x_0 = loaded_arr_x_vals_first_800[800]\n",
    "    \n",
    "    x1, x2 = F_rough_search(x_0, xincx, C_vals[801])\n",
    "    x_root = F_refine_bisection(x1, x2, C_vals[801])\n",
    "    x_vals[801] = x_root\n",
    "    x_fails = []\n",
    "    print(\"initial search done\")\n",
    "    # now loop over the rest of the C values\n",
    "    for i in tqdm(range(802, len(C_vals))):\n",
    "        x1, x2 = F_rough_search(x_vals[i-1], xincx, C_vals[i])\n",
    "        print('x1, x2: ', x1, x2, 'C = ', C_vals[i], 'i = ', i)\n",
    "        if x1 - x_vals[i-1] > 0.1:\n",
    "            x_vals[i] = x_vals[i-1]\n",
    "            x_fails.append(i)\n",
    "        else:\n",
    "            x_root = F_refine_bisection(x1, x2, C_vals[i])\n",
    "            print('x_root = ', x_root)\n",
    "            x_vals[i] = x_root\n",
    "        if i == 900:\n",
    "            np.save('x_vals_last_800_to_900.npy', x_vals)\n",
    "            np.save('C_vals_last_800_to_900.npy', C_vals)\n",
    "        if i == 950:\n",
    "            np.save('x_vals_last_800_to_950.npy', x_vals)\n",
    "            np.save('C_vals_last_800_to_950.npy', C_vals)\n",
    "        if i == 1000:\n",
    "            np.save('x_vals_last_800_to_1000.npy', x_vals)\n",
    "            np.save('C_vals_last_800_to_1000.npy', C_vals)\n",
    "        if i == 1050:\n",
    "            np.save('x_vals_last_800_to_1050.npy', x_vals)\n",
    "            np.save('C_vals_last_800_to_1050.npy', C_vals)\n",
    "\n",
    "    return C_vals, x_vals, x_fails\n",
    "# 12\n",
    "C_vals_end, x_vals_end, x_fails = characteristic_curve_last_200()\n",
    "\n",
    "np.save('x_vals_last_200.npy', x_vals_end)\n",
    "np.save('C_vals_last_200.npy', C_vals_end)"
   ]
  }
 ],
 "metadata": {
  "kernelspec": {
   "display_name": "ntnusession",
   "language": "python",
   "name": "python3"
  },
  "language_info": {
   "codemirror_mode": {
    "name": "ipython",
    "version": 3
   },
   "file_extension": ".py",
   "mimetype": "text/x-python",
   "name": "python",
   "nbconvert_exporter": "python",
   "pygments_lexer": "ipython3",
   "version": "3.10.11"
  }
 },
 "nbformat": 4,
 "nbformat_minor": 2
}
